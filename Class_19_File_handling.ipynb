{
 "cells": [
  {
   "cell_type": "code",
   "execution_count": null,
   "id": "882a0be8",
   "metadata": {},
   "outputs": [],
   "source": [
    "# Iterators Generators\n",
    "# Modules"
   ]
  },
  {
   "cell_type": "code",
   "execution_count": null,
   "id": "6b901ffc",
   "metadata": {},
   "outputs": [],
   "source": [
    "# File Handling\n",
    "# Exception Handling"
   ]
  },
  {
   "cell_type": "code",
   "execution_count": null,
   "id": "2192d2ca",
   "metadata": {},
   "outputs": [],
   "source": [
    "Text File \n",
    "Binary File\n",
    "\n",
    "Mode on text file\n",
    "1. Read mode - 'r'\n",
    "2. Write mode - 'w'\n",
    "3. Append mode - 'a'\n",
    "4. Read and write mode - 'r+'\n",
    "5. Write and read mode - 'w+'\n",
    "6. Append and read mode - 'a+'\n",
    "\n",
    "\n",
    "Mode on Binary file\n",
    "1. Read mode - 'rb'\n",
    "2. Write mode - 'wb'\n",
    "3. Append mode - 'ab'\n",
    "4. Read and write mode - 'r+b'\n",
    "5. Write and read mode - 'w+b'\n",
    "6. Append and read mode - 'a+b'\n",
    "\n",
    "\n"
   ]
  },
  {
   "cell_type": "code",
   "execution_count": null,
   "id": "026f4c59",
   "metadata": {},
   "outputs": [],
   "source": [
    "# open\n",
    "# with\n",
    "# close\n",
    "# read()\n",
    "# read(no of char)\n",
    "# readline()\n",
    "# readlines()\n",
    "# write()\n",
    "# writelines()"
   ]
  },
  {
   "cell_type": "code",
   "execution_count": 1,
   "id": "15a6f84a",
   "metadata": {},
   "outputs": [],
   "source": [
    "f =open('abc.txt', 'r')\n",
    "f.close()"
   ]
  },
  {
   "cell_type": "code",
   "execution_count": 8,
   "id": "3a1f96f0",
   "metadata": {},
   "outputs": [
    {
     "name": "stdout",
     "output_type": "stream",
     "text": [
      "Current cusrsor position 0\n",
      "Python uses dynamic typing and a combination of reference counting and a cycle-detecting garbage collector for memory management.[76] It uses dynamic name resolution (late binding), which binds method and variable names during program execution.\n",
      "\n",
      "Its design offers some support for functional programming in the Lisp tradition. It has filter,mapandreduce functions; list comprehensions, dictionaries, sets, and generator expressions.[77] The standard library has two modules (itertools and functools) that implement functional tools borrowed from Haskell and Standard ML.[78]\n",
      "\n",
      "Its core philosophy is summarized in the Zen of Python (PEP 20), which includes aphorisms such as:[79]\n",
      "\n",
      "Beautiful is better than ugly.\n",
      "Explicit is better than implicit.\n",
      "Simple is better than complex.\n",
      "Complex is better than complicated.\n",
      "Readability counts.\n"
     ]
    },
    {
     "ename": "UnsupportedOperation",
     "evalue": "not writable",
     "output_type": "error",
     "traceback": [
      "\u001b[1;31m---------------------------------------------------------------------------\u001b[0m",
      "\u001b[1;31mUnsupportedOperation\u001b[0m                      Traceback (most recent call last)",
      "Input \u001b[1;32mIn [8]\u001b[0m, in \u001b[0;36m<cell line: 9>\u001b[1;34m()\u001b[0m\n\u001b[0;32m      7\u001b[0m \u001b[38;5;28mprint\u001b[39m(\u001b[38;5;124m'\u001b[39m\u001b[38;5;124mCurrent cusrsor position\u001b[39m\u001b[38;5;124m'\u001b[39m, f\u001b[38;5;241m.\u001b[39mtell())\n\u001b[0;32m      8\u001b[0m \u001b[38;5;28mprint\u001b[39m(f\u001b[38;5;241m.\u001b[39mread())\n\u001b[1;32m----> 9\u001b[0m \u001b[43mf\u001b[49m\u001b[38;5;241;43m.\u001b[39;49m\u001b[43mwrite\u001b[49m\u001b[43m(\u001b[49m\u001b[38;5;124;43m'\u001b[39;49m\u001b[38;5;124;43mHello World\u001b[39;49m\u001b[38;5;124;43m'\u001b[39;49m\u001b[43m)\u001b[49m\n\u001b[0;32m     10\u001b[0m f\u001b[38;5;241m.\u001b[39mclose()\n",
      "\u001b[1;31mUnsupportedOperation\u001b[0m: not writable"
     ]
    }
   ],
   "source": [
    "# read mode - 'r'\n",
    "# If the file is existing then it will place the cursor in the begining of the file and opens the file in read mode\n",
    "# If the file is not existing - FileNotFoundError\n",
    "# Allowed only to read but not allowed to write\n",
    "\n",
    "f =open('abc.txt', 'r')\n",
    "print('Current cusrsor position', f.tell())\n",
    "print(f.read())\n",
    "f.write('Hello World')\n",
    "f.close()\n"
   ]
  },
  {
   "cell_type": "code",
   "execution_count": 9,
   "id": "2e524aa0",
   "metadata": {},
   "outputs": [
    {
     "name": "stdout",
     "output_type": "stream",
     "text": [
      "Current cusrsor position 0\n",
      "Python uses dynamic typing and a combination of reference counting and a cycle-detecting garbage collector for memory management.[76] It uses dynamic name resolution (late binding), which binds method and variable names during program execution.\n",
      "\n",
      "Current cusrsor position 246\n"
     ]
    },
    {
     "ename": "UnsupportedOperation",
     "evalue": "not writable",
     "output_type": "error",
     "traceback": [
      "\u001b[1;31m---------------------------------------------------------------------------\u001b[0m",
      "\u001b[1;31mUnsupportedOperation\u001b[0m                      Traceback (most recent call last)",
      "Input \u001b[1;32mIn [9]\u001b[0m, in \u001b[0;36m<cell line: 5>\u001b[1;34m()\u001b[0m\n\u001b[0;32m      3\u001b[0m \u001b[38;5;28mprint\u001b[39m(f\u001b[38;5;241m.\u001b[39mreadline())\n\u001b[0;32m      4\u001b[0m \u001b[38;5;28mprint\u001b[39m(\u001b[38;5;124m'\u001b[39m\u001b[38;5;124mCurrent cusrsor position\u001b[39m\u001b[38;5;124m'\u001b[39m, f\u001b[38;5;241m.\u001b[39mtell())\n\u001b[1;32m----> 5\u001b[0m \u001b[43mf\u001b[49m\u001b[38;5;241;43m.\u001b[39;49m\u001b[43mwrite\u001b[49m\u001b[43m(\u001b[49m\u001b[38;5;124;43m'\u001b[39;49m\u001b[38;5;124;43mHello World\u001b[39;49m\u001b[38;5;124;43m'\u001b[39;49m\u001b[43m)\u001b[49m\n\u001b[0;32m      6\u001b[0m f\u001b[38;5;241m.\u001b[39mclose()\n",
      "\u001b[1;31mUnsupportedOperation\u001b[0m: not writable"
     ]
    }
   ],
   "source": [
    "f =open('abc.txt', 'r')\n",
    "print('Current cusrsor position', f.tell())\n",
    "print(f.readline())\n",
    "print('Current cusrsor position', f.tell())\n",
    "f.write('Hello World')\n",
    "f.close()"
   ]
  },
  {
   "cell_type": "code",
   "execution_count": null,
   "id": "24d7baab",
   "metadata": {},
   "outputs": [],
   "source": [
    "# read mode - 'r'\n",
    "# If the file is existing then it will place the cursor in the begining of the file and opens the file in read mode\n",
    "# If the file is not existing - FileNotFoundError\n",
    "# Allowed only to read but not allowed to write\n",
    "\n",
    "# f = open('abc.txt', 'r')\n",
    "# print('Current Cursor Position', f.tell())\n",
    "# print(f.readline())\n",
    "# print('Current Cursor Position', f.tell())\n",
    "# print(f.read())\n",
    "# f.write('hello')\n",
    "# f.close()\n",
    "\n",
    "# f = open('abc.py', 'r')\n",
    "# f.close()\n",
    "\n",
    "\n",
    "# read and write mode - 'r+'\n",
    "# If the file is existing then it will place the cursor in the begining of the file and opens the file in read mode\n",
    "# If the file is not existing - FileNotFoundError\n",
    "# Allowed to read and write both.\n",
    "\n",
    "f = open('abc.txt', 'r+')\n",
    "print('Current Cursor Position', f.tell())\n",
    "print(f.seek(len(f.readline())))\n",
    "f.write('Hello Python')\n",
    "print('Current Cursor Position', f.tell())\n",
    "print(f.read())\n",
    "f.write('hello')\n",
    "f.close()"
   ]
  },
  {
   "cell_type": "code",
   "execution_count": 10,
   "id": "41c389c5",
   "metadata": {},
   "outputs": [
    {
     "name": "stdout",
     "output_type": "stream",
     "text": [
      "Current Cursor Position 0\n",
      "Python uses dynamic typing and a combination of reference counting and a cycle-detecting garbage collector for memory management.[76] It uses dynamic name resolution (late binding), which binds method and variable names during program execution.\n",
      "\n",
      "Current Cursor Position 246\n",
      "\n",
      "Its design offers some support for functional programming in the Lisp tradition. It has filter,mapandreduce functions; list comprehensions, dictionaries, sets, and generator expressions.[77] The standard library has two modules (itertools and functools) that implement functional tools borrowed from Haskell and Standard ML.[78]\n",
      "\n",
      "Its core philosophy is summarized in the Zen of Python (PEP 20), which includes aphorisms such as:[79]\n",
      "\n",
      "Beautiful is better than ugly.\n",
      "Explicit is better than implicit.\n",
      "Simple is better than complex.\n",
      "Complex is better than complicated.\n",
      "Readability counts.\n"
     ]
    }
   ],
   "source": [
    "f = open('abc.txt', 'r+')\n",
    "print('Current Cursor Position', f.tell())\n",
    "print(f.readline())\n",
    "print('Current Cursor Position', f.tell())\n",
    "print(f.read())\n",
    "f.write('hello')\n",
    "f.close()"
   ]
  },
  {
   "cell_type": "code",
   "execution_count": 13,
   "id": "af77b63d",
   "metadata": {},
   "outputs": [],
   "source": [
    "f = open('abc.txt', 'r+')\n",
    "f.read()\n",
    "f.close()"
   ]
  },
  {
   "cell_type": "code",
   "execution_count": 17,
   "id": "f2d3febd",
   "metadata": {},
   "outputs": [
    {
     "name": "stdout",
     "output_type": "stream",
     "text": [
      "Current Cursor Position 0\n",
      "Python uses dynamic typing and a combination of reference counting and a cycle-detecting garbage collector for memory management.[76] It uses dynamic name resolution (late binding), which binds method and variable names during program execution.\n",
      "\n",
      "Current Cursor Position 246\n",
      "Current Cursor Position 856\n",
      "\n"
     ]
    }
   ],
   "source": [
    "f = open('abc.txt', 'r+')\n",
    "print('Current Cursor Position', f.tell())\n",
    "print(f.readline())\n",
    "print('Current Cursor Position', f.tell())\n",
    "f.write('\\nHello Python')\n",
    "print('Current Cursor Position', f.tell())\n",
    "print(f.read())\n",
    "f.write('hello')\n",
    "f.close()"
   ]
  },
  {
   "cell_type": "code",
   "execution_count": 19,
   "id": "459f2225",
   "metadata": {},
   "outputs": [
    {
     "data": {
      "text/plain": [
       "861"
      ]
     },
     "execution_count": 19,
     "metadata": {},
     "output_type": "execute_result"
    }
   ],
   "source": [
    "f = open('abc.txt', 'r+')\n",
    "f.read()\n",
    "f.tell()"
   ]
  },
  {
   "cell_type": "code",
   "execution_count": 22,
   "id": "9ce9f841",
   "metadata": {},
   "outputs": [],
   "source": [
    "f = open('abc.py', 'w+')\n",
    "f.write('Hello Python')\n",
    "f.write('\\nLearnbay Class')\n",
    "f.close()"
   ]
  },
  {
   "cell_type": "code",
   "execution_count": 2,
   "id": "f734cb1f",
   "metadata": {},
   "outputs": [],
   "source": [
    "with open('python.png', 'rb') as f1:\n",
    "    with open('new.jpeg', 'wb') as f2:\n",
    "        f2.write(f1.read())"
   ]
  },
  {
   "cell_type": "code",
   "execution_count": null,
   "id": "080c5c89",
   "metadata": {},
   "outputs": [],
   "source": [
    "# writelines(['str1\\n', 'str2\\n', 'str3\\n'...])"
   ]
  },
  {
   "cell_type": "code",
   "execution_count": 5,
   "id": "2bbc0a5f",
   "metadata": {},
   "outputs": [
    {
     "name": "stdout",
     "output_type": "stream",
     "text": [
      "['Hello Python\\n', 'Learnbay Class\\n', 'Programming\\n', 'language']\n"
     ]
    }
   ],
   "source": [
    "with open('abc.py', 'r+') as f1:\n",
    "    content = f1.readlines()\n",
    "    print(content)\n",
    "    content.insert(2, '\\n Welcome to Python Prgramming\\n')\n",
    "    f1.seek(0)\n",
    "    f1.writelines(content)"
   ]
  },
  {
   "cell_type": "code",
   "execution_count": null,
   "id": "6c7faf36",
   "metadata": {},
   "outputs": [],
   "source": [
    "read() - reads the whole content of the file and returns a string object\n",
    "read(no of char) - reads the the specified no of characters from the file and returns a string object\n",
    "readline() - reads the current line from current cursor position and returns a string object\n",
    "readlines() - reads the whole content of the file and returns a list of string where each string is a line\n"
   ]
  },
  {
   "cell_type": "code",
   "execution_count": 1,
   "id": "48e8127b",
   "metadata": {},
   "outputs": [
    {
     "name": "stdout",
     "output_type": "stream",
     "text": [
      "Before inserting ['Hello Python\\n', 'Learnbay Class\\n', 'Welcome back Sir, Hope you are feeling well now..\\n', 'Programming\\n', 'language']\n",
      "====================================================\n",
      "After inserting ['Hello Python\\n', 'Learnbay Class\\n', 'Welcome back Sir, Hope you are feeling well now..\\n', 'Welcome back Sir, Hope you are feeling well now..\\n', 'Programming\\n', 'language']\n"
     ]
    }
   ],
   "source": [
    "with open('abc.py', 'r+') as f1:\n",
    "    content = f1.readlines()\n",
    "    print('Before inserting', content)\n",
    "    content.insert(2, 'Welcome back Sir, Hope you are feeling well now..\\n')\n",
    "    print('====================================================')\n",
    "    print('After inserting',content)\n",
    "    f1.seek(0)\n",
    "    f1.writelines(content)"
   ]
  },
  {
   "cell_type": "code",
   "execution_count": null,
   "id": "ca6fcf0e",
   "metadata": {},
   "outputs": [],
   "source": []
  },
  {
   "cell_type": "code",
   "execution_count": null,
   "id": "370381ce",
   "metadata": {},
   "outputs": [],
   "source": []
  },
  {
   "cell_type": "code",
   "execution_count": null,
   "id": "b28cbdae",
   "metadata": {},
   "outputs": [],
   "source": []
  }
 ],
 "metadata": {
  "kernelspec": {
   "display_name": "Python 3 (ipykernel)",
   "language": "python",
   "name": "python3"
  },
  "language_info": {
   "codemirror_mode": {
    "name": "ipython",
    "version": 3
   },
   "file_extension": ".py",
   "mimetype": "text/x-python",
   "name": "python",
   "nbconvert_exporter": "python",
   "pygments_lexer": "ipython3",
   "version": "3.9.12"
  }
 },
 "nbformat": 4,
 "nbformat_minor": 5
}
