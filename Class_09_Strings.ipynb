{
 "cells": [
  {
   "cell_type": "code",
   "execution_count": 1,
   "id": "0ad6ba9d",
   "metadata": {},
   "outputs": [
    {
     "name": "stdout",
     "output_type": "stream",
     "text": [
      "['__add__', '__class__', '__contains__', '__delattr__', '__dir__', '__doc__', '__eq__', '__format__', '__ge__', '__getattribute__', '__getitem__', '__getnewargs__', '__gt__', '__hash__', '__init__', '__init_subclass__', '__iter__', '__le__', '__len__', '__lt__', '__mod__', '__mul__', '__ne__', '__new__', '__reduce__', '__reduce_ex__', '__repr__', '__rmod__', '__rmul__', '__setattr__', '__sizeof__', '__str__', '__subclasshook__', 'capitalize', 'casefold', 'center', 'count', 'encode', 'endswith', 'expandtabs', 'find', 'format', 'format_map', 'index', 'isalnum', 'isalpha', 'isascii', 'isdecimal', 'isdigit', 'isidentifier', 'islower', 'isnumeric', 'isprintable', 'isspace', 'istitle', 'isupper', 'join', 'ljust', 'lower', 'lstrip', 'maketrans', 'partition', 'removeprefix', 'removesuffix', 'replace', 'rfind', 'rindex', 'rjust', 'rpartition', 'rsplit', 'rstrip', 'split', 'splitlines', 'startswith', 'strip', 'swapcase', 'title', 'translate', 'upper', 'zfill']\n"
     ]
    }
   ],
   "source": [
    "# String methods\n",
    "print(dir(str))\n",
    "\n",
    "#  'encode', 'expandtabs', \n",
    "# 'format', 'format_map', 'maketrans', \n",
    "# 'translate', \n",
    "\n",
    "# 'capitalize', 'casefold', 'center', 'count', 'encode', 'endswith', 'expandtabs', 'find', 'format', 'format_map',\n",
    "# 'index', 'isalnum', 'isalpha', 'isascii', 'isdecimal', 'isdigit', 'isidentifier', 'islower', 'isnumeric',\n",
    "# 'isprintable', 'isspace', 'istitle', 'isupper', 'join', 'ljust', 'lower', 'lstrip', 'maketrans', 'partition', \n",
    "# 'removeprefix', 'removesuffix', 'replace', 'rfind', 'rindex', 'rjust', 'rpartition', 'rsplit', 'rstrip', 'split',\n",
    "# 'splitlines', 'startswith', 'strip', 'swapcase', 'title', 'translate', 'upper', 'zfill'\n",
    "\n",
    "\n"
   ]
  },
  {
   "cell_type": "code",
   "execution_count": null,
   "id": "ab5f0f4c",
   "metadata": {},
   "outputs": [],
   "source": [
    "# 'capitalize', 'casefold', 'swapcase', 'title', 'upper', 'lower',\n",
    "my_str = 'this is python class.'\n",
    "\n",
    "# capitalize() - returns a string where the first letter of the sentence is Capitalized\n",
    "# my_str1 = my_str.capitalize()\n",
    "# print(my_str1)\n",
    "# print(my_str)\n",
    "\n",
    "# title - returns a string where the first letter of each word in the sentence is Capitalized\n",
    "# res_str = my_str.title()\n",
    "# print(res_str)\n",
    "\n",
    "# print(my_str[:8] + my_str[8:].capitalize())\n",
    "\n",
    "# upper - returns a string where all letters will be in upper case\n",
    "# res_str = my_str.upper()\n",
    "# print(res_str)\n",
    "\n",
    "my_str = 'This is Python Class'\n",
    "# swapcase - returns a string where it swaps the cases of the charcetrs in the string\n",
    "# res_str = my_str.swapcase()\n",
    "# print(res_str)\n",
    "\n",
    "# res_str1 = my_str.lower()\n",
    "# print(res_str1)\n",
    "# res_str2 = my_str.casefold()\n",
    "# print(res_str2)\n",
    "\n",
    "# my_str = 'fließen'\n",
    "# res_str1 = my_str.lower()    # Ascii characters - 128\n",
    "# print(res_str1)\n",
    "# res_str2 = my_str.casefold() # Unicode\n",
    "# print(res_str2)\n",
    "\n"
   ]
  },
  {
   "cell_type": "code",
   "execution_count": 3,
   "id": "6619fb13",
   "metadata": {},
   "outputs": [],
   "source": [
    "# 'isalnum', 'isalpha', 'isascii', 'isdecimal', 'isdigit', 'isidentifier', 'islower', \n",
    "# 'isnumeric', 'isprintable', 'isspace', 'istitle', 'isupper', 'startswith', 'endswith'\n",
    "# These method returns boolean value, and checks the characters type in string\n",
    "\n",
    "my_str1 = 'Python'\n",
    "my_str2 = 'Python123'\n",
    "my_str3 = '123456'\n",
    "my_str4 = 'Python&^%%$##1234'\n",
    "my_str5 = 'fließen'\n",
    "\n",
    "# isalnum - checks whether the characters are alphabets, numeric or alphanumeric both.\n",
    "# isalpha - checks whether the characters are alphabets\n",
    "\n",
    "# print(my_str1.isalnum())\n",
    "# print(my_str2.isalnum())\n",
    "# print(my_str3.isalnum())\n",
    "# print(my_str4.isalnum())\n",
    "# print(my_str5.isalnum())\n",
    "\n",
    "# print(my_str1.isalpha())\n",
    "# print(my_str2.isalpha())\n",
    "# print(my_str3.isalpha())\n",
    "# print(my_str4.isalpha())\n",
    "# print(my_str5.isalpha())\n",
    "\n",
    "# 'isascii'\n",
    "# print(my_str1.isascii())\n",
    "# print(my_str5.isascii())\n",
    "\n",
    "# 'isdecimal', 'isdigit', isnumeric\n",
    "\n",
    "# print('10.20'.isnumeric())    # Checks all characters are numeric or not\n",
    "# print('10.20'.isdecimal())    # Checks all charcetsr are decimal digits or not - 0-9\n",
    "# print('10.20'.isdigit())      # Check all characters are digit or not\n",
    "\n",
    "\n",
    "# print('109'.isdecimal())\n",
    "# print('0b110101'.isdecimal())\n",
    "\n",
    "# print('1081254'.isdecimal())\n",
    "\n",
    "# print('1092₄'.isdigit())\n",
    "# print('1092₄'.isnumeric())\n",
    "# print('1092₄'.isdecimal())    # Superscript and subscript are not considered as decimal values\n",
    "# print('10⁻¹⁹'.isdigit())\n",
    "# print('10⁻¹⁹'.isnumeric())\n",
    "\n",
    "# print('Ⅰ'.isnumeric())\n",
    "# print('Ⅰ'.isdigit())\n",
    "# print('Ⅰ'.isdecimal())\n",
    "\n",
    "\n",
    "# 'isidentifier' - to check whether the name is a valid identifier or not\n",
    "# my_str1 = 'num1'\n",
    "# my_str2 = '1num'\n",
    "# my_str3 = 'num_1'\n",
    "# my_str4 = 'num$'\n",
    "# my_str5 = 'if'\n",
    "# print(my_str1.isidentifier())\n",
    "# print(my_str2.isidentifier())\n",
    "# print(my_str3.isidentifier())\n",
    "# print(my_str4.isidentifier())\n",
    "# print(my_str5.isidentifier())\n",
    "# import keyword\n",
    "# print(keyword.iskeyword(my_str5))\n",
    "\n",
    "\n",
    "# 'istitle' - Returns True if string is in title case\n",
    "# 'isupper' - Returns True if string is in upper case\n",
    "# 'islower' - Returns True if string is in lower case\n",
    "\n",
    "\n",
    "# 'isprintable' - It checks whether all characters are in printable format or not\n",
    "# print('Hello')\n",
    "# print('Python')\n",
    "# print('hello Python'.isprintable())\n",
    "# print('helloPython\\\\n'.isprintable())\n",
    "\n",
    "# print('hello\\\\nPython')\n",
    "# print('hello Python')\n",
    "\n",
    "# 'isspace' - check whether all characters are space character or not\n",
    "# my_str = '\\n\\t\\v  \\n\\t'\n",
    "# print(my_str.isspace())\n",
    "\n",
    "# 'startswith', 'endswith'\n",
    "my_str = 'This is Python class'\n",
    "# print(my_str.startswith('T'))\n",
    "# print(my_str.startswith('c'))\n",
    "# print(my_str.startswith('Th'))\n",
    "# print(my_str.startswith('P', 8))\n",
    "# print(my_str.startswith('c', 8))\n",
    "# print(my_str.startswith('Pyt', 8, 13))\n",
    "# print(my_str.startswith('Pyt', 8, 9))\n",
    "# print(my_str[8:13].startswith('Pyt'))\n",
    "\n",
    "# print(my_str.endswith('s'))\n",
    "# print(my_str.endswith('cs'))\n",
    "# print(my_str.endswith('lass'))\n",
    "# print(my_str.endswith('s', 8))\n",
    "# print(my_str.endswith('c', 8))\n",
    "# print(my_str.endswith('on', 8, 14))\n",
    "# print(my_str.endswith('Pyt', 8, 9))\n",
    "# print(my_str[8:14].endswith('on'))\n",
    "\n"
   ]
  },
  {
   "cell_type": "code",
   "execution_count": 4,
   "id": "7b02f6ad",
   "metadata": {},
   "outputs": [
    {
     "data": {
      "text/plain": [
       "True"
      ]
     },
     "execution_count": 4,
     "metadata": {},
     "output_type": "execute_result"
    }
   ],
   "source": [
    "'Ⅰ'.isnumeric()"
   ]
  },
  {
   "cell_type": "code",
   "execution_count": null,
   "id": "4be64eec",
   "metadata": {},
   "outputs": [],
   "source": [
    "# 'count',\n",
    "# my_str = 'peter piper picked a peck of pickled peppers'\n",
    "# print(my_str.count('p'))\n",
    "# print(my_str.count('pe'))\n",
    "# print(my_str.count('pe', 15, 35))\n"
   ]
  },
  {
   "cell_type": "code",
   "execution_count": 8,
   "id": "eeb553de",
   "metadata": {},
   "outputs": [
    {
     "name": "stdout",
     "output_type": "stream",
     "text": [
      "9\n",
      "4\n",
      "3\n"
     ]
    }
   ],
   "source": [
    "'count',\n",
    "my_str = 'peter piper picked a peck of pickled peppers'\n",
    "print(my_str.count('p'))\n",
    "print(my_str[:15].count('p'))\n",
    "print(my_str.count('p',1,19))"
   ]
  },
  {
   "cell_type": "code",
   "execution_count": null,
   "id": "23909953",
   "metadata": {},
   "outputs": [],
   "source": [
    "# 'find', 'rfind', 'index', 'rindex'\n",
    "my_str = 'This is Python class'\n",
    "# print(my_str.find('P'))\n",
    "# print(my_str.index('P'))\n",
    "# print(my_str.find('Z'))\n",
    "# print(my_str.index('Z'))\n",
    "# print(my_str.find('s', 7))\n",
    "# print(my_str.find('s', 7, 17))\n",
    "# print(my_str.index('s', 7))\n",
    "# print(my_str.index('s', 7, 17))\n",
    "\n",
    "# find and index - does the search from left side\n",
    "\n",
    "# rfind, rindex - does the search from right side\n",
    "my_str = 'This is Python class'\n",
    "# print(my_str.rfind('s'))\n",
    "# print(my_str.rindex('s'))\n",
    "# print(my_str.rfind('z'))\n",
    "# print(my_str.rindex('z'))\n",
    "# print(my_str.rfind('i', 1, 7))\n",
    "# print(my_str.rindex('i', 1, 7))\n",
    "\n",
    "\n",
    "\n",
    "\n",
    "\n",
    "\n",
    "\n"
   ]
  },
  {
   "cell_type": "code",
   "execution_count": null,
   "id": "89547337",
   "metadata": {},
   "outputs": [],
   "source": [
    "# 'center', 'rjust', 'ljust', 'zfill'\n",
    "# These methods are used for justification of the string\n",
    "# my_str = 'Python'\n",
    "# print(my_str.center(91))\n",
    "# print(my_str.rjust(90))\n",
    "# print(my_str.ljust(90))\n",
    "# print(my_str.center(91, '*'))\n",
    "# print(my_str.rjust(90, '*'))\n",
    "# print(my_str.ljust(90, '*'))\n",
    "\n",
    "# print('987654321'.zfill(39))   # always adds zero on left side of string\n",
    "\n",
    "\n",
    "\n",
    "\n"
   ]
  },
  {
   "cell_type": "code",
   "execution_count": null,
   "id": "71547e89",
   "metadata": {},
   "outputs": [],
   "source": [
    "# strip - removes spaces from both end of the string\n",
    "# rstrip - removes spaces from right end of the string\n",
    "# lstrip - removes spaces from left end of the string\n",
    "# Note - These method does not remove the spaces from the middle of teh string\n",
    "\n",
    "\n",
    "my_str = '                      This     is    Python  class                       '\n",
    "print(my_str.strip())\n",
    "print(my_str.rstrip())\n",
    "print(my_str.lstrip())"
   ]
  },
  {
   "cell_type": "code",
   "execution_count": null,
   "id": "d765c49b",
   "metadata": {},
   "outputs": [],
   "source": [
    "# 'replace',\n",
    "\n",
    "my_str = 'This is Python class'\n",
    "res_str = my_str[::-1].replace('s', 'J', 1)[::-1]\n",
    "print(my_str)\n",
    "print(res_str)"
   ]
  },
  {
   "cell_type": "code",
   "execution_count": null,
   "id": "6a486e2b",
   "metadata": {},
   "outputs": [],
   "source": [
    "# 'partition',  \n",
    "#  'splitlines', \n",
    "\n",
    "# my_str = 'This is Python class'\n",
    "# my_str.split()\n",
    "# my_str.partition(' is')\n",
    "\n",
    "\n",
    "my_str = 'This \\nis \\nPython \\nclass'\n",
    "my_str.splitlines()\n",
    "\n",
    "\n",
    "\n",
    "\n",
    "\n"
   ]
  },
  {
   "cell_type": "code",
   "execution_count": 9,
   "id": "f790c2ba",
   "metadata": {},
   "outputs": [
    {
     "data": {
      "text/plain": [
       "['This is Python class']"
      ]
     },
     "execution_count": 9,
     "metadata": {},
     "output_type": "execute_result"
    }
   ],
   "source": [
    "\n",
    "my_str = 'This is Python class'\n",
    "my_str.splitlines()\n"
   ]
  },
  {
   "cell_type": "code",
   "execution_count": null,
   "id": "a9c98b89",
   "metadata": {},
   "outputs": [],
   "source": []
  },
  {
   "cell_type": "code",
   "execution_count": null,
   "id": "dd8ede8f",
   "metadata": {},
   "outputs": [],
   "source": []
  }
 ],
 "metadata": {
  "kernelspec": {
   "display_name": "Python 3 (ipykernel)",
   "language": "python",
   "name": "python3"
  },
  "language_info": {
   "codemirror_mode": {
    "name": "ipython",
    "version": 3
   },
   "file_extension": ".py",
   "mimetype": "text/x-python",
   "name": "python",
   "nbconvert_exporter": "python",
   "pygments_lexer": "ipython3",
   "version": "3.9.12"
  }
 },
 "nbformat": 4,
 "nbformat_minor": 5
}
