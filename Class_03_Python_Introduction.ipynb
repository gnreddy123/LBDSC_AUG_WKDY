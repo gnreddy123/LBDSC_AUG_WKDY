{
 "cells": [
  {
   "cell_type": "code",
   "execution_count": null,
   "id": "717ef6e7",
   "metadata": {},
   "outputs": [],
   "source": [
    "# Why we use OS and Programming Language? \n",
    "# High Level vs Low Level Programming Language \n",
    "# Why are we Learning Python?\n",
    "# Compiler vs Interpreter\n",
    "# Compiled vs Interpreted Languages\n",
    "# Different Types of Errors in Python\n",
    "# Compile time vs Run time Errors in Python \n",
    "# Source code, Byte code, Machine code\n",
    "# How a Python Program runs on our system."
   ]
  },
  {
   "cell_type": "code",
   "execution_count": null,
   "id": "41836e9e",
   "metadata": {},
   "outputs": [],
   "source": [
    "# Why we use OS and Programming Language? \n",
    "\n",
    "OS - Operating System\n",
    "1. Interface between user and system.\n",
    "2. It is used to manage the resources - CPU, RAM, Memory, N/W Devices, I/O Devices etc\n",
    "3. OS is the first application which gets loaded into the RAM.\n"
   ]
  },
  {
   "cell_type": "code",
   "execution_count": null,
   "id": "89578d19",
   "metadata": {},
   "outputs": [],
   "source": [
    "# Programming Languages - A Programming Language is a set of predefined words (Keywords)\n",
    "# that are combined into a program according to predefined rules(syntax). \n",
    "# Programming languages are used to develop the application \n",
    "# which helps in turn to get our task done. \n",
    "\n",
    "# PL are used to get the task done.\n",
    "\n",
    "Calculator\n",
    "Browsing\n",
    "Zoom\n",
    "Call\n",
    "Contact\n"
   ]
  },
  {
   "cell_type": "code",
   "execution_count": 1,
   "id": "890cabf4",
   "metadata": {},
   "outputs": [
    {
     "name": "stdout",
     "output_type": "stream",
     "text": [
      "Enter first Number: 100\n",
      "Enter second number: 200\n",
      "300\n"
     ]
    }
   ],
   "source": [
    "num1 = int(input('Enter first Number: '))\n",
    "num2 = int(input('Enter second number: '))\n",
    "print(num1+num2)"
   ]
  },
  {
   "cell_type": "code",
   "execution_count": null,
   "id": "d134940b",
   "metadata": {},
   "outputs": [],
   "source": [
    "# Types of Programming language\n",
    "1. Low Level Programming Language - Machine Language(Binary Language - 0 & 1), Assembly language\n",
    "2. High Level Programming Language - C, C++, Java, Python, JS, Ruby, Perl etc"
   ]
  },
  {
   "cell_type": "code",
   "execution_count": null,
   "id": "716660c0",
   "metadata": {},
   "outputs": [],
   "source": [
    "# Why we do not prefer to code in Low Level PL?\n",
    "1. Not User Friendly\n",
    "2. not readable\n",
    "3. Difficult to understand\n",
    "4. Code is not Manageable\n",
    "5. Debugging is not easy\n",
    "6. Not Portable(Source code)\n",
    "7. Raises security concerns\n",
    "8. Need to know the underlying architecture of the system on which we are coding\n",
    "9. Prone to error\n"
   ]
  },
  {
   "cell_type": "code",
   "execution_count": 2,
   "id": "b9b9b90c",
   "metadata": {},
   "outputs": [
    {
     "name": "stdout",
     "output_type": "stream",
     "text": [
      "30\n",
      "10\n",
      "20\n"
     ]
    }
   ],
   "source": [
    "# Python code to dd two numbers\n",
    "a = 10\n",
    "b = 20\n",
    "c = a+b\n",
    "print(c)\n",
    "print(a)\n",
    "print(b)"
   ]
  },
  {
   "cell_type": "code",
   "execution_count": null,
   "id": "f496250a",
   "metadata": {},
   "outputs": [],
   "source": [
    "# Source code - The code which we write is called the source code."
   ]
  },
  {
   "cell_type": "code",
   "execution_count": null,
   "id": "88a45a12",
   "metadata": {},
   "outputs": [],
   "source": [
    "# Why Python?\n",
    "1. Python is simple, easy to learn and expressive language.\n",
    "\n",
    "# Sample java code to add two numbers\n",
    "public class AddTwoNumbers {\n",
    "\n",
    "   public static void main(String[] args) {\n",
    "        \n",
    "      int num1 = 5, num2 = 15, sum;\n",
    "      sum = num1 + num2;\n",
    "\n",
    "      System.out.println(\"Sum of these numbers: \"+sum);\n",
    "   }\n",
    "}\n",
    "\n",
    "# Sample c code to add two numbers\n",
    "#include<stdio.h>\n",
    " \n",
    "int main() {\n",
    "   int a, b, sum;\n",
    " \n",
    "   printf(\"\\nEnter two no: \");\n",
    "   scanf(\"%d %d\", &a, &b);\n",
    " \n",
    "   sum = a + b;\n",
    " \n",
    "   printf(\"Sum : %d\", sum);\n",
    " \n",
    "   return(0);\n",
    "}\n",
    "\n",
    "# Sample Python code to add two numbers\n",
    "a = 10\n",
    "b = 20\n",
    "c = a+b\n",
    "print(c)\n",
    "\n",
    "\n"
   ]
  },
  {
   "cell_type": "code",
   "execution_count": null,
   "id": "a8682dd6",
   "metadata": {},
   "outputs": [],
   "source": [
    "# 2. Python is a General Purpose PL\n",
    "    1. App Development\n",
    "    2. Game Development\n",
    "    3. Science & research\n",
    "    4. IoT and Emebedded app development\n",
    "    5. Testing & Automation"
   ]
  },
  {
   "cell_type": "code",
   "execution_count": null,
   "id": "eb5f451e",
   "metadata": {},
   "outputs": [],
   "source": [
    "3. Python is free(No license required) and open source(Source code is available freely)"
   ]
  },
  {
   "cell_type": "code",
   "execution_count": null,
   "id": "edcd245f",
   "metadata": {},
   "outputs": [],
   "source": [
    "4. Python is portable language(Source code)"
   ]
  },
  {
   "cell_type": "code",
   "execution_count": null,
   "id": "8f5185e9",
   "metadata": {},
   "outputs": [],
   "source": [
    "5. Python is platform independent Language.(Intermediate code from one platfomr to another)"
   ]
  },
  {
   "cell_type": "code",
   "execution_count": null,
   "id": "af70479e",
   "metadata": {},
   "outputs": [],
   "source": [
    "Source Code - Code which we write - abc.py, abc.c, abc.java\n",
    "Intermediate code - The code generated after compiling the source code.\n",
    "    1. C/C++ - Executable code\n",
    "    2. Java - Object code, byte code\n",
    "    3. Python - Byte code\n",
    "Machine code - The code which is generated after executing the intermediate code, it is nothing but the signals"
   ]
  },
  {
   "cell_type": "code",
   "execution_count": null,
   "id": "54a478f0",
   "metadata": {},
   "outputs": [],
   "source": [
    "6. Python is Interpreted PL."
   ]
  },
  {
   "cell_type": "code",
   "execution_count": null,
   "id": "5eca4f30",
   "metadata": {},
   "outputs": [],
   "source": [
    "import sys\n",
    "a = 10\n",
    "print(a, type(a),sys.getsizeof(a))\n",
    "a = 1000002387498235943256874365876432875674836589734657863428756872346958237\n",
    "print(a, type(a),sys.getsizeof(a))\n",
    "a = 10.20\n",
    "print(a, type(a),sys.getsizeof(a))\n",
    "a = 'Python'\n",
    "print(a, type(a))"
   ]
  },
  {
   "cell_type": "code",
   "execution_count": null,
   "id": "831d8b7d",
   "metadata": {},
   "outputs": [],
   "source": []
  },
  {
   "cell_type": "code",
   "execution_count": null,
   "id": "007af969",
   "metadata": {},
   "outputs": [],
   "source": []
  }
 ],
 "metadata": {
  "kernelspec": {
   "display_name": "Python 3 (ipykernel)",
   "language": "python",
   "name": "python3"
  },
  "language_info": {
   "codemirror_mode": {
    "name": "ipython",
    "version": 3
   },
   "file_extension": ".py",
   "mimetype": "text/x-python",
   "name": "python",
   "nbconvert_exporter": "python",
   "pygments_lexer": "ipython3",
   "version": "3.9.12"
  }
 },
 "nbformat": 4,
 "nbformat_minor": 5
}
