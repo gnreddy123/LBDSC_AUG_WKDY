{
 "cells": [
  {
   "cell_type": "code",
   "execution_count": 4,
   "id": "c083bdad",
   "metadata": {},
   "outputs": [],
   "source": [
    "# List - Any value or group of values kept inside []\n",
    "\n",
    "# lst = [10,20.30,30+40j,None,True,'Python']\n",
    "# print(lst, type(lst))\n",
    "\n",
    "# List Properties\n",
    "# 1. List is a collection of heterogeneous elements.(Array is a collection of homogeneous elements)\n",
    "# lst = [10,20.30,30+40j,None,True,'Python',[1, 2, 3], (1, 2, 3)]\n",
    "# print(lst, type(lst))\n",
    "\n",
    "# import numpy as np\n",
    "# import array\n",
    "# arr = array.array('q', [10,20,30,40+50j])\n",
    "# print(arr)\n",
    "# lst = [10,20,30,40, 50+60j]\n",
    "# arr = np.array(lst)\n",
    "# print(arr)\n",
    "\n",
    "\n",
    "# upcasting - int->float->complex->string->object\n",
    "\n",
    "# 2. List can have duplicate elements.(Set is a collection of unique elements.)\n",
    "lst = [10,20,30,10,100,10,111,10,333,50,60,70,10]\n",
    "# print(lst, type(lst))\n",
    "\n",
    "# s1 = {10,20,30,10,100,10,111,10,333,50,60,70,10}\n",
    "# print(s1, type(s1))\n",
    "\n",
    "# for i in s1:\n",
    "#     print(i)\n",
    "\n",
    "# 3. List is a sequence\n",
    "#     1. It is an ordered collection of elements\n",
    "#     2. It supports +ve and -ve indexing both\n",
    "#     3. +ve index starts from 0 from Left side\n",
    "#     4. -ve index starts from -1 from Right side\n",
    "#     5. Slicing, Concatenation, repetition, membership, length\n",
    "\n",
    "# lst = [10,20.30,30+40j,None,True,'Python',[1, 2, 3], (1, 2, 3)]\n",
    "# print('Accessing first element')\n",
    "# print(lst[0])\n",
    "# print(lst[-len(lst)])\n",
    "# print(lst[-8])\n",
    "# print('Accessing last element')\n",
    "# print(lst[-1])\n",
    "# print(lst[len(lst)-1])\n",
    "# print(lst[7])\n",
    "\n",
    "# print('Accessing Python from List')\n",
    "# print(lst[5], type(lst[5]))\n",
    "# print(lst[-3])\n",
    "\n",
    "# print('Slicing in Python - creates a new object')\n",
    "# print(lst[3:6:1])\n",
    "\n",
    "\n",
    "\n",
    "\n",
    "\n"
   ]
  },
  {
   "cell_type": "code",
   "execution_count": 5,
   "id": "df297c3d",
   "metadata": {},
   "outputs": [
    {
     "data": {
      "text/plain": [
       "[<matplotlib.lines.Line2D at 0x1507b31d550>]"
      ]
     },
     "execution_count": 5,
     "metadata": {},
     "output_type": "execute_result"
    },
    {
     "data": {
      "image/png": "[encoded data removed]",
      "text/plain": [
       "<Figure size 432x288 with 1 Axes>"
      ]
     },
     "metadata": {
      "needs_background": "light"
     },
     "output_type": "display_data"
    }
   ],
   "source": [
    "import matplotlib.pyplot as plt\n",
    "\n",
    "plt.plot(lst)"
   ]
  },
  {
   "cell_type": "code",
   "execution_count": null,
   "id": "c265de0e",
   "metadata": {},
   "outputs": [],
   "source": [
    "# How we can create the list\n",
    "# Case 1 - If we know the element in advance\n",
    "# lst = ['Krishna Kumar', 101, 19000, 'Bengaluru', 560102]\n",
    "# print(lst, type(lst))\n",
    "\n",
    "# Case 2 - Using list(iterable)\n",
    "# Iterables - string, list, tuple, set, frozenset, dictionary, bytes, bytearray, enumerate, zip, filter, range, map\n",
    "# print(list('Python'))\n",
    "# print(list([1, 2, 3, 4]))\n",
    "# print(list((1, 2, 3, 4)))\n",
    "# print(list({1, 2, 3, 4}))\n",
    "# print(list(frozenset((1, 2, 3, 4))))\n",
    "# print(list({11:100, 22:200, 33:300, 44:400}.values()))\n",
    "# print(list(enumerate('Python')))\n",
    "# print(list(zip('Python', list('Class'))))\n",
    "# print(list(filter(lambda num:num%2 == 0, [11, 12, 13, 14, 15, 16, 17, 18, 19])))\n",
    "# print(list(map(lambda num:num**2, [11, 12, 13, 14, 15, 16, 17, 18, 19])))\n",
    "\n",
    "# case 3: By taking user input\n",
    "# lst = eval(input('Enter a list'))\n",
    "# print(lst, type(lst))\n",
    "\n",
    "# Case 4- Using list comprehension\n",
    "# Syntax - [expr for loop]\n",
    "# Generate a list of square of all the numbers from 11 to 20\n",
    "[i**2 for i in range(11, 21)]\n",
    "\n",
    "# Generate a list of square of all the even numbers from 11 to 20\n",
    "# [i**2 for i in range(11, 21) if i%2 == 0]\n",
    "\n",
    "# [i**2 for i in [1, 2, 3, [11, 22]]]\n"
   ]
  },
  {
   "cell_type": "code",
   "execution_count": null,
   "id": "d84e5eca",
   "metadata": {},
   "outputs": [],
   "source": [
    "# Iterable - Any object which implements __iter__ function\n",
    "# Any object on which we can run the loop is an iterable"
   ]
  },
  {
   "cell_type": "code",
   "execution_count": 6,
   "id": "23769f48",
   "metadata": {},
   "outputs": [
    {
     "data": {
      "text/plain": [
       "['[', '1', '0', ',', '2', '0', ',', '3', '0', ',', '4', '0', ']']"
      ]
     },
     "execution_count": 6,
     "metadata": {},
     "output_type": "execute_result"
    }
   ],
   "source": [
    "list('[10,20,30,40]')"
   ]
  },
  {
   "cell_type": "code",
   "execution_count": 7,
   "id": "bd55402f",
   "metadata": {},
   "outputs": [
    {
     "data": {
      "text/plain": [
       "[30, 20, 30, 40]"
      ]
     },
     "execution_count": 7,
     "metadata": {},
     "output_type": "execute_result"
    }
   ],
   "source": [
    "eval('[10+20, 20, 30, 40]')"
   ]
  },
  {
   "cell_type": "code",
   "execution_count": 8,
   "id": "42b45b51",
   "metadata": {},
   "outputs": [
    {
     "data": {
      "text/plain": [
       "30"
      ]
     },
     "execution_count": 8,
     "metadata": {},
     "output_type": "execute_result"
    }
   ],
   "source": [
    "eval('10+20')"
   ]
  },
  {
   "cell_type": "code",
   "execution_count": 10,
   "id": "9a224848",
   "metadata": {},
   "outputs": [
    {
     "data": {
      "text/plain": [
       "[144, 196, 256, 324, 400]"
      ]
     },
     "execution_count": 10,
     "metadata": {},
     "output_type": "execute_result"
    }
   ],
   "source": [
    "[ele**2 if ele%2 == 0 else ele**3 for ele in range(11, 21) if ele%2 == 0]"
   ]
  },
  {
   "cell_type": "code",
   "execution_count": null,
   "id": "2be60b4d",
   "metadata": {},
   "outputs": [],
   "source": [
    "expr1 if cond else expr2"
   ]
  },
  {
   "cell_type": "code",
   "execution_count": 9,
   "id": "36ff78fa",
   "metadata": {},
   "outputs": [
    {
     "name": "stdout",
     "output_type": "stream",
     "text": [
      "[10, 20, 30, 40] 1445092681728\n",
      "[111, 20, 30, 40] 1445092681728\n"
     ]
    }
   ],
   "source": [
    "# List is mutable - modify\n",
    "lst = [10,20,30,40]\n",
    "print(lst, id(lst))\n",
    "lst[0] = 111\n",
    "print(lst, id(lst))"
   ]
  },
  {
   "cell_type": "code",
   "execution_count": 12,
   "id": "98768ee3",
   "metadata": {},
   "outputs": [
    {
     "name": "stdout",
     "output_type": "stream",
     "text": [
      "['__add__', '__class__', '__class_getitem__', '__contains__', '__delattr__', '__delitem__', '__dir__', '__doc__', '__eq__', '__format__', '__ge__', '__getattribute__', '__getitem__', '__gt__', '__hash__', '__iadd__', '__imul__', '__init__', '__init_subclass__', '__iter__', '__le__', '__len__', '__lt__', '__mul__', '__ne__', '__new__', '__reduce__', '__reduce_ex__', '__repr__', '__reversed__', '__rmul__', '__setattr__', '__setitem__', '__sizeof__', '__str__', '__subclasshook__', 'append', 'clear', 'copy', 'count', 'extend', 'index', 'insert', 'pop', 'remove', 'reverse', 'sort']\n"
     ]
    }
   ],
   "source": [
    "# List methods\n",
    "print(dir(list))\n",
    "\n",
    "'append', 'clear', 'copy', 'count', 'extend', 'index', 'insert', 'pop', 'remove', 'reverse', 'sort'\n",
    "\n",
    "#  'copy',   \n",
    "\n"
   ]
  },
  {
   "cell_type": "code",
   "execution_count": 14,
   "id": "9175e13d",
   "metadata": {},
   "outputs": [
    {
     "name": "stdout",
     "output_type": "stream",
     "text": [
      "[10, 20, 30, 40, 111]\n",
      "[10, 20, 30, 40, 111, [111, 222, 333, 444]]\n"
     ]
    }
   ],
   "source": [
    "lst = [10,20,30,40]\n",
    "# lst.append(value) - It adds the value at the end of the list\n",
    "lst.append(111)\n",
    "print(lst)\n",
    "\n",
    "lst.append([111,222,333,444])\n",
    "print(lst)\n",
    "\n",
    "# lst.insert(ind, value) -> It adds the value at the specified index\n",
    "# lst.insert(2, 111)\n",
    "# print(lst)\n",
    "\n",
    "# lst.insert(2, [1, 2, 3, 4])\n",
    "# print(lst)\n",
    "\n",
    "# Concatenation \n",
    "# lst1 = [10,20,30,40]\n",
    "# lst2 = [1, 2, 3, 4]\n",
    "# lst1 = lst1+lst2\n",
    "# print(lst1)\n",
    "# print(lst2)\n",
    "# print(lst3)\n",
    "\n",
    "# main_lst.extend(other_lst) - other_lst will be added to main_lst at the end\n",
    "# main_lst = [10,20,30,40]\n",
    "# other_lst = [111, 222, 333, 444]\n",
    "# print(main_lst.extend(other_lst))\n",
    "# print(main_lst)\n",
    "\n",
    "\n",
    "\n",
    "\n",
    "\n",
    "\n",
    "\n"
   ]
  },
  {
   "cell_type": "code",
   "execution_count": 26,
   "id": "7d68c1cb",
   "metadata": {},
   "outputs": [
    {
     "name": "stdout",
     "output_type": "stream",
     "text": [
      "[10, 70, 60, 50, 333, 10, 111, 10, 100, 10, 30, 20, 10]\n"
     ]
    }
   ],
   "source": [
    "# pop, remove, clear\n",
    "# lst = ['Krishna Kumar', 101, 19000, 'Bengaluru', 560102]\n",
    "\n",
    "# lst.pop() - by default removes the last element from the list\n",
    "# lst.pop(ind) - removes the value from the list fom specified index\n",
    "# pop is the only method which returns some value after doing some operation on the list\n",
    "\n",
    "# print(lst.pop())\n",
    "# print(lst.pop(3))\n",
    "# print(lst)\n",
    "\n",
    "# lst.remove(val) - it removes the first occurrence of the value from list\n",
    "lst = [10,20,30,10,100,10,111,10,333,50,60,70,10]\n",
    "# lst.remove(10)\n",
    "# print(lst)\n",
    "# lst.remove(10)\n",
    "# print(lst)\n",
    "\n",
    "\n",
    "\n",
    "lst.reverse()\n",
    "print(lst)"
   ]
  },
  {
   "cell_type": "code",
   "execution_count": 20,
   "id": "00614217",
   "metadata": {},
   "outputs": [
    {
     "data": {
      "text/plain": [
       "10"
      ]
     },
     "execution_count": 20,
     "metadata": {},
     "output_type": "execute_result"
    }
   ],
   "source": [
    "lst.pop()"
   ]
  },
  {
   "cell_type": "code",
   "execution_count": 24,
   "id": "3f955811",
   "metadata": {},
   "outputs": [
    {
     "data": {
      "text/plain": [
       "6"
      ]
     },
     "execution_count": 24,
     "metadata": {},
     "output_type": "execute_result"
    }
   ],
   "source": [
    "# 'count' - count the total no of times an object is repeating in the list\n",
    "# 'index' - returns the first occurrence of the element from the list\n",
    "\n",
    "lst = [10,20,30,10,100,10,111,10,333,50,60,70,10]\n",
    "lst.count(10)\n",
    "lst.index(111)"
   ]
  },
  {
   "cell_type": "code",
   "execution_count": 31,
   "id": "df6762c6",
   "metadata": {},
   "outputs": [
    {
     "name": "stdout",
     "output_type": "stream",
     "text": [
      "[10, 10, 10, 10, 10, 20, 30, 50, 60, 70, 100, 111, 333]\n",
      "[333, 111, 100, 70, 60, 50, 30, 20, 10, 10, 10, 10, 10]\n"
     ]
    },
    {
     "ename": "TypeError",
     "evalue": "'<' not supported between instances of 'str' and 'int'",
     "output_type": "error",
     "traceback": [
      "\u001b[1;31m---------------------------------------------------------------------------\u001b[0m",
      "\u001b[1;31mTypeError\u001b[0m                                 Traceback (most recent call last)",
      "Input \u001b[1;32mIn [31]\u001b[0m, in \u001b[0;36m<cell line: 17>\u001b[1;34m()\u001b[0m\n\u001b[0;32m     15\u001b[0m \u001b[38;5;66;03m# sort function will work on the list of similar data type why because it uses comparison operator\u001b[39;00m\n\u001b[0;32m     16\u001b[0m lst \u001b[38;5;241m=\u001b[39m [\u001b[38;5;241m10\u001b[39m,\u001b[38;5;241m20\u001b[39m,\u001b[38;5;241m30\u001b[39m,\u001b[38;5;241m10\u001b[39m,\u001b[38;5;241m100\u001b[39m,\u001b[38;5;241m10\u001b[39m,\u001b[38;5;241m111\u001b[39m,\u001b[38;5;241m10\u001b[39m,\u001b[38;5;124m'\u001b[39m\u001b[38;5;124m333\u001b[39m\u001b[38;5;124m'\u001b[39m,\u001b[38;5;241m50\u001b[39m,\u001b[38;5;241m60\u001b[39m,\u001b[38;5;241m70\u001b[39m,\u001b[38;5;241m10\u001b[39m]\n\u001b[1;32m---> 17\u001b[0m \u001b[43mlst\u001b[49m\u001b[38;5;241;43m.\u001b[39;49m\u001b[43msort\u001b[49m\u001b[43m(\u001b[49m\u001b[43m)\u001b[49m\n",
      "\u001b[1;31mTypeError\u001b[0m: '<' not supported between instances of 'str' and 'int'"
     ]
    }
   ],
   "source": [
    "# 'reverse', 'sort'\n",
    "\n",
    "# lst = [10,20,30,10,100,10,111,10,333,50,60,70,10]\n",
    "# lst.reverse()\n",
    "# print(lst)\n",
    "\n",
    "lst = [10,20,30,10,100,10,111,10,333,50,60,70,10]\n",
    "lst.sort()                            # sorts the list in ascending order\n",
    "print(lst)\n",
    "\n",
    "lst.sort(reverse = True)              # sorts the list in descending order\n",
    "print(lst)\n",
    "\n",
    "\n",
    "# sort function will work on the list of similar data type why because it uses comparison operator\n",
    "lst = [10,20,30,10,100,10,111,10,'333',50,60,70,10]\n",
    "lst.sort()\n",
    "\n",
    "\n"
   ]
  },
  {
   "cell_type": "code",
   "execution_count": 32,
   "id": "e374cb2d",
   "metadata": {},
   "outputs": [
    {
     "name": "stdout",
     "output_type": "stream",
     "text": [
      "[]\n"
     ]
    }
   ],
   "source": [
    "lst = [10,20,30,10,100,10,111,10,'333',50,60,70,10]\n",
    "lst.clear()    # it deletes all the element from the list and leaves empty list behind\n",
    "print(lst)"
   ]
  },
  {
   "cell_type": "code",
   "execution_count": null,
   "id": "7ea8485f",
   "metadata": {},
   "outputs": [],
   "source": []
  },
  {
   "cell_type": "code",
   "execution_count": null,
   "id": "4f7b16fe",
   "metadata": {},
   "outputs": [],
   "source": []
  }
 ],
 "metadata": {
  "kernelspec": {
   "display_name": "Python 3 (ipykernel)",
   "language": "python",
   "name": "python3"
  },
  "language_info": {
   "codemirror_mode": {
    "name": "ipython",
    "version": 3
   },
   "file_extension": ".py",
   "mimetype": "text/x-python",
   "name": "python",
   "nbconvert_exporter": "python",
   "pygments_lexer": "ipython3",
   "version": "3.9.12"
  }
 },
 "nbformat": 4,
 "nbformat_minor": 5
}
