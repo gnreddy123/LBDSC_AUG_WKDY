{
 "cells": [
  {
   "cell_type": "code",
   "execution_count": 1,
   "id": "9844abfd",
   "metadata": {},
   "outputs": [],
   "source": [
    "import numpy as np"
   ]
  },
  {
   "cell_type": "markdown",
   "id": "6d35a167",
   "metadata": {},
   "source": [
    "# Indexing and Slicing"
   ]
  },
  {
   "cell_type": "code",
   "execution_count": 6,
   "id": "d709f166",
   "metadata": {},
   "outputs": [],
   "source": [
    "emp_name = np.array(['Jash Vikas Shah',\n",
    "                    'Sushil Kumar',\n",
    "                    'MAYANK MISHRA',\n",
    "                    'Mohammed Yomeen Rafeeq',\n",
    "                    'NIKHIL BABURAO BURDE',\n",
    "                    'Padmaraj',\n",
    "                    'Jagadeshvaran',\n",
    "                    'Mirza Mustaba Hussain',\n",
    "                    'Chiranth HG',\n",
    "                    'Rashi Navalgund',\n",
    "                    'Manoj Kumar',\n",
    "                    'DEBANSHU MONDAL']).reshape(3, 4)"
   ]
  },
  {
   "cell_type": "code",
   "execution_count": 7,
   "id": "ce7492f5",
   "metadata": {},
   "outputs": [
    {
     "data": {
      "text/plain": [
       "array([['Jash Vikas Shah', 'Sushil Kumar', 'MAYANK MISHRA',\n",
       "        'Mohammed Yomeen Rafeeq'],\n",
       "       ['NIKHIL BABURAO BURDE', 'Padmaraj', 'Jagadeshvaran',\n",
       "        'Mirza Mustaba Hussain'],\n",
       "       ['Chiranth HG', 'Rashi Navalgund', 'Manoj Kumar',\n",
       "        'DEBANSHU MONDAL']], dtype='<U22')"
      ]
     },
     "execution_count": 7,
     "metadata": {},
     "output_type": "execute_result"
    }
   ],
   "source": [
    "emp_name"
   ]
  },
  {
   "cell_type": "code",
   "execution_count": 9,
   "id": "5875b471",
   "metadata": {},
   "outputs": [
    {
     "data": {
      "text/plain": [
       "array([['nan', 'Sushil Kumar', 'MAYANK MISHRA', 'Mohammed Yomeen Rafeeq'],\n",
       "       ['NIKHIL BABURAO BURDE', 'nan', 'Jagadeshvaran',\n",
       "        'Mirza Mustaba Hussain'],\n",
       "       ['Chiranth HG', 'nan', 'Manoj Kumar', 'nan']], dtype='<U22')"
      ]
     },
     "execution_count": 9,
     "metadata": {},
     "output_type": "execute_result"
    }
   ],
   "source": [
    "row_lst =[0,1,2,2]\n",
    "col_lst =[0,1,1,3]\n",
    "emp_name[row_lst,col_lst] =np.NaN\n",
    "emp_name"
   ]
  },
  {
   "cell_type": "markdown",
   "id": "a83cf3b8",
   "metadata": {},
   "source": [
    "# Index with Boolean Array"
   ]
  },
  {
   "cell_type": "code",
   "execution_count": 51,
   "id": "48cd027c",
   "metadata": {},
   "outputs": [
    {
     "data": {
      "text/plain": [
       "array([[46, 44, 25, 55, 47, 21],\n",
       "       [44, 45, 23, 47, 21, 19],\n",
       "       [40, 25, 53, 50, 49, 27],\n",
       "       [25, 50, 45, 55, 51, 39],\n",
       "       [43, 56, 40, 28, 30, 52]])"
      ]
     },
     "execution_count": 51,
     "metadata": {},
     "output_type": "execute_result"
    }
   ],
   "source": [
    "age = np.random.randint(18,60,30).reshape(5,6)\n",
    "age"
   ]
  },
  {
   "cell_type": "code",
   "execution_count": 21,
   "id": "646f124b",
   "metadata": {},
   "outputs": [
    {
     "data": {
      "text/plain": [
       "array([[ True, False,  True,  True,  True, False],\n",
       "       [ True,  True,  True,  True,  True,  True],\n",
       "       [ True,  True, False, False,  True,  True],\n",
       "       [ True, False,  True, False, False,  True],\n",
       "       [False,  True,  True,  True,  True,  True]])"
      ]
     },
     "execution_count": 21,
     "metadata": {},
     "output_type": "execute_result"
    }
   ],
   "source": [
    "age > 30"
   ]
  },
  {
   "cell_type": "code",
   "execution_count": 22,
   "id": "6c371cf5",
   "metadata": {},
   "outputs": [
    {
     "data": {
      "text/plain": [
       "array([[False,  True, False, False, False,  True],\n",
       "       [False, False, False, False, False, False],\n",
       "       [False, False,  True,  True, False, False],\n",
       "       [False,  True, False,  True,  True, False],\n",
       "       [ True, False, False, False, False, False]])"
      ]
     },
     "execution_count": 22,
     "metadata": {},
     "output_type": "execute_result"
    }
   ],
   "source": [
    "age < 30"
   ]
  },
  {
   "cell_type": "code",
   "execution_count": 15,
   "id": "dee8df41",
   "metadata": {},
   "outputs": [
    {
     "data": {
      "text/plain": [
       "array([50, 33, 35, 40, 36, 57, 43, 49, 44, 35, 54, 40, 36, 42, 39, 44, 44,\n",
       "       52, 39, 43, 43, 58, 51])"
      ]
     },
     "execution_count": 15,
     "metadata": {},
     "output_type": "execute_result"
    }
   ],
   "source": [
    "age [age > 30]"
   ]
  },
  {
   "cell_type": "code",
   "execution_count": 16,
   "id": "570fbf00",
   "metadata": {},
   "outputs": [
    {
     "data": {
      "text/plain": [
       "array([25, 21, 23, 24, 19, 21, 28])"
      ]
     },
     "execution_count": 16,
     "metadata": {},
     "output_type": "execute_result"
    }
   ],
   "source": [
    "age [age < 30]"
   ]
  },
  {
   "cell_type": "code",
   "execution_count": 41,
   "id": "2fcb606a",
   "metadata": {},
   "outputs": [
    {
     "data": {
      "text/plain": [
       "array([47, 47, 47, 45, 36, 45, 32, 36, 38, 42, 38, 40])"
      ]
     },
     "execution_count": 41,
     "metadata": {},
     "output_type": "execute_result"
    }
   ],
   "source": [
    "# Python - Numpy\n",
    "# and    -  &\n",
    "# or     -  |\n",
    "# not    -  ~\n",
    "\n",
    "\n",
    "\n",
    "age [(age > 30) & (age < 50)]"
   ]
  },
  {
   "cell_type": "code",
   "execution_count": 38,
   "id": "2afdb379",
   "metadata": {},
   "outputs": [
    {
     "data": {
      "text/plain": [
       "array([[21, 25, 54, 47, 47, 47],\n",
       "       [51, 45, 54, 29, 36, 55],\n",
       "       [45, 58, 57, 32, 36, 58],\n",
       "       [27, 38, 54, 24, 18, 22],\n",
       "       [42, 38, 40, 55, 23, 55]])"
      ]
     },
     "execution_count": 38,
     "metadata": {},
     "output_type": "execute_result"
    }
   ],
   "source": [
    "age"
   ]
  },
  {
   "cell_type": "code",
   "execution_count": null,
   "id": "10d7510c",
   "metadata": {},
   "outputs": [],
   "source": [
    "[47,51,36,57,22,38]"
   ]
  },
  {
   "cell_type": "code",
   "execution_count": 39,
   "id": "63a369d9",
   "metadata": {},
   "outputs": [
    {
     "data": {
      "text/plain": [
       "array([47, 51, 36, 57, 22, 38])"
      ]
     },
     "execution_count": 39,
     "metadata": {},
     "output_type": "execute_result"
    }
   ],
   "source": [
    "row_lst = [0,1,2,2,3,4]\n",
    "col_lst = [3,0,4,2,5,1]\n",
    "age[row_lst,col_lst]"
   ]
  },
  {
   "cell_type": "code",
   "execution_count": 42,
   "id": "7c28b9bb",
   "metadata": {},
   "outputs": [
    {
     "data": {
      "text/plain": [
       "(array([0, 0, 0, 0, 1, 1, 1, 1, 1, 2, 2, 2, 2, 2, 2, 3, 3, 4, 4, 4, 4, 4],\n",
       "       dtype=int64),\n",
       " array([2, 3, 4, 5, 0, 1, 2, 4, 5, 0, 1, 2, 3, 4, 5, 1, 2, 0, 1, 2, 3, 5],\n",
       "       dtype=int64))"
      ]
     },
     "execution_count": 42,
     "metadata": {},
     "output_type": "execute_result"
    }
   ],
   "source": [
    "# index of all those values which are greater than 30\n",
    "np.where(age > 30)"
   ]
  },
  {
   "cell_type": "code",
   "execution_count": 44,
   "id": "13aaf46c",
   "metadata": {},
   "outputs": [
    {
     "data": {
      "text/plain": [
       "array([54, 47, 47, 47, 51, 45, 54, 36, 55, 45, 58, 57, 32, 36, 58, 38, 54,\n",
       "       42, 38, 40, 55, 55])"
      ]
     },
     "execution_count": 44,
     "metadata": {},
     "output_type": "execute_result"
    }
   ],
   "source": [
    "age[np.where(age > 30)]"
   ]
  },
  {
   "cell_type": "code",
   "execution_count": 56,
   "id": "e47d780e",
   "metadata": {},
   "outputs": [
    {
     "data": {
      "text/plain": [
       "(array([4], dtype=int64), array([1], dtype=int64))"
      ]
     },
     "execution_count": 56,
     "metadata": {},
     "output_type": "execute_result"
    }
   ],
   "source": [
    "# Finding the maximum value in an array\n",
    "# age.max()\n",
    "# np.max(age)\n",
    "\n",
    "# Finding the index of maximum value in an array\n",
    "# np.argmax(age)\n",
    "# np.argmax(age, axis = 1)\n",
    "\n",
    "# Finding the row and column index of maximum value in 2d array \n",
    "np.where(age == 44)\n",
    "# np.where(age == np.max(age))\n",
    "np.where(age == np.max(age))"
   ]
  },
  {
   "cell_type": "code",
   "execution_count": 253,
   "id": "86e3ca50",
   "metadata": {},
   "outputs": [
    {
     "data": {
      "text/plain": [
       "array([[46, 44, 25, 55, 47, 21],\n",
       "       [44, 45, 23, 47, 21, 19],\n",
       "       [40, 25, 53, 50, 49, 27],\n",
       "       [25, 50, 45, 55, 51, 39],\n",
       "       [43, 56, 40, 28, 30, 52]])"
      ]
     },
     "execution_count": 253,
     "metadata": {},
     "output_type": "execute_result"
    }
   ],
   "source": [
    "age"
   ]
  },
  {
   "cell_type": "code",
   "execution_count": 254,
   "id": "e3e13cd9",
   "metadata": {},
   "outputs": [
    {
     "data": {
      "text/plain": [
       "array([46, 56, 53, 55, 51, 52])"
      ]
     },
     "execution_count": 254,
     "metadata": {},
     "output_type": "execute_result"
    }
   ],
   "source": [
    "np.max(age, axis =0)"
   ]
  },
  {
   "cell_type": "code",
   "execution_count": 255,
   "id": "c020135b",
   "metadata": {},
   "outputs": [
    {
     "data": {
      "text/plain": [
       "array([55, 47, 53, 55, 56])"
      ]
     },
     "execution_count": 255,
     "metadata": {},
     "output_type": "execute_result"
    }
   ],
   "source": [
    "np.max(age, axis =1)"
   ]
  },
  {
   "cell_type": "code",
   "execution_count": 60,
   "id": "a963199f",
   "metadata": {},
   "outputs": [
    {
     "data": {
      "text/plain": [
       "array([0, 4, 2, 0, 3, 4], dtype=int64)"
      ]
     },
     "execution_count": 60,
     "metadata": {},
     "output_type": "execute_result"
    }
   ],
   "source": [
    "np.argmax(age, axis =0)"
   ]
  },
  {
   "cell_type": "code",
   "execution_count": 61,
   "id": "9e8b23f4",
   "metadata": {},
   "outputs": [
    {
     "data": {
      "text/plain": [
       "array([3, 3, 2, 3, 1], dtype=int64)"
      ]
     },
     "execution_count": 61,
     "metadata": {},
     "output_type": "execute_result"
    }
   ],
   "source": [
    "np.argmax(age, axis =1)"
   ]
  },
  {
   "cell_type": "code",
   "execution_count": 62,
   "id": "8ac84883",
   "metadata": {},
   "outputs": [
    {
     "data": {
      "text/plain": [
       "array([[46, 44, 25, 55, 47, 21],\n",
       "       [44, 45, 23, 47, 21, 19],\n",
       "       [40, 25, 53, 50, 49, 27],\n",
       "       [25, 50, 45, 55, 51, 39],\n",
       "       [43, 56, 40, 28, 30, 52]])"
      ]
     },
     "execution_count": 62,
     "metadata": {},
     "output_type": "execute_result"
    }
   ],
   "source": [
    "age"
   ]
  },
  {
   "cell_type": "code",
   "execution_count": 64,
   "id": "745d8482",
   "metadata": {},
   "outputs": [],
   "source": [
    "arr1 = np.arange(25,55).reshape(5,6)"
   ]
  },
  {
   "cell_type": "code",
   "execution_count": 65,
   "id": "9e55b1bf",
   "metadata": {},
   "outputs": [
    {
     "data": {
      "text/plain": [
       "array([[25, 26, 27, 28, 29, 30],\n",
       "       [31, 32, 33, 34, 35, 36],\n",
       "       [37, 38, 39, 40, 41, 42],\n",
       "       [43, 44, 45, 46, 47, 48],\n",
       "       [49, 50, 51, 52, 53, 54]])"
      ]
     },
     "execution_count": 65,
     "metadata": {},
     "output_type": "execute_result"
    }
   ],
   "source": [
    "arr1"
   ]
  },
  {
   "cell_type": "code",
   "execution_count": 68,
   "id": "0c54d91d",
   "metadata": {},
   "outputs": [
    {
     "data": {
      "text/plain": [
       "array([4, 4, 4, 4, 4, 4], dtype=int64)"
      ]
     },
     "execution_count": 68,
     "metadata": {},
     "output_type": "execute_result"
    }
   ],
   "source": [
    "np.argmax(arr1, axis =0)"
   ]
  },
  {
   "cell_type": "code",
   "execution_count": 69,
   "id": "29024b2c",
   "metadata": {},
   "outputs": [
    {
     "data": {
      "text/plain": [
       "array([5, 5, 5, 5, 5], dtype=int64)"
      ]
     },
     "execution_count": 69,
     "metadata": {},
     "output_type": "execute_result"
    }
   ],
   "source": [
    "np.argmax(arr1, axis =1)"
   ]
  },
  {
   "cell_type": "code",
   "execution_count": 73,
   "id": "7f80f5a9",
   "metadata": {},
   "outputs": [
    {
     "data": {
      "text/plain": [
       "array([[25, 26, 27, 28, 29, 30],\n",
       "       [31, 32, 33, 34, 35, 36],\n",
       "       [37, 38, 39, 40, 41, 42],\n",
       "       [43, 44, 45, 46, 47, 48],\n",
       "       [49, 50, 51, 52, 53, 54],\n",
       "       [55, 56, 57, 58, 59, 60]])"
      ]
     },
     "execution_count": 73,
     "metadata": {},
     "output_type": "execute_result"
    }
   ],
   "source": [
    "arr2 =np.arange(25,61).reshape(6,6)\n",
    "arr2"
   ]
  },
  {
   "cell_type": "code",
   "execution_count": 79,
   "id": "1fc211e9",
   "metadata": {},
   "outputs": [
    {
     "data": {
      "text/plain": [
       "array([[46, 47, 48],\n",
       "       [52, 53, 54],\n",
       "       [58, 59, 60]])"
      ]
     },
     "execution_count": 79,
     "metadata": {},
     "output_type": "execute_result"
    }
   ],
   "source": [
    "arr2[3:,3:]"
   ]
  },
  {
   "cell_type": "code",
   "execution_count": 84,
   "id": "1d2d7ffa",
   "metadata": {},
   "outputs": [
    {
     "data": {
      "text/plain": [
       "array([[31, 33, 35],\n",
       "       [43, 45, 47]])"
      ]
     },
     "execution_count": 84,
     "metadata": {},
     "output_type": "execute_result"
    }
   ],
   "source": [
    "arr2[1:4:2,0:5:2]"
   ]
  },
  {
   "cell_type": "code",
   "execution_count": 85,
   "id": "e951d7a6",
   "metadata": {},
   "outputs": [
    {
     "data": {
      "text/plain": [
       "array([[46, 44, 25, 55, 47, 21],\n",
       "       [44, 45, 23, 47, 21, 19],\n",
       "       [40, 25, 53, 50, 49, 27],\n",
       "       [25, 50, 45, 55, 51, 39],\n",
       "       [43, 56, 40, 28, 30, 52]])"
      ]
     },
     "execution_count": 85,
     "metadata": {},
     "output_type": "execute_result"
    }
   ],
   "source": [
    "age"
   ]
  },
  {
   "cell_type": "code",
   "execution_count": 89,
   "id": "10e9bc85",
   "metadata": {},
   "outputs": [
    {
     "data": {
      "text/plain": [
       "array([46, 56, 53, 55, 51, 52])"
      ]
     },
     "execution_count": 89,
     "metadata": {},
     "output_type": "execute_result"
    }
   ],
   "source": [
    "age.max(axis =0)"
   ]
  },
  {
   "cell_type": "code",
   "execution_count": 91,
   "id": "60afce52",
   "metadata": {},
   "outputs": [
    {
     "data": {
      "text/plain": [
       "array([0, 4, 2, 0, 3, 4], dtype=int64)"
      ]
     },
     "execution_count": 91,
     "metadata": {},
     "output_type": "execute_result"
    }
   ],
   "source": [
    "age.argmax(axis =0)"
   ]
  },
  {
   "cell_type": "code",
   "execution_count": 90,
   "id": "5915364d",
   "metadata": {},
   "outputs": [
    {
     "data": {
      "text/plain": [
       "array([55, 47, 53, 55, 56])"
      ]
     },
     "execution_count": 90,
     "metadata": {},
     "output_type": "execute_result"
    }
   ],
   "source": [
    "age.max(axis =1)"
   ]
  },
  {
   "cell_type": "code",
   "execution_count": 93,
   "id": "1e66076b",
   "metadata": {},
   "outputs": [
    {
     "data": {
      "text/plain": [
       "array([3, 3, 2, 3, 1], dtype=int64)"
      ]
     },
     "execution_count": 93,
     "metadata": {},
     "output_type": "execute_result"
    }
   ],
   "source": [
    "np.argmax(age, axis =1)"
   ]
  },
  {
   "cell_type": "code",
   "execution_count": 88,
   "id": "c01052af",
   "metadata": {},
   "outputs": [
    {
     "data": {
      "text/plain": [
       "array([198, 220, 186, 235, 198, 158])"
      ]
     },
     "execution_count": 88,
     "metadata": {},
     "output_type": "execute_result"
    }
   ],
   "source": [
    "age.sum(axis =0)\n",
    "# when axis = 0(It takes the element form each row and does the summation(first element from each row,\n",
    "# second element from each row and third element from each row and so on..))\n",
    "# so, element from each row, that is where axis =0 represents rows\n",
    "\n",
    "# when axis = 1(It takes the element form each column and does the summation(first element from each column,\n",
    "# second element from each column and third element from each column and so on..))\n",
    "# so, element from each column, that is where axis =1 represents columns\n"
   ]
  },
  {
   "cell_type": "code",
   "execution_count": 94,
   "id": "a4645fe2",
   "metadata": {},
   "outputs": [
    {
     "data": {
      "text/plain": [
       "array([0, 4, 2, 0, 3, 4], dtype=int64)"
      ]
     },
     "execution_count": 94,
     "metadata": {},
     "output_type": "execute_result"
    }
   ],
   "source": [
    "np.argmax(age, axis =0)"
   ]
  },
  {
   "cell_type": "code",
   "execution_count": 95,
   "id": "7d00b57c",
   "metadata": {},
   "outputs": [
    {
     "data": {
      "text/plain": [
       "array([[46, 44, 25, 55, 47, 21],\n",
       "       [44, 45, 23, 47, 21, 19],\n",
       "       [40, 25, 53, 50, 49, 27],\n",
       "       [25, 50, 45, 55, 51, 39],\n",
       "       [43, 56, 40, 28, 30, 52]])"
      ]
     },
     "execution_count": 95,
     "metadata": {},
     "output_type": "execute_result"
    }
   ],
   "source": [
    "age"
   ]
  },
  {
   "cell_type": "code",
   "execution_count": 101,
   "id": "8503f1c8",
   "metadata": {},
   "outputs": [
    {
     "data": {
      "text/plain": [
       "array([[54, 45, 47, 54, 37, 49],\n",
       "       [33, 29, 26, 59, 30, 48],\n",
       "       [27, 37, 58, 51, 58, 53],\n",
       "       [44, 60, 38, 25, 54, 43],\n",
       "       [36, 56, 57, 26, 48, 44]])"
      ]
     },
     "execution_count": 101,
     "metadata": {},
     "output_type": "execute_result"
    }
   ],
   "source": [
    "arr3 = np.random.randint(25,61,30)\n",
    "arr3.reshape(5,6)"
   ]
  },
  {
   "cell_type": "code",
   "execution_count": 102,
   "id": "af8331d4",
   "metadata": {},
   "outputs": [
    {
     "data": {
      "text/plain": [
       "array([[46, 44, 25, 55, 47, 21],\n",
       "       [44, 45, 23, 47, 21, 19],\n",
       "       [40, 25, 53, 50, 49, 27],\n",
       "       [25, 50, 45, 55, 51, 39],\n",
       "       [43, 56, 40, 28, 30, 52]])"
      ]
     },
     "execution_count": 102,
     "metadata": {},
     "output_type": "execute_result"
    }
   ],
   "source": [
    "age"
   ]
  },
  {
   "cell_type": "code",
   "execution_count": 103,
   "id": "0a7e985f",
   "metadata": {},
   "outputs": [
    {
     "data": {
      "text/plain": [
       "array([[ True,  True, False,  True,  True, False],\n",
       "       [ True,  True, False,  True, False, False],\n",
       "       [ True, False,  True,  True,  True, False],\n",
       "       [False,  True,  True,  True,  True,  True],\n",
       "       [ True,  True,  True, False, False,  True]])"
      ]
     },
     "execution_count": 103,
     "metadata": {},
     "output_type": "execute_result"
    }
   ],
   "source": [
    "# Count the toltal number of elements which are greater than 30\n",
    "age > 30"
   ]
  },
  {
   "cell_type": "code",
   "execution_count": 105,
   "id": "78b697aa",
   "metadata": {},
   "outputs": [
    {
     "data": {
      "text/plain": [
       "20"
      ]
     },
     "execution_count": 105,
     "metadata": {},
     "output_type": "execute_result"
    }
   ],
   "source": [
    "np.sum(age>30)"
   ]
  },
  {
   "cell_type": "code",
   "execution_count": 107,
   "id": "0e1c1b04",
   "metadata": {},
   "outputs": [
    {
     "data": {
      "text/plain": [
       "951"
      ]
     },
     "execution_count": 107,
     "metadata": {},
     "output_type": "execute_result"
    }
   ],
   "source": [
    "np.sum(age[age>30])"
   ]
  },
  {
   "cell_type": "code",
   "execution_count": null,
   "id": "54e8aadb",
   "metadata": {},
   "outputs": [],
   "source": [
    "# Find the count of all those element which are greater than 30 along rows\n",
    "print(np.sum(age>30,axis=0))\n",
    "# Find the count of all those element which are greater than 30 along cols\n",
    "print(np.sum(age>30,axis=1))"
   ]
  },
  {
   "cell_type": "code",
   "execution_count": 115,
   "id": "305d8fc1",
   "metadata": {},
   "outputs": [
    {
     "data": {
      "text/plain": [
       "array([4, 4, 3, 4, 3, 2])"
      ]
     },
     "execution_count": 115,
     "metadata": {},
     "output_type": "execute_result"
    }
   ],
   "source": [
    "np.sum((age > 30), axis =0)"
   ]
  },
  {
   "cell_type": "code",
   "execution_count": 121,
   "id": "f56659d0",
   "metadata": {},
   "outputs": [
    {
     "data": {
      "text/plain": [
       "951"
      ]
     },
     "execution_count": 121,
     "metadata": {},
     "output_type": "execute_result"
    }
   ],
   "source": [
    "# np.sum(age[age>30, axis =0])\n",
    "np.sum(age[age>30], axis =0)"
   ]
  },
  {
   "cell_type": "code",
   "execution_count": 125,
   "id": "4086b689",
   "metadata": {},
   "outputs": [
    {
     "data": {
      "text/plain": [
       "2"
      ]
     },
     "execution_count": 125,
     "metadata": {},
     "output_type": "execute_result"
    }
   ],
   "source": [
    "age.ndim"
   ]
  },
  {
   "cell_type": "code",
   "execution_count": 131,
   "id": "42691714",
   "metadata": {},
   "outputs": [
    {
     "data": {
      "text/plain": [
       "array([4, 3, 4, 5, 4])"
      ]
     },
     "execution_count": 131,
     "metadata": {},
     "output_type": "execute_result"
    }
   ],
   "source": [
    "np.sum(age > 30, axis =1)"
   ]
  },
  {
   "cell_type": "code",
   "execution_count": 132,
   "id": "3cbf0252",
   "metadata": {},
   "outputs": [
    {
     "data": {
      "text/plain": [
       "20"
      ]
     },
     "execution_count": 132,
     "metadata": {},
     "output_type": "execute_result"
    }
   ],
   "source": [
    "# np.sum(age[age > 30], axis =1)\n",
    "np.sum(age>30)"
   ]
  },
  {
   "cell_type": "code",
   "execution_count": 114,
   "id": "9905ccde",
   "metadata": {},
   "outputs": [
    {
     "data": {
      "text/plain": [
       "array([[46, 44, 25, 55, 47, 21],\n",
       "       [44, 45, 23, 47, 21, 19],\n",
       "       [40, 25, 53, 50, 49, 27],\n",
       "       [25, 50, 45, 55, 51, 39],\n",
       "       [43, 56, 40, 28, 30, 52]])"
      ]
     },
     "execution_count": 114,
     "metadata": {},
     "output_type": "execute_result"
    }
   ],
   "source": [
    "age"
   ]
  },
  {
   "cell_type": "code",
   "execution_count": 133,
   "id": "695a48b6",
   "metadata": {},
   "outputs": [
    {
     "data": {
      "text/plain": [
       "False"
      ]
     },
     "execution_count": 133,
     "metadata": {},
     "output_type": "execute_result"
    }
   ],
   "source": [
    "# np.all(cond) - It check sfor the condition for all the elements in the array \n",
    "# returns True if all the elements are satisfying the condition else returns False\n",
    "np.all(age>30)"
   ]
  },
  {
   "cell_type": "code",
   "execution_count": 134,
   "id": "f0020c9f",
   "metadata": {},
   "outputs": [
    {
     "data": {
      "text/plain": [
       "True"
      ]
     },
     "execution_count": 134,
     "metadata": {},
     "output_type": "execute_result"
    }
   ],
   "source": [
    "np.all(age>10)"
   ]
  },
  {
   "cell_type": "code",
   "execution_count": 135,
   "id": "1d5dc8ad",
   "metadata": {},
   "outputs": [
    {
     "data": {
      "text/plain": [
       "True"
      ]
     },
     "execution_count": 135,
     "metadata": {},
     "output_type": "execute_result"
    }
   ],
   "source": [
    "# np.any(cond) - It check for the condition for all the elements in the array \n",
    "# returns True if any one of the elements is satisfying the condition else returns False\n",
    "np.any(age>30)"
   ]
  },
  {
   "cell_type": "code",
   "execution_count": 136,
   "id": "68ea6db2",
   "metadata": {},
   "outputs": [
    {
     "data": {
      "text/plain": [
       "False"
      ]
     },
     "execution_count": 136,
     "metadata": {},
     "output_type": "execute_result"
    }
   ],
   "source": [
    "np.any(age > 60)"
   ]
  },
  {
   "cell_type": "code",
   "execution_count": 256,
   "id": "adcb8aaf",
   "metadata": {},
   "outputs": [],
   "source": [
    "arr1 = np.random.randint(1,50,125).reshape(5,5,5)"
   ]
  },
  {
   "cell_type": "code",
   "execution_count": 257,
   "id": "77816361",
   "metadata": {},
   "outputs": [
    {
     "data": {
      "text/plain": [
       "array([[[44, 24, 49, 24, 25],\n",
       "        [29, 48, 35, 48, 33],\n",
       "        [44,  9, 37,  9, 21],\n",
       "        [ 6, 30, 33, 20, 38],\n",
       "        [36, 35,  8, 22,  6]],\n",
       "\n",
       "       [[46, 49, 24, 35, 10],\n",
       "        [25, 44, 30, 29,  3],\n",
       "        [ 6, 36, 15, 47, 10],\n",
       "        [34, 38, 36, 20, 15],\n",
       "        [47, 33, 11, 11, 28]],\n",
       "\n",
       "       [[32, 34,  9,  2, 20],\n",
       "        [22, 47,  8, 32, 25],\n",
       "        [32, 25, 14, 37, 17],\n",
       "        [47,  9,  9, 39, 39],\n",
       "        [23,  3,  3, 34, 49]],\n",
       "\n",
       "       [[ 2, 35,  8,  3, 11],\n",
       "        [38, 23, 24, 19,  3],\n",
       "        [ 1,  2, 20,  9, 47],\n",
       "        [21, 28, 37,  6, 17],\n",
       "        [46, 43, 12,  1, 43]],\n",
       "\n",
       "       [[ 3, 18, 22, 38, 35],\n",
       "        [19, 16, 47, 25, 28],\n",
       "        [47, 47, 21, 16, 34],\n",
       "        [41,  4, 44, 15, 36],\n",
       "        [14, 38, 27, 19, 19]]])"
      ]
     },
     "execution_count": 257,
     "metadata": {},
     "output_type": "execute_result"
    }
   ],
   "source": [
    "arr1"
   ]
  },
  {
   "cell_type": "code",
   "execution_count": 258,
   "id": "5846ec23",
   "metadata": {},
   "outputs": [
    {
     "data": {
      "text/plain": [
       "array([ 9, 47,  3])"
      ]
     },
     "execution_count": 258,
     "metadata": {},
     "output_type": "execute_result"
    }
   ],
   "source": [
    "np.array((arr1[0, 2, 1], arr1[1, 2, 3], arr1[4, 0, 0]))"
   ]
  },
  {
   "cell_type": "markdown",
   "id": "8eba7a79",
   "metadata": {},
   "source": [
    "# Iteration over the array"
   ]
  },
  {
   "cell_type": "code",
   "execution_count": 141,
   "id": "5467a91a",
   "metadata": {},
   "outputs": [
    {
     "name": "stdout",
     "output_type": "stream",
     "text": [
      "15\n",
      "49\n",
      "8\n",
      "18\n",
      "16\n",
      "42\n",
      "34\n",
      "4\n",
      "44\n",
      "38\n",
      "8\n",
      "49\n",
      "26\n",
      "17\n",
      "12\n",
      "47\n",
      "29\n",
      "18\n",
      "45\n",
      "32\n",
      "27\n",
      "29\n",
      "23\n",
      "29\n",
      "42\n",
      "3\n",
      "35\n",
      "30\n",
      "15\n",
      "36\n"
     ]
    }
   ],
   "source": [
    "arr1 =np.random.randint(1,50,30)\n",
    "for i in arr1:\n",
    "    print(i)"
   ]
  },
  {
   "cell_type": "code",
   "execution_count": 142,
   "id": "96b6e6f9",
   "metadata": {},
   "outputs": [
    {
     "data": {
      "text/plain": [
       "array([[15, 49,  8, 18, 16, 42],\n",
       "       [34,  4, 44, 38,  8, 49],\n",
       "       [26, 17, 12, 47, 29, 18],\n",
       "       [45, 32, 27, 29, 23, 29],\n",
       "       [42,  3, 35, 30, 15, 36]])"
      ]
     },
     "execution_count": 142,
     "metadata": {},
     "output_type": "execute_result"
    }
   ],
   "source": [
    "arr2 = arr1.reshape(5,6)\n",
    "arr2"
   ]
  },
  {
   "cell_type": "code",
   "execution_count": 145,
   "id": "499d678b",
   "metadata": {},
   "outputs": [
    {
     "name": "stdout",
     "output_type": "stream",
     "text": [
      "15\n",
      "49\n",
      "8\n",
      "18\n",
      "16\n",
      "42\n",
      "34\n",
      "4\n",
      "44\n",
      "38\n",
      "8\n",
      "49\n",
      "26\n",
      "17\n",
      "12\n",
      "47\n",
      "29\n",
      "18\n",
      "45\n",
      "32\n",
      "27\n",
      "29\n",
      "23\n",
      "29\n",
      "42\n",
      "3\n",
      "35\n",
      "30\n",
      "15\n",
      "36\n"
     ]
    }
   ],
   "source": [
    "for row in arr2:\n",
    "    for ele in row:\n",
    "        print(ele)"
   ]
  },
  {
   "cell_type": "code",
   "execution_count": 146,
   "id": "7aa84dcb",
   "metadata": {},
   "outputs": [
    {
     "name": "stdout",
     "output_type": "stream",
     "text": [
      "15\n",
      "49\n",
      "8\n",
      "18\n",
      "16\n",
      "42\n",
      "34\n",
      "4\n",
      "44\n",
      "38\n",
      "8\n",
      "49\n",
      "26\n",
      "17\n",
      "12\n",
      "47\n",
      "29\n",
      "18\n",
      "45\n",
      "32\n",
      "27\n",
      "29\n",
      "23\n",
      "29\n",
      "42\n",
      "3\n",
      "35\n",
      "30\n",
      "15\n",
      "36\n"
     ]
    }
   ],
   "source": [
    "for ele in arr2.ravel():\n",
    "    print(ele)"
   ]
  },
  {
   "cell_type": "code",
   "execution_count": 148,
   "id": "2e5b8bc4",
   "metadata": {},
   "outputs": [
    {
     "name": "stdout",
     "output_type": "stream",
     "text": [
      "15\n",
      "49\n",
      "8\n",
      "18\n",
      "16\n",
      "42\n",
      "34\n",
      "4\n",
      "44\n",
      "38\n",
      "8\n",
      "49\n",
      "26\n",
      "17\n",
      "12\n",
      "47\n",
      "29\n",
      "18\n",
      "45\n",
      "32\n",
      "27\n",
      "29\n",
      "23\n",
      "29\n",
      "42\n",
      "3\n",
      "35\n",
      "30\n",
      "15\n",
      "36\n"
     ]
    }
   ],
   "source": [
    "for ele in np.nditer(arr2):\n",
    "    print(ele)"
   ]
  },
  {
   "cell_type": "code",
   "execution_count": 150,
   "id": "d0301249",
   "metadata": {},
   "outputs": [
    {
     "name": "stdout",
     "output_type": "stream",
     "text": [
      "15\n",
      "49\n",
      "8\n",
      "18\n",
      "16\n",
      "42\n",
      "34\n",
      "4\n",
      "44\n",
      "38\n",
      "8\n",
      "49\n",
      "26\n",
      "17\n",
      "12\n",
      "47\n",
      "29\n",
      "18\n",
      "45\n",
      "32\n",
      "27\n",
      "29\n",
      "23\n",
      "29\n",
      "42\n",
      "3\n",
      "35\n",
      "30\n",
      "15\n",
      "36\n"
     ]
    }
   ],
   "source": [
    "for ele in np.nditer(arr2, order = 'C'):   # Row wise\n",
    "    print(ele)"
   ]
  },
  {
   "cell_type": "code",
   "execution_count": 151,
   "id": "105c7816",
   "metadata": {},
   "outputs": [
    {
     "data": {
      "text/plain": [
       "array([[15, 49,  8, 18, 16, 42],\n",
       "       [34,  4, 44, 38,  8, 49],\n",
       "       [26, 17, 12, 47, 29, 18],\n",
       "       [45, 32, 27, 29, 23, 29],\n",
       "       [42,  3, 35, 30, 15, 36]])"
      ]
     },
     "execution_count": 151,
     "metadata": {},
     "output_type": "execute_result"
    }
   ],
   "source": [
    "arr2"
   ]
  },
  {
   "cell_type": "code",
   "execution_count": 152,
   "id": "83d419b7",
   "metadata": {},
   "outputs": [
    {
     "name": "stdout",
     "output_type": "stream",
     "text": [
      "15\n",
      "34\n",
      "26\n",
      "45\n",
      "42\n",
      "49\n",
      "4\n",
      "17\n",
      "32\n",
      "3\n",
      "8\n",
      "44\n",
      "12\n",
      "27\n",
      "35\n",
      "18\n",
      "38\n",
      "47\n",
      "29\n",
      "30\n",
      "16\n",
      "8\n",
      "29\n",
      "23\n",
      "15\n",
      "42\n",
      "49\n",
      "18\n",
      "29\n",
      "36\n"
     ]
    }
   ],
   "source": [
    "\n",
    "for ele in np.nditer(arr2, order = 'F'):   # column wise\n",
    "    print(ele)"
   ]
  },
  {
   "cell_type": "code",
   "execution_count": 163,
   "id": "de73c200",
   "metadata": {},
   "outputs": [
    {
     "data": {
      "text/plain": [
       "array([[15, 49,  8, 18, 16, 42],\n",
       "       [34,  4, 44, 38,  8, 49],\n",
       "       [26, 17, 12, 47, 29, 18],\n",
       "       [45, 32, 27, 29, 23, 29],\n",
       "       [42,  3, 35, 30, 15, 36]])"
      ]
     },
     "execution_count": 163,
     "metadata": {},
     "output_type": "execute_result"
    }
   ],
   "source": [
    "arr2"
   ]
  },
  {
   "cell_type": "code",
   "execution_count": 164,
   "id": "52b06310",
   "metadata": {},
   "outputs": [
    {
     "data": {
      "text/plain": [
       "array([[ True, False,  True, False,  True, False],\n",
       "       [False,  True, False, False,  True, False],\n",
       "       [False,  True,  True, False, False, False],\n",
       "       [False, False, False, False, False, False],\n",
       "       [False,  True, False, False,  True, False]])"
      ]
     },
     "execution_count": 164,
     "metadata": {},
     "output_type": "execute_result"
    }
   ],
   "source": [
    "arr2 < 18"
   ]
  },
  {
   "cell_type": "code",
   "execution_count": 167,
   "id": "e8337f31",
   "metadata": {},
   "outputs": [
    {
     "data": {
      "text/plain": [
       "array([[15., 49.,  8., 18., 16., 42.],\n",
       "       [34.,  4., 44., 38.,  8., 49.],\n",
       "       [26., 17., 12., 47., 29., 18.],\n",
       "       [45., 32., 27., 29., 23., 29.],\n",
       "       [42.,  3., 35., 30., 15., 36.]])"
      ]
     },
     "execution_count": 167,
     "metadata": {},
     "output_type": "execute_result"
    }
   ],
   "source": [
    "np.where(age<18, np.NaN, arr2)"
   ]
  },
  {
   "cell_type": "code",
   "execution_count": 174,
   "id": "c5c1fe64",
   "metadata": {},
   "outputs": [
    {
     "name": "stdout",
     "output_type": "stream",
     "text": [
      "[[nan 49. nan 18. nan 42.]\n",
      " [34. nan 44. 38. nan 49.]\n",
      " [26. nan nan 47. 29. 18.]\n",
      " [45. 32. 27. 29. 23. 29.]\n",
      " [42. nan 35. 30. nan 36.]]\n"
     ]
    }
   ],
   "source": [
    "arr2 =np.array([[15, 49,  8, 18, 16, 42],\n",
    "       [34,  4, 44, 38,  8, 49],\n",
    "       [26, 17, 12, 47, 29, 18],\n",
    "       [45, 32, 27, 29, 23, 29],\n",
    "       [42,  3, 35, 30, 15, 36]] ,dtype = float)\n",
    "\n",
    "\n",
    "\n",
    "for ele in np.nditer(arr2, op_flags = ['readwrite']):\n",
    "    if ele < 18:\n",
    "        ele[...] = np.NaN                     # NaN is a folat value\n",
    "print(arr2)\n"
   ]
  },
  {
   "cell_type": "code",
   "execution_count": 177,
   "id": "a0297f09",
   "metadata": {},
   "outputs": [
    {
     "name": "stdout",
     "output_type": "stream",
     "text": [
      "[[ 0. 59.  0. 28.  0. 52.]\n",
      " [44.  0. 54. 48.  0. 59.]\n",
      " [36.  0.  0. 57. 39. 28.]\n",
      " [55. 42. 37. 39. 33. 39.]\n",
      " [52.  0. 45. 40.  0. 46.]]\n"
     ]
    }
   ],
   "source": [
    "arr2 =np.array([[15, 49,  8, 18, 16, 42],\n",
    "       [34,  4, 44, 38,  8, 49],\n",
    "       [26, 17, 12, 47, 29, 18],\n",
    "       [45, 32, 27, 29, 23, 29],\n",
    "       [42,  3, 35, 30, 15, 36]] ,dtype = float)\n",
    "\n",
    "\n",
    "\n",
    "for ele in np.nditer(arr2, op_flags = ['readwrite']):\n",
    "    if ele < 18:\n",
    "        ele[...] = 0                     # NaN is a folat value\n",
    "    else:\n",
    "        ele[...] = ele+10\n",
    "print(arr2)\n"
   ]
  },
  {
   "cell_type": "code",
   "execution_count": 178,
   "id": "0089293a",
   "metadata": {},
   "outputs": [
    {
     "ename": "ValueError",
     "evalue": "assignment destination is read-only",
     "output_type": "error",
     "traceback": [
      "\u001b[1;31m---------------------------------------------------------------------------\u001b[0m",
      "\u001b[1;31mValueError\u001b[0m                                Traceback (most recent call last)",
      "Input \u001b[1;32mIn [178]\u001b[0m, in \u001b[0;36m<cell line: 9>\u001b[1;34m()\u001b[0m\n\u001b[0;32m      9\u001b[0m \u001b[38;5;28;01mfor\u001b[39;00m ele \u001b[38;5;129;01min\u001b[39;00m np\u001b[38;5;241m.\u001b[39mnditer(arr2, op_flags \u001b[38;5;241m=\u001b[39m [\u001b[38;5;124m'\u001b[39m\u001b[38;5;124mreadonly\u001b[39m\u001b[38;5;124m'\u001b[39m]):\n\u001b[0;32m     10\u001b[0m     \u001b[38;5;28;01mif\u001b[39;00m ele \u001b[38;5;241m<\u001b[39m \u001b[38;5;241m18\u001b[39m:\n\u001b[1;32m---> 11\u001b[0m         ele[\u001b[38;5;241m.\u001b[39m\u001b[38;5;241m.\u001b[39m\u001b[38;5;241m.\u001b[39m] \u001b[38;5;241m=\u001b[39m \u001b[38;5;241m0\u001b[39m                     \u001b[38;5;66;03m# NaN is a folat value\u001b[39;00m\n\u001b[0;32m     12\u001b[0m     \u001b[38;5;28;01melse\u001b[39;00m:\n\u001b[0;32m     13\u001b[0m         ele[\u001b[38;5;241m.\u001b[39m\u001b[38;5;241m.\u001b[39m\u001b[38;5;241m.\u001b[39m] \u001b[38;5;241m=\u001b[39m ele\u001b[38;5;241m+\u001b[39m\u001b[38;5;241m10\u001b[39m\n",
      "\u001b[1;31mValueError\u001b[0m: assignment destination is read-only"
     ]
    }
   ],
   "source": [
    "arr2 =np.array([[15, 49,  8, 18, 16, 42],\n",
    "       [34,  4, 44, 38,  8, 49],\n",
    "       [26, 17, 12, 47, 29, 18],\n",
    "       [45, 32, 27, 29, 23, 29],\n",
    "       [42,  3, 35, 30, 15, 36]] ,dtype = float)\n",
    "\n",
    "\n",
    "\n",
    "for ele in np.nditer(arr2, op_flags = ['readonly']):\n",
    "    if ele < 18:\n",
    "        ele[...] = 0                     # NaN is a folat value\n",
    "    else:\n",
    "        ele[...] = ele+10\n",
    "print(arr2)\n"
   ]
  },
  {
   "cell_type": "code",
   "execution_count": 179,
   "id": "f5be05e1",
   "metadata": {},
   "outputs": [
    {
     "name": "stdout",
     "output_type": "stream",
     "text": [
      "[[ 0. 59.  0. 28.  0. 52.]\n",
      " [44.  0. 54. 48.  0. 59.]\n",
      " [36.  0.  0. 57. 39. 28.]\n",
      " [55. 42. 37. 39. 33. 39.]\n",
      " [52.  0. 45. 40.  0. 46.]]\n"
     ]
    }
   ],
   "source": [
    "arr2 =np.array([[15, 49,  8, 18, 16, 42],\n",
    "       [34,  4, 44, 38,  8, 49],\n",
    "       [26, 17, 12, 47, 29, 18],\n",
    "       [45, 32, 27, 29, 23, 29],\n",
    "       [42,  3, 35, 30, 15, 36]] ,dtype = float)\n",
    "\n",
    "\n",
    "\n",
    "for ele in np.nditer(arr2, op_flags = ['writeonly']):\n",
    "    if ele < 18:\n",
    "        ele[...] = 0                     # NaN is a folat value\n",
    "    else:\n",
    "        ele[...] = ele+10\n",
    "print(arr2)\n"
   ]
  },
  {
   "cell_type": "markdown",
   "id": "4495fe99",
   "metadata": {},
   "source": [
    "# Splitting of array"
   ]
  },
  {
   "cell_type": "code",
   "execution_count": 232,
   "id": "dda3c50e",
   "metadata": {},
   "outputs": [
    {
     "data": {
      "text/plain": [
       "array([33, 32, 35, 24, 45, 25, 44, 20, 30, 55, 25, 26, 42, 48, 21, 28, 36,\n",
       "       41, 22, 29, 30, 36, 22, 38, 27, 22, 38, 55, 30, 42, 21, 31, 41, 30,\n",
       "       30, 53])"
      ]
     },
     "execution_count": 232,
     "metadata": {},
     "output_type": "execute_result"
    }
   ],
   "source": [
    "arr1"
   ]
  },
  {
   "cell_type": "code",
   "execution_count": 233,
   "id": "9d9f94eb",
   "metadata": {},
   "outputs": [
    {
     "data": {
      "text/plain": [
       "36"
      ]
     },
     "execution_count": 233,
     "metadata": {},
     "output_type": "execute_result"
    }
   ],
   "source": [
    "len(arr1)"
   ]
  },
  {
   "cell_type": "code",
   "execution_count": 234,
   "id": "90a68f97",
   "metadata": {},
   "outputs": [
    {
     "data": {
      "text/plain": [
       "[array([33, 32, 35, 24, 45, 25]),\n",
       " array([44, 20, 30, 55, 25, 26]),\n",
       " array([42, 48, 21, 28, 36, 41]),\n",
       " array([22, 29, 30, 36, 22, 38]),\n",
       " array([27, 22, 38, 55, 30, 42]),\n",
       " array([21, 31, 41, 30, 30, 53])]"
      ]
     },
     "execution_count": 234,
     "metadata": {},
     "output_type": "execute_result"
    }
   ],
   "source": [
    "np.split(arr1, 6)"
   ]
  },
  {
   "cell_type": "code",
   "execution_count": 183,
   "id": "174fd19c",
   "metadata": {},
   "outputs": [
    {
     "ename": "ValueError",
     "evalue": "array split does not result in an equal division",
     "output_type": "error",
     "traceback": [
      "\u001b[1;31m---------------------------------------------------------------------------\u001b[0m",
      "\u001b[1;31mValueError\u001b[0m                                Traceback (most recent call last)",
      "Input \u001b[1;32mIn [183]\u001b[0m, in \u001b[0;36m<cell line: 1>\u001b[1;34m()\u001b[0m\n\u001b[1;32m----> 1\u001b[0m \u001b[43mnp\u001b[49m\u001b[38;5;241;43m.\u001b[39;49m\u001b[43msplit\u001b[49m\u001b[43m(\u001b[49m\u001b[43marr1\u001b[49m\u001b[43m,\u001b[49m\u001b[43m \u001b[49m\u001b[38;5;241;43m4\u001b[39;49m\u001b[43m)\u001b[49m\n",
      "File \u001b[1;32m<__array_function__ internals>:5\u001b[0m, in \u001b[0;36msplit\u001b[1;34m(*args, **kwargs)\u001b[0m\n",
      "File \u001b[1;32m~\\anaconda3\\lib\\site-packages\\numpy\\lib\\shape_base.py:872\u001b[0m, in \u001b[0;36msplit\u001b[1;34m(ary, indices_or_sections, axis)\u001b[0m\n\u001b[0;32m    870\u001b[0m     N \u001b[38;5;241m=\u001b[39m ary\u001b[38;5;241m.\u001b[39mshape[axis]\n\u001b[0;32m    871\u001b[0m     \u001b[38;5;28;01mif\u001b[39;00m N \u001b[38;5;241m%\u001b[39m sections:\n\u001b[1;32m--> 872\u001b[0m         \u001b[38;5;28;01mraise\u001b[39;00m \u001b[38;5;167;01mValueError\u001b[39;00m(\n\u001b[0;32m    873\u001b[0m             \u001b[38;5;124m'\u001b[39m\u001b[38;5;124marray split does not result in an equal division\u001b[39m\u001b[38;5;124m'\u001b[39m) \u001b[38;5;28;01mfrom\u001b[39;00m \u001b[38;5;28mNone\u001b[39m\n\u001b[0;32m    874\u001b[0m \u001b[38;5;28;01mreturn\u001b[39;00m array_split(ary, indices_or_sections, axis)\n",
      "\u001b[1;31mValueError\u001b[0m: array split does not result in an equal division"
     ]
    }
   ],
   "source": [
    "np.split(arr1, 4)"
   ]
  },
  {
   "cell_type": "code",
   "execution_count": 235,
   "id": "e0bd0db0",
   "metadata": {},
   "outputs": [
    {
     "data": {
      "text/plain": [
       "array([52, 35, 54, 42, 47, 37, 36, 38, 35, 22, 53, 35, 37, 28, 28, 54, 34,\n",
       "       48, 21, 27, 43, 53, 28, 54, 40, 47, 52, 43, 48, 53, 30, 36, 51, 52,\n",
       "       40, 46])"
      ]
     },
     "execution_count": 235,
     "metadata": {},
     "output_type": "execute_result"
    }
   ],
   "source": [
    "arr1 = np.random.randint(20,56,36)\n",
    "arr1"
   ]
  },
  {
   "cell_type": "code",
   "execution_count": 236,
   "id": "fc2b0b4a",
   "metadata": {},
   "outputs": [
    {
     "data": {
      "text/plain": [
       "[array([52, 35]),\n",
       " array([54, 42, 47]),\n",
       " array([37, 36, 38, 35]),\n",
       " array([22, 53, 35, 37, 28]),\n",
       " array([28, 54, 34, 48, 21, 27]),\n",
       " array([43, 53, 28, 54, 40, 47, 52, 43, 48, 53, 30, 36, 51, 52, 40, 46])]"
      ]
     },
     "execution_count": 236,
     "metadata": {},
     "output_type": "execute_result"
    }
   ],
   "source": [
    "np.split(arr1, [2,5,9,14,20])"
   ]
  },
  {
   "cell_type": "code",
   "execution_count": 237,
   "id": "07d504ab",
   "metadata": {},
   "outputs": [],
   "source": [
    "arr2 = arr1.reshape(6,6)"
   ]
  },
  {
   "cell_type": "code",
   "execution_count": 238,
   "id": "c5284881",
   "metadata": {},
   "outputs": [
    {
     "data": {
      "text/plain": [
       "array([[52, 35, 54, 42, 47, 37],\n",
       "       [36, 38, 35, 22, 53, 35],\n",
       "       [37, 28, 28, 54, 34, 48],\n",
       "       [21, 27, 43, 53, 28, 54],\n",
       "       [40, 47, 52, 43, 48, 53],\n",
       "       [30, 36, 51, 52, 40, 46]])"
      ]
     },
     "execution_count": 238,
     "metadata": {},
     "output_type": "execute_result"
    }
   ],
   "source": [
    "arr2"
   ]
  },
  {
   "cell_type": "code",
   "execution_count": 239,
   "id": "1f7bf772",
   "metadata": {},
   "outputs": [
    {
     "data": {
      "text/plain": [
       "[array([[52, 35, 54, 42, 47, 37],\n",
       "        [36, 38, 35, 22, 53, 35]]),\n",
       " array([[37, 28, 28, 54, 34, 48],\n",
       "        [21, 27, 43, 53, 28, 54]]),\n",
       " array([[40, 47, 52, 43, 48, 53],\n",
       "        [30, 36, 51, 52, 40, 46]])]"
      ]
     },
     "execution_count": 239,
     "metadata": {},
     "output_type": "execute_result"
    }
   ],
   "source": [
    "np.split(arr2,3)"
   ]
  },
  {
   "cell_type": "code",
   "execution_count": 240,
   "id": "0f9ddc0e",
   "metadata": {},
   "outputs": [
    {
     "data": {
      "text/plain": [
       "[array([[52, 35, 54, 42, 47, 37],\n",
       "        [36, 38, 35, 22, 53, 35]]),\n",
       " array([[37, 28, 28, 54, 34, 48],\n",
       "        [21, 27, 43, 53, 28, 54]]),\n",
       " array([[40, 47, 52, 43, 48, 53],\n",
       "        [30, 36, 51, 52, 40, 46]])]"
      ]
     },
     "execution_count": 240,
     "metadata": {},
     "output_type": "execute_result"
    }
   ],
   "source": [
    "np.split(arr2,3, axis =0)"
   ]
  },
  {
   "cell_type": "code",
   "execution_count": 241,
   "id": "2f91e175",
   "metadata": {},
   "outputs": [
    {
     "data": {
      "text/plain": [
       "array([[52, 35, 54, 42, 47, 37],\n",
       "       [36, 38, 35, 22, 53, 35],\n",
       "       [37, 28, 28, 54, 34, 48],\n",
       "       [21, 27, 43, 53, 28, 54],\n",
       "       [40, 47, 52, 43, 48, 53],\n",
       "       [30, 36, 51, 52, 40, 46]])"
      ]
     },
     "execution_count": 241,
     "metadata": {},
     "output_type": "execute_result"
    }
   ],
   "source": [
    "arr2"
   ]
  },
  {
   "cell_type": "code",
   "execution_count": 242,
   "id": "44aeb795",
   "metadata": {},
   "outputs": [
    {
     "data": {
      "text/plain": [
       "[array([[52, 35],\n",
       "        [36, 38],\n",
       "        [37, 28],\n",
       "        [21, 27],\n",
       "        [40, 47],\n",
       "        [30, 36]]),\n",
       " array([[54, 42],\n",
       "        [35, 22],\n",
       "        [28, 54],\n",
       "        [43, 53],\n",
       "        [52, 43],\n",
       "        [51, 52]]),\n",
       " array([[47, 37],\n",
       "        [53, 35],\n",
       "        [34, 48],\n",
       "        [28, 54],\n",
       "        [48, 53],\n",
       "        [40, 46]])]"
      ]
     },
     "execution_count": 242,
     "metadata": {},
     "output_type": "execute_result"
    }
   ],
   "source": [
    "np.split(arr2,3, axis =1)"
   ]
  },
  {
   "cell_type": "code",
   "execution_count": 243,
   "id": "9cb336ec",
   "metadata": {},
   "outputs": [
    {
     "data": {
      "text/plain": [
       "array([[52, 35, 54, 42, 47, 37],\n",
       "       [36, 38, 35, 22, 53, 35],\n",
       "       [37, 28, 28, 54, 34, 48],\n",
       "       [21, 27, 43, 53, 28, 54],\n",
       "       [40, 47, 52, 43, 48, 53],\n",
       "       [30, 36, 51, 52, 40, 46]])"
      ]
     },
     "execution_count": 243,
     "metadata": {},
     "output_type": "execute_result"
    }
   ],
   "source": [
    "arr2"
   ]
  },
  {
   "cell_type": "code",
   "execution_count": 248,
   "id": "21dbc32d",
   "metadata": {},
   "outputs": [
    {
     "data": {
      "text/plain": [
       "[array([], shape=(0, 6), dtype=int32),\n",
       " array([[52, 35, 54, 42, 47, 37],\n",
       "        [36, 38, 35, 22, 53, 35],\n",
       "        [37, 28, 28, 54, 34, 48]]),\n",
       " array([[21, 27, 43, 53, 28, 54],\n",
       "        [40, 47, 52, 43, 48, 53],\n",
       "        [30, 36, 51, 52, 40, 46]])]"
      ]
     },
     "execution_count": 248,
     "metadata": {},
     "output_type": "execute_result"
    }
   ],
   "source": [
    "np.split(arr2, [0,3], axis =0)"
   ]
  },
  {
   "cell_type": "code",
   "execution_count": 249,
   "id": "43aed9c4",
   "metadata": {},
   "outputs": [
    {
     "data": {
      "text/plain": [
       "[array([[52, 35, 54, 42, 47, 37]]),\n",
       " array([[36, 38, 35, 22, 53, 35],\n",
       "        [37, 28, 28, 54, 34, 48]]),\n",
       " array([[21, 27, 43, 53, 28, 54],\n",
       "        [40, 47, 52, 43, 48, 53],\n",
       "        [30, 36, 51, 52, 40, 46]])]"
      ]
     },
     "execution_count": 249,
     "metadata": {},
     "output_type": "execute_result"
    }
   ],
   "source": [
    "np.split(arr2, [1,3], axis =0)"
   ]
  },
  {
   "cell_type": "code",
   "execution_count": 251,
   "id": "9844bb4a",
   "metadata": {},
   "outputs": [
    {
     "data": {
      "text/plain": [
       "array([[52, 35, 54, 42, 47, 37],\n",
       "       [36, 38, 35, 22, 53, 35],\n",
       "       [37, 28, 28, 54, 34, 48],\n",
       "       [21, 27, 43, 53, 28, 54],\n",
       "       [40, 47, 52, 43, 48, 53],\n",
       "       [30, 36, 51, 52, 40, 46]])"
      ]
     },
     "execution_count": 251,
     "metadata": {},
     "output_type": "execute_result"
    }
   ],
   "source": [
    "arr2"
   ]
  },
  {
   "cell_type": "code",
   "execution_count": 250,
   "id": "b7c2a2ab",
   "metadata": {},
   "outputs": [
    {
     "data": {
      "text/plain": [
       "[array([[52],\n",
       "        [36],\n",
       "        [37],\n",
       "        [21],\n",
       "        [40],\n",
       "        [30]]),\n",
       " array([[35, 54],\n",
       "        [38, 35],\n",
       "        [28, 28],\n",
       "        [27, 43],\n",
       "        [47, 52],\n",
       "        [36, 51]]),\n",
       " array([[42, 47, 37],\n",
       "        [22, 53, 35],\n",
       "        [54, 34, 48],\n",
       "        [53, 28, 54],\n",
       "        [43, 48, 53],\n",
       "        [52, 40, 46]])]"
      ]
     },
     "execution_count": 250,
     "metadata": {},
     "output_type": "execute_result"
    }
   ],
   "source": [
    "np.split(arr2, [1,3], axis =1)"
   ]
  },
  {
   "cell_type": "code",
   "execution_count": 252,
   "id": "92c69966",
   "metadata": {},
   "outputs": [
    {
     "data": {
      "text/plain": [
       "[array([], shape=(6, 0), dtype=int32),\n",
       " array([[52, 35, 54],\n",
       "        [36, 38, 35],\n",
       "        [37, 28, 28],\n",
       "        [21, 27, 43],\n",
       "        [40, 47, 52],\n",
       "        [30, 36, 51]]),\n",
       " array([[42, 47],\n",
       "        [22, 53],\n",
       "        [54, 34],\n",
       "        [53, 28],\n",
       "        [43, 48],\n",
       "        [52, 40]]),\n",
       " array([[37],\n",
       "        [35],\n",
       "        [48],\n",
       "        [54],\n",
       "        [53],\n",
       "        [46]])]"
      ]
     },
     "execution_count": 252,
     "metadata": {},
     "output_type": "execute_result"
    }
   ],
   "source": [
    "np.split(arr2, [0,3,5], axis =1)"
   ]
  },
  {
   "cell_type": "code",
   "execution_count": 210,
   "id": "4c9fe81c",
   "metadata": {},
   "outputs": [
    {
     "data": {
      "text/plain": [
       "array([[49, 46, 44, 44, 23, 23],\n",
       "       [27, 32, 47, 25, 42, 54],\n",
       "       [26, 53, 28, 25, 47, 44],\n",
       "       [26, 52, 22, 47, 34, 32],\n",
       "       [51, 49, 49, 36, 20, 51],\n",
       "       [22, 29, 27, 48, 33, 42]])"
      ]
     },
     "execution_count": 210,
     "metadata": {},
     "output_type": "execute_result"
    }
   ],
   "source": [
    "arr2"
   ]
  },
  {
   "cell_type": "markdown",
   "id": "0a1bed05",
   "metadata": {},
   "source": [
    "# Vectorization"
   ]
  },
  {
   "cell_type": "code",
   "execution_count": 211,
   "id": "f51efc87",
   "metadata": {},
   "outputs": [
    {
     "data": {
      "text/plain": [
       "array([10, 20, 30, 40, 50])"
      ]
     },
     "execution_count": 211,
     "metadata": {},
     "output_type": "execute_result"
    }
   ],
   "source": [
    "arr1 = np.array([10,20,30,40,50])\n",
    "arr1"
   ]
  },
  {
   "cell_type": "code",
   "execution_count": 212,
   "id": "2708cf9b",
   "metadata": {},
   "outputs": [
    {
     "data": {
      "text/plain": [
       "array([11, 22, 33, 44, 55])"
      ]
     },
     "execution_count": 212,
     "metadata": {},
     "output_type": "execute_result"
    }
   ],
   "source": [
    "arr2 = np.array([11,22,33,44,55])\n",
    "arr2"
   ]
  },
  {
   "cell_type": "code",
   "execution_count": 213,
   "id": "01ba83dc",
   "metadata": {},
   "outputs": [
    {
     "data": {
      "text/plain": [
       "array([ 110,  440,  990, 1760, 2750])"
      ]
     },
     "execution_count": 213,
     "metadata": {},
     "output_type": "execute_result"
    }
   ],
   "source": [
    "#[110,42,990,84,2750]\n",
    "arr1* arr2\n"
   ]
  },
  {
   "cell_type": "code",
   "execution_count": 214,
   "id": "4cb204c1",
   "metadata": {},
   "outputs": [
    {
     "data": {
      "text/plain": [
       "array([ 21,  42,  63,  84, 105])"
      ]
     },
     "execution_count": 214,
     "metadata": {},
     "output_type": "execute_result"
    }
   ],
   "source": [
    "arr1 + arr2"
   ]
  },
  {
   "cell_type": "code",
   "execution_count": 215,
   "id": "4f11ac98",
   "metadata": {},
   "outputs": [
    {
     "data": {
      "text/plain": [
       "(array([0, 1, 2, 3, 4], dtype=int64),)"
      ]
     },
     "execution_count": 215,
     "metadata": {},
     "output_type": "execute_result"
    }
   ],
   "source": [
    "np.where(arr1)"
   ]
  },
  {
   "cell_type": "code",
   "execution_count": 217,
   "id": "4e1ab466",
   "metadata": {},
   "outputs": [
    {
     "data": {
      "text/plain": [
       "array([ 110,   42,  990,   84, 2750])"
      ]
     },
     "execution_count": 217,
     "metadata": {},
     "output_type": "execute_result"
    }
   ],
   "source": [
    "\n",
    "def multi_add(x, y):\n",
    "    if list(arr1).index(x)%2 ==0:\n",
    "        return x*y\n",
    "    else:\n",
    "        return x+y\n",
    "\n",
    "multi_add_vector = np.vectorize(multi_add)\n",
    "\n",
    "multi_add_vector(arr1, arr2)"
   ]
  },
  {
   "cell_type": "code",
   "execution_count": 221,
   "id": "763fb303",
   "metadata": {},
   "outputs": [
    {
     "data": {
      "text/plain": [
       "array([ 110,   42,  990,   84, 2750])"
      ]
     },
     "execution_count": 221,
     "metadata": {},
     "output_type": "execute_result"
    }
   ],
   "source": [
    "\n",
    "def multi_add(num1, num2):\n",
    "    ind = list(arr1).index(num1)\n",
    "    if ind%2 == 0:\n",
    "        return num1*num2\n",
    "    else:\n",
    "        return num1+num2\n",
    "\n",
    "multi_add_vector = np.vectorize(multi_add)\n",
    "\n",
    "multi_add_vector(arr1, arr2)"
   ]
  },
  {
   "cell_type": "code",
   "execution_count": 223,
   "id": "b9987e5c",
   "metadata": {},
   "outputs": [
    {
     "data": {
      "text/plain": [
       "array([[ True],\n",
       "       [False],\n",
       "       [ True],\n",
       "       [False],\n",
       "       [ True]])"
      ]
     },
     "execution_count": 223,
     "metadata": {},
     "output_type": "execute_result"
    }
   ],
   "source": [
    "np.argwhere(arr1)%2 ==0"
   ]
  },
  {
   "cell_type": "code",
   "execution_count": 228,
   "id": "b4063a59",
   "metadata": {},
   "outputs": [
    {
     "ename": "ValueError",
     "evalue": "The truth value of an array with more than one element is ambiguous. Use a.any() or a.all()",
     "output_type": "error",
     "traceback": [
      "\u001b[1;31m---------------------------------------------------------------------------\u001b[0m",
      "\u001b[1;31mValueError\u001b[0m                                Traceback (most recent call last)",
      "Input \u001b[1;32mIn [228]\u001b[0m, in \u001b[0;36m<cell line: 9>\u001b[1;34m()\u001b[0m\n\u001b[0;32m      5\u001b[0m         \u001b[38;5;28;01mreturn\u001b[39;00m x\u001b[38;5;241m+\u001b[39my\n\u001b[0;32m      7\u001b[0m multi_add_vector \u001b[38;5;241m=\u001b[39m np\u001b[38;5;241m.\u001b[39mvectorize(multi_add)\n\u001b[1;32m----> 9\u001b[0m \u001b[43mmulti_add_vector\u001b[49m\u001b[43m(\u001b[49m\u001b[43marr1\u001b[49m\u001b[43m,\u001b[49m\u001b[43m \u001b[49m\u001b[43marr2\u001b[49m\u001b[43m)\u001b[49m\n",
      "File \u001b[1;32m~\\anaconda3\\lib\\site-packages\\numpy\\lib\\function_base.py:2163\u001b[0m, in \u001b[0;36mvectorize.__call__\u001b[1;34m(self, *args, **kwargs)\u001b[0m\n\u001b[0;32m   2160\u001b[0m     vargs \u001b[38;5;241m=\u001b[39m [args[_i] \u001b[38;5;28;01mfor\u001b[39;00m _i \u001b[38;5;129;01min\u001b[39;00m inds]\n\u001b[0;32m   2161\u001b[0m     vargs\u001b[38;5;241m.\u001b[39mextend([kwargs[_n] \u001b[38;5;28;01mfor\u001b[39;00m _n \u001b[38;5;129;01min\u001b[39;00m names])\n\u001b[1;32m-> 2163\u001b[0m \u001b[38;5;28;01mreturn\u001b[39;00m \u001b[38;5;28;43mself\u001b[39;49m\u001b[38;5;241;43m.\u001b[39;49m\u001b[43m_vectorize_call\u001b[49m\u001b[43m(\u001b[49m\u001b[43mfunc\u001b[49m\u001b[38;5;241;43m=\u001b[39;49m\u001b[43mfunc\u001b[49m\u001b[43m,\u001b[49m\u001b[43m \u001b[49m\u001b[43margs\u001b[49m\u001b[38;5;241;43m=\u001b[39;49m\u001b[43mvargs\u001b[49m\u001b[43m)\u001b[49m\n",
      "File \u001b[1;32m~\\anaconda3\\lib\\site-packages\\numpy\\lib\\function_base.py:2241\u001b[0m, in \u001b[0;36mvectorize._vectorize_call\u001b[1;34m(self, func, args)\u001b[0m\n\u001b[0;32m   2239\u001b[0m     res \u001b[38;5;241m=\u001b[39m func()\n\u001b[0;32m   2240\u001b[0m \u001b[38;5;28;01melse\u001b[39;00m:\n\u001b[1;32m-> 2241\u001b[0m     ufunc, otypes \u001b[38;5;241m=\u001b[39m \u001b[38;5;28;43mself\u001b[39;49m\u001b[38;5;241;43m.\u001b[39;49m\u001b[43m_get_ufunc_and_otypes\u001b[49m\u001b[43m(\u001b[49m\u001b[43mfunc\u001b[49m\u001b[38;5;241;43m=\u001b[39;49m\u001b[43mfunc\u001b[49m\u001b[43m,\u001b[49m\u001b[43m \u001b[49m\u001b[43margs\u001b[49m\u001b[38;5;241;43m=\u001b[39;49m\u001b[43margs\u001b[49m\u001b[43m)\u001b[49m\n\u001b[0;32m   2243\u001b[0m     \u001b[38;5;66;03m# Convert args to object arrays first\u001b[39;00m\n\u001b[0;32m   2244\u001b[0m     inputs \u001b[38;5;241m=\u001b[39m [asanyarray(a, dtype\u001b[38;5;241m=\u001b[39m\u001b[38;5;28mobject\u001b[39m) \u001b[38;5;28;01mfor\u001b[39;00m a \u001b[38;5;129;01min\u001b[39;00m args]\n",
      "File \u001b[1;32m~\\anaconda3\\lib\\site-packages\\numpy\\lib\\function_base.py:2201\u001b[0m, in \u001b[0;36mvectorize._get_ufunc_and_otypes\u001b[1;34m(self, func, args)\u001b[0m\n\u001b[0;32m   2197\u001b[0m     \u001b[38;5;28;01mraise\u001b[39;00m \u001b[38;5;167;01mValueError\u001b[39;00m(\u001b[38;5;124m'\u001b[39m\u001b[38;5;124mcannot call `vectorize` on size 0 inputs \u001b[39m\u001b[38;5;124m'\u001b[39m\n\u001b[0;32m   2198\u001b[0m                      \u001b[38;5;124m'\u001b[39m\u001b[38;5;124munless `otypes` is set\u001b[39m\u001b[38;5;124m'\u001b[39m)\n\u001b[0;32m   2200\u001b[0m inputs \u001b[38;5;241m=\u001b[39m [arg\u001b[38;5;241m.\u001b[39mflat[\u001b[38;5;241m0\u001b[39m] \u001b[38;5;28;01mfor\u001b[39;00m arg \u001b[38;5;129;01min\u001b[39;00m args]\n\u001b[1;32m-> 2201\u001b[0m outputs \u001b[38;5;241m=\u001b[39m \u001b[43mfunc\u001b[49m\u001b[43m(\u001b[49m\u001b[38;5;241;43m*\u001b[39;49m\u001b[43minputs\u001b[49m\u001b[43m)\u001b[49m\n\u001b[0;32m   2203\u001b[0m \u001b[38;5;66;03m# Performance note: profiling indicates that -- for simple\u001b[39;00m\n\u001b[0;32m   2204\u001b[0m \u001b[38;5;66;03m# functions at least -- this wrapping can almost double the\u001b[39;00m\n\u001b[0;32m   2205\u001b[0m \u001b[38;5;66;03m# execution time.\u001b[39;00m\n\u001b[0;32m   2206\u001b[0m \u001b[38;5;66;03m# Hence we make it optional.\u001b[39;00m\n\u001b[0;32m   2207\u001b[0m \u001b[38;5;28;01mif\u001b[39;00m \u001b[38;5;28mself\u001b[39m\u001b[38;5;241m.\u001b[39mcache:\n",
      "Input \u001b[1;32mIn [228]\u001b[0m, in \u001b[0;36mmulti_add\u001b[1;34m(x, y)\u001b[0m\n\u001b[0;32m      1\u001b[0m \u001b[38;5;28;01mdef\u001b[39;00m \u001b[38;5;21mmulti_add\u001b[39m(x, y):\n\u001b[1;32m----> 2\u001b[0m     \u001b[38;5;28;01mif\u001b[39;00m \u001b[43mnp\u001b[49m\u001b[38;5;241;43m.\u001b[39;49m\u001b[43margwhere\u001b[49m\u001b[43m(\u001b[49m\u001b[43marr1\u001b[49m\u001b[43m)\u001b[49m\u001b[38;5;241;43m%\u001b[39;49m\u001b[38;5;241;43m2\u001b[39;49m\u001b[43m \u001b[49m\u001b[38;5;241;43m==\u001b[39;49m\u001b[38;5;241;43m0\u001b[39;49m:\n\u001b[0;32m      3\u001b[0m         \u001b[38;5;28;01mreturn\u001b[39;00m x\u001b[38;5;241m*\u001b[39my\n\u001b[0;32m      4\u001b[0m     \u001b[38;5;28;01melse\u001b[39;00m:\n",
      "\u001b[1;31mValueError\u001b[0m: The truth value of an array with more than one element is ambiguous. Use a.any() or a.all()"
     ]
    }
   ],
   "source": [
    "def multi_add(x, y):\n",
    "    if np.argwhere(arr1)%2 ==0:\n",
    "        return x*y\n",
    "    else:\n",
    "        return x+y\n",
    "\n",
    "multi_add_vector = np.vectorize(multi_add)\n",
    "\n",
    "multi_add_vector(arr1, arr2)"
   ]
  },
  {
   "cell_type": "code",
   "execution_count": null,
   "id": "99a59f13",
   "metadata": {},
   "outputs": [],
   "source": []
  }
 ],
 "metadata": {
  "kernelspec": {
   "display_name": "Python 3 (ipykernel)",
   "language": "python",
   "name": "python3"
  },
  "language_info": {
   "codemirror_mode": {
    "name": "ipython",
    "version": 3
   },
   "file_extension": ".py",
   "mimetype": "text/x-python",
   "name": "python",
   "nbconvert_exporter": "python",
   "pygments_lexer": "ipython3",
   "version": "3.9.12"
  }
 },
 "nbformat": 4,
 "nbformat_minor": 5
}
