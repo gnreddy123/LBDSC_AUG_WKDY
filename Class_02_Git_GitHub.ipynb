{
 "cells": [
  {
   "cell_type": "code",
   "execution_count": null,
   "id": "c89d9848",
   "metadata": {},
   "outputs": [],
   "source": [
    "What is Git?\n",
    "\n",
    "Git is a mini file tracking system that tracks each and every change. \n",
    "It is a VCS(Version control system) which keeps track of versions.\n",
    "It creates a footprint of each change in the file.\n",
    "\n"
   ]
  }
 ],
 "metadata": {
  "kernelspec": {
   "display_name": "Python 3 (ipykernel)",
   "language": "python",
   "name": "python3"
  },
  "language_info": {
   "codemirror_mode": {
    "name": "ipython",
    "version": 3
   },
   "file_extension": ".py",
   "mimetype": "text/x-python",
   "name": "python",
   "nbconvert_exporter": "python",
   "pygments_lexer": "ipython3",
   "version": "3.9.12"
  }
 },
 "nbformat": 4,
 "nbformat_minor": 5
}
