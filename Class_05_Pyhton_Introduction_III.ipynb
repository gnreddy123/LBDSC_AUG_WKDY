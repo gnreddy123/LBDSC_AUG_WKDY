{
 "cells": [
  {
   "cell_type": "code",
   "execution_count": null,
   "id": "a2f28355",
   "metadata": {},
   "outputs": [],
   "source": [
    "# Input and Output functions in Python\n",
    "# Python programming components"
   ]
  },
  {
   "cell_type": "code",
   "execution_count": null,
   "id": "315f3b40",
   "metadata": {},
   "outputs": [],
   "source": [
    "# Memory Deallocation in Python\n",
    "Object \n",
    "\n"
   ]
  },
  {
   "cell_type": "code",
   "execution_count": 1,
   "id": "94e67113",
   "metadata": {},
   "outputs": [],
   "source": [
    "a = 10\n",
    "b = 10"
   ]
  },
  {
   "cell_type": "code",
   "execution_count": 2,
   "id": "d2d1173d",
   "metadata": {},
   "outputs": [
    {
     "name": "stdout",
     "output_type": "stream",
     "text": [
      "['__abs__', '__add__', '__and__', '__bool__', '__ceil__', '__class__', '__delattr__', '__dir__', '__divmod__', '__doc__', '__eq__', '__float__', '__floor__', '__floordiv__', '__format__', '__ge__', '__getattribute__', '__getnewargs__', '__gt__', '__hash__', '__index__', '__init__', '__init_subclass__', '__int__', '__invert__', '__le__', '__lshift__', '__lt__', '__mod__', '__mul__', '__ne__', '__neg__', '__new__', '__or__', '__pos__', '__pow__', '__radd__', '__rand__', '__rdivmod__', '__reduce__', '__reduce_ex__', '__repr__', '__rfloordiv__', '__rlshift__', '__rmod__', '__rmul__', '__ror__', '__round__', '__rpow__', '__rrshift__', '__rshift__', '__rsub__', '__rtruediv__', '__rxor__', '__setattr__', '__sizeof__', '__str__', '__sub__', '__subclasshook__', '__truediv__', '__trunc__', '__xor__', 'as_integer_ratio', 'bit_length', 'conjugate', 'denominator', 'from_bytes', 'imag', 'numerator', 'real', 'to_bytes']\n"
     ]
    }
   ],
   "source": [
    "print(dir(a))"
   ]
  },
  {
   "cell_type": "code",
   "execution_count": 3,
   "id": "6ababc76",
   "metadata": {},
   "outputs": [
    {
     "name": "stdout",
     "output_type": "stream",
     "text": [
      "28\n"
     ]
    }
   ],
   "source": [
    "import sys\n",
    "print(sys.getsizeof(a))"
   ]
  },
  {
   "cell_type": "code",
   "execution_count": 4,
   "id": "b6d362a0",
   "metadata": {},
   "outputs": [
    {
     "name": "stdout",
     "output_type": "stream",
     "text": [
      "['__class__', '__delattr__', '__dict__', '__dir__', '__doc__', '__eq__', '__format__', '__ge__', '__getattribute__', '__gt__', '__hash__', '__init__', '__init_subclass__', '__le__', '__lt__', '__module__', '__ne__', '__new__', '__reduce__', '__reduce_ex__', '__repr__', '__setattr__', '__sizeof__', '__str__', '__subclasshook__', '__weakref__', 'a', 'b', 'my_method']\n",
      "48\n"
     ]
    }
   ],
   "source": [
    "class A:\n",
    "    a = 10\n",
    "    b = 20\n",
    "    def my_method(self):\n",
    "        print(a)\n",
    "        print(b)\n",
    "a1 = A()\n",
    "print(dir(a1))\n",
    "print(sys.getsizeof(a1))"
   ]
  },
  {
   "cell_type": "code",
   "execution_count": 5,
   "id": "32068ead",
   "metadata": {},
   "outputs": [
    {
     "name": "stdout",
     "output_type": "stream",
     "text": [
      "217\n"
     ]
    }
   ],
   "source": [
    "print(sys.getrefcount(10))"
   ]
  },
  {
   "cell_type": "code",
   "execution_count": null,
   "id": "4b54485a",
   "metadata": {},
   "outputs": [],
   "source": [
    "# Object Reusability\n",
    "    # Integer caching - -5 to 256 - Int\n",
    "    # String Interning - A-Z, a-z, 0-9, _\n",
    "    # Boolean Values - True, False\n",
    "    # None\n",
    "    \n",
    "# Float - 0-1, Complex, Derived Data Types"
   ]
  },
  {
   "cell_type": "code",
   "execution_count": 7,
   "id": "72d8c60e",
   "metadata": {},
   "outputs": [
    {
     "name": "stdout",
     "output_type": "stream",
     "text": [
      "2741864655440\n",
      "2741864655760\n",
      "2741864655760\n",
      "2741864655440\n",
      "398\n",
      "238\n"
     ]
    }
   ],
   "source": [
    "a = 10\n",
    "b = 20\n",
    "c = 20\n",
    "d = 10\n",
    "print(id(a))\n",
    "print(id(b))\n",
    "print(id(c))\n",
    "print(id(d))\n",
    "print(sys.getrefcount(b))\n",
    "print(sys.getrefcount(d))"
   ]
  },
  {
   "cell_type": "code",
   "execution_count": 11,
   "id": "69b0614b",
   "metadata": {},
   "outputs": [
    {
     "name": "stdout",
     "output_type": "stream",
     "text": [
      "2741950987472\n",
      "2741950985808\n",
      "3\n",
      "3\n"
     ]
    }
   ],
   "source": [
    "a = 257\n",
    "b = 257\n",
    "print(id(a))\n",
    "print(id(b))\n",
    "print(sys.getrefcount(a))\n",
    "print(sys.getrefcount(b))"
   ]
  },
  {
   "cell_type": "code",
   "execution_count": 12,
   "id": "a0e34aa6",
   "metadata": {},
   "outputs": [
    {
     "name": "stdout",
     "output_type": "stream",
     "text": [
      "3\n"
     ]
    }
   ],
   "source": [
    "c = 257\n",
    "print(sys.getrefcount(c))"
   ]
  },
  {
   "cell_type": "code",
   "execution_count": null,
   "id": "4ae8a65d",
   "metadata": {},
   "outputs": [],
   "source": [
    "# Memory Deallocation\n",
    "# Garbage collector - runs from time to time and check which object are having reference count == 0"
   ]
  },
  {
   "cell_type": "code",
   "execution_count": null,
   "id": "85840696",
   "metadata": {},
   "outputs": [],
   "source": [
    "a = 1000\n",
    "b = 1000\n",
    "refcount -> 1000 == 2\n",
    "a = 1100\n",
    "refcount -> 1000 == 1\n",
    "b = 1200\n",
    "recount - 1000 == 0\n"
   ]
  },
  {
   "cell_type": "code",
   "execution_count": null,
   "id": "faefadd5",
   "metadata": {},
   "outputs": [],
   "source": [
    "a = 10\n",
    "b = 10\n",
    "del a\n",
    "del b"
   ]
  },
  {
   "cell_type": "code",
   "execution_count": 5,
   "id": "4f327c33",
   "metadata": {},
   "outputs": [
    {
     "name": "stdout",
     "output_type": "stream",
     "text": [
      "3\n",
      "3\n",
      "3\n"
     ]
    }
   ],
   "source": [
    "import sys\n",
    "print(sys.getrefcount(1000))\n",
    "a = 1000\n",
    "b = 1000\n",
    "c = 1000\n",
    "print(sys.getrefcount(1000))\n",
    "del a, b, c\n",
    "print(sys.getrefcount(1000))"
   ]
  },
  {
   "cell_type": "code",
   "execution_count": null,
   "id": "f7b2ef4b",
   "metadata": {},
   "outputs": [],
   "source": [
    "# input() -"
   ]
  },
  {
   "cell_type": "code",
   "execution_count": 6,
   "id": "09e63916",
   "metadata": {},
   "outputs": [
    {
     "name": "stdout",
     "output_type": "stream",
     "text": [
      "10 <class 'int'>\n",
      "20 <class 'int'>\n",
      "30\n"
     ]
    }
   ],
   "source": [
    "# Write a program to add two number\n",
    "num1 = 10\n",
    "print(num1, type(num1))\n",
    "num2 = 20\n",
    "print(num2, type(num2))\n",
    "print(num1+num2)"
   ]
  },
  {
   "cell_type": "code",
   "execution_count": 7,
   "id": "dfa2549b",
   "metadata": {},
   "outputs": [
    {
     "name": "stdout",
     "output_type": "stream",
     "text": [
      "Enter first number: 100\n",
      "100 <class 'str'>\n",
      "Enter second number: 90\n",
      "100 <class 'str'>\n",
      "10090\n"
     ]
    }
   ],
   "source": [
    "num1 = input('Enter first number: ')\n",
    "print(num1, type(num1))\n",
    "num2 = input('Enter second number: ')\n",
    "print(num1, type(num1))\n",
    "print(num1+num2)\n",
    "\n",
    "# Input function converts every data inot string type\n",
    "# + => Addition - Numbers\n",
    "# + => Concatenation - Strings"
   ]
  },
  {
   "cell_type": "code",
   "execution_count": 8,
   "id": "81e6b14d",
   "metadata": {},
   "outputs": [
    {
     "name": "stdout",
     "output_type": "stream",
     "text": [
      "Enter first number: 100\n",
      "100 <class 'int'>\n",
      "Enter second number: 90\n",
      "100 <class 'int'>\n",
      "190\n"
     ]
    }
   ],
   "source": [
    "num1 = int(input('Enter first number: '))\n",
    "print(num1, type(num1))\n",
    "num2 = int(input('Enter second number: '))\n",
    "print(num1, type(num1))\n",
    "print(num1+num2)\n"
   ]
  },
  {
   "cell_type": "code",
   "execution_count": 9,
   "id": "03c713f4",
   "metadata": {},
   "outputs": [
    {
     "name": "stdout",
     "output_type": "stream",
     "text": [
      "Enter first number: 100\n",
      "100.0 <class 'float'>\n",
      "Enter second number: 90\n",
      "100.0 <class 'float'>\n",
      "190.0\n"
     ]
    }
   ],
   "source": [
    "num1 = float(input('Enter first number: '))\n",
    "print(num1, type(num1))\n",
    "num2 = float(input('Enter second number: '))\n",
    "print(num1, type(num1))\n",
    "print(num1+num2)\n"
   ]
  },
  {
   "cell_type": "code",
   "execution_count": 10,
   "id": "1fca06cc",
   "metadata": {},
   "outputs": [
    {
     "name": "stdout",
     "output_type": "stream",
     "text": [
      "Enter your name: Gopinath\n",
      "Gopinath <class 'str'>\n",
      "Enter the age: 34\n",
      "34 <class 'int'>\n",
      "34000 <class 'int'>\n"
     ]
    }
   ],
   "source": [
    "name = input('Enter your name: ')\n",
    "print(name, type(name))\n",
    "age = int(input('Enter the age: '))\n",
    "print(age, type(age))\n",
    "sal = age * 1000\n",
    "print(sal, type(sal))"
   ]
  },
  {
   "cell_type": "code",
   "execution_count": 11,
   "id": "03639ce1",
   "metadata": {},
   "outputs": [
    {
     "name": "stdout",
     "output_type": "stream",
     "text": [
      "Enter your name: Gopinath\n",
      "Gopinath <class 'str'>\n",
      "Enter the age: 34\n",
      "34 <class 'str'>\n",
      "34343434343434343434343434343434343434343434343434343434343434343434343434343434343434343434343434343434343434343434343434343434343434343434343434343434343434343434343434343434343434343434343434343434343434343434343434343434343434343434343434343434343434343434343434343434343434343434343434343434343434343434343434343434343434343434343434343434343434343434343434343434343434343434343434343434343434343434343434343434343434343434343434343434343434343434343434343434343434343434343434343434343434343434343434343434343434343434343434343434343434343434343434343434343434343434343434343434343434343434343434343434343434343434343434343434343434343434343434343434343434343434343434343434343434343434343434343434343434343434343434343434343434343434343434343434343434343434343434343434343434343434343434343434343434343434343434343434343434343434343434343434343434343434343434343434343434343434343434343434343434343434343434343434343434343434343434343434343434343434343434343434343434343434343434343434343434343434343434343434343434343434343434343434343434343434343434343434343434343434343434343434343434343434343434343434343434343434343434343434343434343434343434343434343434343434343434343434343434343434343434343434343434343434343434343434343434343434343434343434343434343434343434343434343434343434343434343434343434343434343434343434343434343434343434343434343434343434343434343434343434343434343434343434343434343434343434343434343434343434343434343434343434343434343434343434343434343434343434343434343434343434343434343434343434343434343434343434343434343434343434343434343434343434343434343434343434343434343434343434343434343434343434343434343434343434343434343434343434343434343434343434343434343434343434343434343434343434343434343434343434343434343434343434343434343434343434343434343434343434343434343434343434343434343434343434343434343434343434343434343434343434343434343434343434343434343434343434343434343434343434343434343434343434343434343434343434343434343434343434343434343434343434343434 <class 'str'>\n"
     ]
    }
   ],
   "source": [
    "name = input('Enter your name: ')\n",
    "print(name, type(name))\n",
    "age = str(int(input('Enter the age: ')))\n",
    "print(age, type(age))\n",
    "sal = age * 1000\n",
    "print(sal, type(sal))"
   ]
  },
  {
   "cell_type": "code",
   "execution_count": null,
   "id": "bd9f731c",
   "metadata": {},
   "outputs": [],
   "source": [
    "# Output - print(val1, val2, val3..., sep=' ', end = '\\n')\n",
    "\n",
    "\n",
    "# sep attribute is used in a single print statment where we use multiple values\n",
    "# print(10, 20.30, 30+40j, None, 'str', True)\n",
    "print(10, 20.30, 30+40j, None, 'str', True, sep = \"'\")\n",
    "# print(10, 20.30, 30+40j, None, 'str', True, sep = ', ')\n",
    "# print(10, 20.30, 30+40j, None, 'str', True, sep = '::')\n",
    "# print(10, 20.30, 30+40j, None, 'str', True, sep = '\\t')\n",
    "\n",
    "\n",
    "# end attribute is used in multi print statment\n",
    "# print(10)\n",
    "# print(10.20)\n",
    "# print(10+20j)\n",
    "# print(None)\n",
    "# print(True)\n",
    "# print('Hello')\n",
    "\n",
    "\n",
    "# \\t - Horizontal tab\n",
    "# \\n - new line"
   ]
  },
  {
   "cell_type": "code",
   "execution_count": 12,
   "id": "b6c03015",
   "metadata": {},
   "outputs": [
    {
     "name": "stdout",
     "output_type": "stream",
     "text": [
      "10\n",
      "20.3\n",
      "(30+40j)\n",
      "None\n",
      "str\n",
      "True\n"
     ]
    }
   ],
   "source": [
    "print(10, 20.30, 30+40j, None, 'str', True, sep = '\\n')"
   ]
  },
  {
   "cell_type": "code",
   "execution_count": 13,
   "id": "43cfbb9e",
   "metadata": {},
   "outputs": [
    {
     "name": "stdout",
     "output_type": "stream",
     "text": [
      "10\n",
      "\t10.2\n",
      "\t\t(10+20j)\n",
      "\t\t\tNone\n",
      "\t\tTrue\n",
      "\tHello\n",
      "False\n"
     ]
    }
   ],
   "source": [
    "print(10, end = '\\n\\t')\n",
    "print(10.20, end = '\\n\\t\\t')\n",
    "print(10+20j, end = '\\n\\t\\t\\t')\n",
    "print(None, end = '\\n\\t\\t')\n",
    "print(True, end = '\\n\\t')\n",
    "print('Hello', end = '\\n')\n",
    "print(False)\n"
   ]
  },
  {
   "cell_type": "code",
   "execution_count": null,
   "id": "60db1cb1",
   "metadata": {},
   "outputs": [],
   "source": [
    "# Python Programming Components\n",
    "Literals\n",
    "Identifiers\n",
    "Reserved words\n",
    "Expression & Statemets\n",
    "Blocks and Indentation\n",
    "Comments\n",
    "Datatypes/object\n",
    "    1. Fundamental - int, float, complex, Boolean, String\n",
    "    2. Derived  - List, Tuple, Dictionary, Range, set, Frozenset, Bytes, bytearray\n",
    "Operators\n",
    "    1. Arithmetic - +, -, *, /(Float), //(Floor Division), %(Modulo), **(Exponent)\n",
    "    2. Comparison - <, >, <=, >=\n",
    "    3. Equality - ==, !=\n",
    "    4. Logical - and, or, not\n",
    "    5. Bitwise - &, |, ^, ~, <<, >>\n",
    "    6. Membership - in, not in\n",
    "    7. Identity - is, is not\n",
    "    8. Assignment - =\n",
    "    9. Compound Assignment - +=, -=, *=, /=, //=, %=, **=, &=, |=, ^=, ~=, <<=, >>=\n",
    "    10. Ternary - expr1 if cond1 else expr2\n",
    "    11. Operator Precedence - "
   ]
  },
  {
   "cell_type": "code",
   "execution_count": null,
   "id": "92818ba0",
   "metadata": {},
   "outputs": [],
   "source": [
    "a = 10\n",
    "a += 2                #a = a+2\n",
    "print(a)\n",
    "\n"
   ]
  },
  {
   "cell_type": "code",
   "execution_count": 14,
   "id": "99053386",
   "metadata": {},
   "outputs": [
    {
     "name": "stdout",
     "output_type": "stream",
     "text": [
      "['__breakpointhook__', '__displayhook__', '__doc__', '__excepthook__', '__interactivehook__', '__loader__', '__name__', '__package__', '__spec__', '__stderr__', '__stdin__', '__stdout__', '__unraisablehook__', '_base_executable', '_clear_type_cache', '_current_frames', '_debugmallocstats', '_enablelegacywindowsfsencoding', '_framework', '_getframe', '_git', '_home', '_xoptions', 'addaudithook', 'api_version', 'argv', 'audit', 'base_exec_prefix', 'base_prefix', 'breakpointhook', 'builtin_module_names', 'byteorder', 'call_tracing', 'copyright', 'displayhook', 'dllhandle', 'dont_write_bytecode', 'exc_info', 'excepthook', 'exec_prefix', 'executable', 'exit', 'flags', 'float_info', 'float_repr_style', 'get_asyncgen_hooks', 'get_coroutine_origin_tracking_depth', 'getallocatedblocks', 'getdefaultencoding', 'getfilesystemencodeerrors', 'getfilesystemencoding', 'getprofile', 'getrecursionlimit', 'getrefcount', 'getsizeof', 'getswitchinterval', 'gettrace', 'getwindowsversion', 'hash_info', 'hexversion', 'implementation', 'int_info', 'intern', 'is_finalizing', 'maxsize', 'maxunicode', 'meta_path', 'modules', 'path', 'path_hooks', 'path_importer_cache', 'platform', 'platlibdir', 'prefix', 'ps1', 'ps2', 'ps3', 'pycache_prefix', 'set_asyncgen_hooks', 'set_coroutine_origin_tracking_depth', 'setprofile', 'setrecursionlimit', 'setswitchinterval', 'settrace', 'stderr', 'stdin', 'stdout', 'thread_info', 'unraisablehook', 'version', 'version_info', 'warnoptions', 'winver']\n"
     ]
    }
   ],
   "source": [
    "import sys\n",
    "print(dir(sys))"
   ]
  },
  {
   "cell_type": "code",
   "execution_count": 15,
   "id": "56b9c9f9",
   "metadata": {},
   "outputs": [
    {
     "name": "stdout",
     "output_type": "stream",
     "text": [
      "0\n",
      "['__abs__', '__add__', '__and__', '__bool__', '__ceil__', '__class__', '__delattr__', '__dir__', '__divmod__', '__doc__', '__eq__', '__float__', '__floor__', '__floordiv__', '__format__', '__ge__', '__getattribute__', '__getnewargs__', '__gt__', '__hash__', '__index__', '__init__', '__init_subclass__', '__int__', '__invert__', '__le__', '__lshift__', '__lt__', '__mod__', '__mul__', '__ne__', '__neg__', '__new__', '__or__', '__pos__', '__pow__', '__radd__', '__rand__', '__rdivmod__', '__reduce__', '__reduce_ex__', '__repr__', '__rfloordiv__', '__rlshift__', '__rmod__', '__rmul__', '__ror__', '__round__', '__rpow__', '__rrshift__', '__rshift__', '__rsub__', '__rtruediv__', '__rxor__', '__setattr__', '__sizeof__', '__str__', '__sub__', '__subclasshook__', '__truediv__', '__trunc__', '__xor__', 'as_integer_ratio', 'bit_length', 'conjugate', 'denominator', 'from_bytes', 'imag', 'numerator', 'real', 'to_bytes']\n",
      "10\n"
     ]
    }
   ],
   "source": [
    "a = -10\n",
    "b = 10\n",
    "print(a+b)\n",
    "print(dir(a))\n",
    "print(abs(a))"
   ]
  },
  {
   "cell_type": "code",
   "execution_count": 16,
   "id": "e85eb6a8",
   "metadata": {},
   "outputs": [
    {
     "name": "stdout",
     "output_type": "stream",
     "text": [
      "10\n",
      "10\n"
     ]
    }
   ],
   "source": [
    "print(10)\n",
    "print(int('10'))\n",
    "# input\n"
   ]
  },
  {
   "cell_type": "code",
   "execution_count": 17,
   "id": "0a176653",
   "metadata": {},
   "outputs": [
    {
     "name": "stdout",
     "output_type": "stream",
     "text": [
      "['In', 'Out', '_', '__', '___', '__builtin__', '__builtins__', '__doc__', '__loader__', '__name__', '__package__', '__spec__', '_dh', '_i', '_i1', '_i10', '_i11', '_i12', '_i13', '_i14', '_i15', '_i16', '_i17', '_i2', '_i3', '_i4', '_i5', '_i6', '_i7', '_i8', '_i9', '_ih', '_ii', '_iii', '_oh', 'a', 'age', 'b', 'exit', 'get_ipython', 'name', 'num1', 'num2', 'quit', 'sal', 'sys']\n"
     ]
    }
   ],
   "source": [
    "print(dir())"
   ]
  },
  {
   "cell_type": "code",
   "execution_count": 18,
   "id": "aa8e2bc9",
   "metadata": {},
   "outputs": [
    {
     "name": "stdout",
     "output_type": "stream",
     "text": [
      "['ArithmeticError', 'AssertionError', 'AttributeError', 'BaseException', 'BlockingIOError', 'BrokenPipeError', 'BufferError', 'BytesWarning', 'ChildProcessError', 'ConnectionAbortedError', 'ConnectionError', 'ConnectionRefusedError', 'ConnectionResetError', 'DeprecationWarning', 'EOFError', 'Ellipsis', 'EnvironmentError', 'Exception', 'False', 'FileExistsError', 'FileNotFoundError', 'FloatingPointError', 'FutureWarning', 'GeneratorExit', 'IOError', 'ImportError', 'ImportWarning', 'IndentationError', 'IndexError', 'InterruptedError', 'IsADirectoryError', 'KeyError', 'KeyboardInterrupt', 'LookupError', 'MemoryError', 'ModuleNotFoundError', 'NameError', 'None', 'NotADirectoryError', 'NotImplemented', 'NotImplementedError', 'OSError', 'OverflowError', 'PendingDeprecationWarning', 'PermissionError', 'ProcessLookupError', 'RecursionError', 'ReferenceError', 'ResourceWarning', 'RuntimeError', 'RuntimeWarning', 'StopAsyncIteration', 'StopIteration', 'SyntaxError', 'SyntaxWarning', 'SystemError', 'SystemExit', 'TabError', 'TimeoutError', 'True', 'TypeError', 'UnboundLocalError', 'UnicodeDecodeError', 'UnicodeEncodeError', 'UnicodeError', 'UnicodeTranslateError', 'UnicodeWarning', 'UserWarning', 'ValueError', 'Warning', 'WindowsError', 'ZeroDivisionError', '__IPYTHON__', '__build_class__', '__debug__', '__doc__', '__import__', '__loader__', '__name__', '__package__', '__spec__', 'abs', 'all', 'any', 'ascii', 'bin', 'bool', 'breakpoint', 'bytearray', 'bytes', 'callable', 'chr', 'classmethod', 'compile', 'complex', 'copyright', 'credits', 'delattr', 'dict', 'dir', 'display', 'divmod', 'enumerate', 'eval', 'exec', 'execfile', 'filter', 'float', 'format', 'frozenset', 'get_ipython', 'getattr', 'globals', 'hasattr', 'hash', 'help', 'hex', 'id', 'input', 'int', 'isinstance', 'issubclass', 'iter', 'len', 'license', 'list', 'locals', 'map', 'max', 'memoryview', 'min', 'next', 'object', 'oct', 'open', 'ord', 'pow', 'print', 'property', 'range', 'repr', 'reversed', 'round', 'runfile', 'set', 'setattr', 'slice', 'sorted', 'staticmethod', 'str', 'sum', 'super', 'tuple', 'type', 'vars', 'zip']\n"
     ]
    }
   ],
   "source": [
    "print(dir(__builtins__))"
   ]
  },
  {
   "cell_type": "code",
   "execution_count": 19,
   "id": "38d04a6b",
   "metadata": {},
   "outputs": [
    {
     "name": "stdout",
     "output_type": "stream",
     "text": [
      "28\n"
     ]
    }
   ],
   "source": [
    "import sys\n",
    "a = 10\n",
    "print(sys.getsizeof(a))\n"
   ]
  },
  {
   "cell_type": "code",
   "execution_count": null,
   "id": "2d8c27d8",
   "metadata": {},
   "outputs": [],
   "source": [
    "https://drive.google.com/drive/folders/1y32cd1KtyouaONIZhU0gbqspRClOqS0o?usp=sharing"
   ]
  },
  {
   "cell_type": "code",
   "execution_count": 20,
   "id": "a73b95b4",
   "metadata": {},
   "outputs": [
    {
     "name": "stdout",
     "output_type": "stream",
     "text": [
      "3.9.12 (main, Apr  4 2022, 05:22:27) [MSC v.1916 64 bit (AMD64)]\n"
     ]
    }
   ],
   "source": [
    "print(sys.version)"
   ]
  },
  {
   "cell_type": "code",
   "execution_count": null,
   "id": "3b574c8e",
   "metadata": {},
   "outputs": [],
   "source": []
  }
 ],
 "metadata": {
  "kernelspec": {
   "display_name": "Python 3 (ipykernel)",
   "language": "python",
   "name": "python3"
  },
  "language_info": {
   "codemirror_mode": {
    "name": "ipython",
    "version": 3
   },
   "file_extension": ".py",
   "mimetype": "text/x-python",
   "name": "python",
   "nbconvert_exporter": "python",
   "pygments_lexer": "ipython3",
   "version": "3.9.12"
  }
 },
 "nbformat": 4,
 "nbformat_minor": 5
}
