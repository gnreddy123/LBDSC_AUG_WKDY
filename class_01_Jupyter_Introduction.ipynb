{
 "cells": [
  {
   "cell_type": "code",
   "execution_count": 1,
   "id": "d0f8ab6d",
   "metadata": {},
   "outputs": [],
   "source": [
    "a=10"
   ]
  },
  {
   "cell_type": "code",
   "execution_count": 2,
   "id": "b98ff7a1",
   "metadata": {},
   "outputs": [
    {
     "name": "stdout",
     "output_type": "stream",
     "text": [
      "10\n"
     ]
    }
   ],
   "source": [
    "print(a)"
   ]
  },
  {
   "cell_type": "code",
   "execution_count": 3,
   "id": "1a756c7d",
   "metadata": {},
   "outputs": [
    {
     "name": "stdout",
     "output_type": "stream",
     "text": [
      "Hello World\n"
     ]
    }
   ],
   "source": [
    "print('Hello World')"
   ]
  },
  {
   "cell_type": "code",
   "execution_count": null,
   "id": "39bea8dc",
   "metadata": {},
   "outputs": [],
   "source": [
    "There are two types of modes in Jupyter notebook \n",
    "\n",
    "Edit Mode - Enter -Green \n",
    "Command mode - Esc - Blue\n",
    "\n",
    "In Command mode: \n",
    "    To delete a cell - x \n",
    "    To add the cell below - b \n",
    "    To add the cell aboce - a \n",
    "    To run the cell - Shift + Eneter"
   ]
  },
  {
   "cell_type": "markdown",
   "id": "a88abc0f",
   "metadata": {},
   "source": [
    "<p><img alt=\"Image\" title=\"icon\" src=\"https://www.ntuclearninghub.com/documents/39367/4216797/Python-Symbol.png/369e410e-a90f-f887-c2dc-61f7ef761476/\" /></p>"
   ]
  },
  {
   "cell_type": "code",
   "execution_count": null,
   "id": "834e8be4",
   "metadata": {},
   "outputs": [],
   "source": [
    "https://www.ntuclearninghub.com/documents/39367/4216797/Python-Symbol.png/369e410e-a90f-f887-c2dc-61f7ef761476/vg.png"
   ]
  },
  {
   "cell_type": "markdown",
   "id": "8cfa0a6c",
   "metadata": {},
   "source": [
    "<p><img alt=\"Image\" title=\"icon\" src=\"E:\\Gopinath\\IMG-20200208-WA0005.jpg\" /></p>"
   ]
  },
  {
   "cell_type": "markdown",
   "id": "8fa78d9b",
   "metadata": {},
   "source": [
    "How to make headings:\n",
    "\n",
    "# Heading 1\n",
    "## Heading 2\n",
    "### Heading 3\n",
    "#### Heading 4\n",
    "##### Heading 5\n",
    "###### Heading 6"
   ]
  },
  {
   "cell_type": "markdown",
   "id": "f3607138",
   "metadata": {},
   "source": [
    "## Markdown\n",
    "\n",
    "Markdown[9] is a lightweight markup language for creating formatted text using a plain-text editor. John Gruber created Markdown in 2004, in collaboration with Aaron Swartz,[10][11] as a markup language that is intended to be easy to read in its source code form.[9] Markdown is widely used for blogging and instant messaging, and also used elsewhere in online forums, collaborative software, documentation pages, and readme files.\n",
    "\n",
    "The initial description of Markdown[12] contained ambiguities and raised unanswered questions, causing implementations to both intentionally and accidentally diverge from the original version. This was addressed in 2014 when long-standing Markdown contributors released CommonMark, an unambiguous specification and test suite for Markdown.[13]"
   ]
  },
  {
   "cell_type": "markdown",
   "id": "be412336",
   "metadata": {},
   "source": [
    "To get into the Markdown\n",
    "\n",
    " esc + m + run"
   ]
  },
  {
   "cell_type": "code",
   "execution_count": null,
   "id": "9d079c23",
   "metadata": {},
   "outputs": [],
   "source": []
  }
 ],
 "metadata": {
  "kernelspec": {
   "display_name": "Python 3 (ipykernel)",
   "language": "python",
   "name": "python3"
  },
  "language_info": {
   "codemirror_mode": {
    "name": "ipython",
    "version": 3
   },
   "file_extension": ".py",
   "mimetype": "text/x-python",
   "name": "python",
   "nbconvert_exporter": "python",
   "pygments_lexer": "ipython3",
   "version": "3.9.12"
  }
 },
 "nbformat": 4,
 "nbformat_minor": 5
}
