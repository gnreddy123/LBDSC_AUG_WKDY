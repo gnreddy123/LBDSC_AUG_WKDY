{
 "cells": [
  {
   "cell_type": "code",
   "execution_count": 4,
   "id": "4f26ca0a",
   "metadata": {},
   "outputs": [
    {
     "name": "stdout",
     "output_type": "stream",
     "text": [
      "(10, 10.2, (10+20j), None, True, 'Python', [1, 2, 3], (1, 2, 3))\n"
     ]
    }
   ],
   "source": [
    "# Tuple - Any value kept inside () seperated by comma.\n",
    "\n",
    "# tpl = (10, 10.20, 10+20j, None, True, 'Python', [1, 2, 3], (1, 2, 3))\n",
    "# print(tpl, type(tpl))\n",
    "\n",
    "# Tuple is immutable\n",
    "tpl = (10, 10.20, 10+20j, None, True, 'Python', [1, 2, 3], (1, 2, 3))\n",
    "# tpl[0] = 111\n",
    "# tpl1 = (1, 2, 3)\n",
    "# print(tpl+(tpl1,))   # Tuple Concatenation\n",
    "print(tpl)\n",
    "\n",
    "\n",
    "# 'Python' + 'Class'\n",
    "\n",
    "# Tuple is a sequence\n",
    "#     1. Tuple is an ordered collection\n",
    "#     2. Tuple supports +ve and -ve index both\n",
    "#     3. +ve index starts from 0 from Left Side\n",
    "#     4. -ve index starts from -1 from right Side\n",
    "#     5. Indexing, slicing, cocatenation, repetition, Membership and length\n",
    "\n",
    "# tpl = (10, 10.20, 10+20j, None, True, 'Python', [1, 2, 3], (1, 2, 3))\n",
    "# print('Accessing first characters: ')\n",
    "# print(tpl[0])\n",
    "# print(tpl[-len(tpl)])\n",
    "# print(tpl[-8])\n",
    "\n",
    "# print('Accessing last characters: ')\n",
    "# print(tpl[-1])\n",
    "# print(tpl[len(tpl)-1])\n",
    "# print(tpl[7])\n",
    "\n",
    "\n",
    "# print('Slicing a tuple: ')\n",
    "# Slicing creates an new object\n",
    "# print(tpl[3:6:])\n",
    "# print(tpl[::-1])\n",
    "# print(tpl)\n",
    "\n",
    "# tpl1 = (10, 20, 30, 40)\n",
    "# tpl2 = (1, 2, 3, 4)\n",
    "# print(tpl1+tpl2)\n",
    "\n",
    "# tpl = (10, 11, 12, 13)\n",
    "# print(tpl*3)\n",
    "\n",
    "# tpl = (10, 10.20, 10+20j, None, True, 'Python', [1, 2, 3], (1, 2, 3))\n",
    "# print(None in tpl)\n",
    "# print(False in tpl)\n",
    "\n",
    "# print(len(tpl))\n",
    "\n",
    "# Tuple also can have duplicate elements\n",
    "# tpl = (10, 10.20, 10+20j, None, True, 'Python', 10+20j, 10)\n",
    "# print(tpl)\n",
    "\n",
    "\n",
    "# a = 10+20j\n",
    "# print(a)\n",
    "\n",
    "# Tuple is a collection of heterogeneous elements\n",
    "# tpl = (10, 10.20, 10+20j, None, True, 'Python', 10+20j, 10)\n",
    "# print(tpl)\n",
    "\n",
    "# Note:- Parenthesis are optional\n",
    "# While creating a tuple with single element, comma is mandatory\n",
    "\n",
    "\n"
   ]
  },
  {
   "cell_type": "code",
   "execution_count": 5,
   "id": "e3c1f65f",
   "metadata": {},
   "outputs": [
    {
     "name": "stdout",
     "output_type": "stream",
     "text": [
      "<class 'tuple'>\n"
     ]
    }
   ],
   "source": [
    "a =10,\n",
    "print(type(a))"
   ]
  },
  {
   "cell_type": "code",
   "execution_count": 6,
   "id": "618bf86b",
   "metadata": {},
   "outputs": [
    {
     "name": "stdout",
     "output_type": "stream",
     "text": [
      "[10, 20, 30, 1, 2, 3]\n"
     ]
    }
   ],
   "source": [
    "lst1 = [10,20,30]\n",
    "lst2 = [1, 2, 3]\n",
    "print(lst1+lst2)   # List Concatenation"
   ]
  },
  {
   "cell_type": "code",
   "execution_count": null,
   "id": "6213aafc",
   "metadata": {},
   "outputs": [],
   "source": [
    "# Creating a tuple\n",
    "# 1-If we know the elements in advance\n",
    "# tpl = (10, 10.20, 10+20j, None, True, 'Python', 10+20j, 10)\n",
    "# print(tpl, type(tpl))\n",
    "\n",
    "# 2. Creating a tuple with single element\n",
    "# tpl = 10,\n",
    "# print(tpl, type(tpl))\n",
    "\n",
    "# 3. Using tuple\n",
    "# tpl = tuple('Python')\n",
    "# print(tpl, type(tpl))\n",
    "\n",
    "# tpl = tuple([10,20,30,40])\n",
    "# print(tpl, type(tpl))\n",
    "\n",
    "# tpl = tuple((10,20,30,40))\n",
    "# print(tpl, type(tpl))\n",
    "\n",
    "# tpl = tuple({1:100, 2:200, 3:300})\n",
    "# print(tpl, type(tpl))\n",
    "\n",
    "\n",
    "# using eval\n",
    "tpl = eval(input('Enter a tuple: '))\n",
    "print(tpl, type(tpl))\n",
    "\n",
    "# tpl = 'Python',\n",
    "# print(tpl, type(tpl))"
   ]
  },
  {
   "cell_type": "code",
   "execution_count": 7,
   "id": "f4722f4b",
   "metadata": {},
   "outputs": [
    {
     "name": "stdout",
     "output_type": "stream",
     "text": [
      "(10, 10.2, (10+20j), None, True, 'Python', (10+20j), 10) <class 'tuple'>\n"
     ]
    }
   ],
   "source": [
    "tpl = 10, 10.20, 10+20j, None, True, 'Python', 10+20j, 10\n",
    "print(tpl, type(tpl))"
   ]
  },
  {
   "cell_type": "code",
   "execution_count": null,
   "id": "0117d0af",
   "metadata": {},
   "outputs": [],
   "source": [
    "# Tuple packing and unpacking\n",
    "\n",
    "# packing -> assigning muliple values to a single variable\n",
    "# emp_name = 'Krisshna Kumar'\n",
    "# emp_id = 101\n",
    "# emp_sal = 90000\n",
    "# emp_loc = 'Bengaluru'\n",
    "# emp_detail = emp_name, emp_id, emp_sal, emp_loc\n",
    "# print(emp_detail)\n",
    "\n",
    "emp_details = ('Krisshna Kumar', 101, 90000, 'Bengaluru')\n",
    "emp_name, emp_id, emp_sal, emp_loc = emp_details\n",
    "print(emp_name)\n",
    "print(emp_id)\n",
    "print(emp_sal)\n",
    "print(emp_loc)\n",
    "print(emp_details)\n",
    "\n",
    "# Unpacking - no of elements in the tuple and no of variable should match\n",
    "\n"
   ]
  },
  {
   "cell_type": "code",
   "execution_count": null,
   "id": "3570a90f",
   "metadata": {},
   "outputs": [],
   "source": [
    "# Methods on tuple - count, index\n",
    "# print(dir(tuple))\n",
    "\n",
    "tpl = 10, 10.20, 10+20j, None, True, 'Python', 10+20j, 10\n",
    "# print(tpl.count(10))\n",
    "# print(tpl.index(10+550j))\n"
   ]
  },
  {
   "cell_type": "code",
   "execution_count": 12,
   "id": "e6c397a9",
   "metadata": {},
   "outputs": [
    {
     "name": "stdout",
     "output_type": "stream",
     "text": [
      "['__class__', '__class_getitem__', '__contains__', '__delattr__', '__delitem__', '__dir__', '__doc__', '__eq__', '__format__', '__ge__', '__getattribute__', '__getitem__', '__gt__', '__hash__', '__init__', '__init_subclass__', '__ior__', '__iter__', '__le__', '__len__', '__lt__', '__ne__', '__new__', '__or__', '__reduce__', '__reduce_ex__', '__repr__', '__reversed__', '__ror__', '__setattr__', '__setitem__', '__sizeof__', '__str__', '__subclasshook__', 'clear', 'copy', 'fromkeys', 'get', 'items', 'keys', 'pop', 'popitem', 'setdefault', 'update', 'values']\n"
     ]
    }
   ],
   "source": [
    "print(dir(dict))"
   ]
  },
  {
   "cell_type": "code",
   "execution_count": null,
   "id": "3fa1bbbd",
   "metadata": {},
   "outputs": [],
   "source": [
    "# Dictionary - is not a sequence\n",
    "#     Indexing, Slicing, Concatenation, Repetition is not allowed\n",
    "# It is a collection of key value pair separated by : kept inside {}\n",
    "# Key value pair is called an item or element, elements are separated by comma\n",
    "# key can not be duplicated, values can be duplicated\n",
    "# Key should be immutable type only\n",
    "# Dictionary is a mutable object\n",
    "\n"
   ]
  },
  {
   "cell_type": "code",
   "execution_count": 16,
   "id": "7351fa0d",
   "metadata": {},
   "outputs": [
    {
     "name": "stdout",
     "output_type": "stream",
     "text": [
      "{'emp_name': 'Abhishek Kumar', 'emp_id': 101, 'emp_sal': 10000}\n"
     ]
    }
   ],
   "source": [
    "emp_dict = {'emp_name':'Abhishek Kumar', 'emp_id':101, 'emp_sal':10000}\n",
    "print(emp_dict)\n"
   ]
  },
  {
   "cell_type": "code",
   "execution_count": null,
   "id": "76832696",
   "metadata": {},
   "outputs": [],
   "source": [
    "# enumerate(sequnece) - returns a enumerate object\n",
    "# After typecasting using list() it returns a list of tuple where each tuple has two element\n",
    "# first element is the index and 2nd element is the value at that index from the sequence\n",
    "print(list(enumerate('Python')))\n",
    "print(tuple(enumerate([10, 20+20j,'Python',True, None, [1, 2, 3]])))\n",
    "\n",
    "\n"
   ]
  },
  {
   "cell_type": "code",
   "execution_count": 17,
   "id": "00d18af4",
   "metadata": {},
   "outputs": [
    {
     "name": "stdout",
     "output_type": "stream",
     "text": [
      "(0, 'P')\n",
      "(1, 'y')\n",
      "(2, 't')\n",
      "(3, 'h')\n",
      "(4, 'o')\n",
      "(5, 'n')\n"
     ]
    }
   ],
   "source": [
    "for i in enumerate('Python'):\n",
    "    print(i)"
   ]
  },
  {
   "cell_type": "code",
   "execution_count": 18,
   "id": "884cb641",
   "metadata": {},
   "outputs": [
    {
     "name": "stdout",
     "output_type": "stream",
     "text": [
      "<enumerate object at 0x000001FD32E49140>\n"
     ]
    }
   ],
   "source": [
    "a = enumerate('Python')\n",
    "print(a)"
   ]
  },
  {
   "cell_type": "code",
   "execution_count": 19,
   "id": "bd79f80d",
   "metadata": {},
   "outputs": [
    {
     "name": "stdout",
     "output_type": "stream",
     "text": [
      "[(0, 'P'), (1, 'y'), (2, 't'), (3, 'h'), (4, 'o'), (5, 'n')]\n"
     ]
    }
   ],
   "source": [
    "a = [(0, 'P'),(1, 'y'),(2, 't'),(3, 'h'),(4, 'o'),(5, 'n'),]\n",
    "print(a)"
   ]
  },
  {
   "cell_type": "code",
   "execution_count": 20,
   "id": "38d767a9",
   "metadata": {},
   "outputs": [
    {
     "name": "stdout",
     "output_type": "stream",
     "text": [
      "<enumerate object at 0x000001FD32E49980>\n"
     ]
    }
   ],
   "source": [
    "a = enumerate('peter piper picked a peck of pickled peppers peter piper picked a peck of pickeled peppers')\n",
    "print(a)"
   ]
  },
  {
   "cell_type": "code",
   "execution_count": null,
   "id": "926c470f",
   "metadata": {},
   "outputs": [],
   "source": [
    "lst = [11, 12, 13, 14, 15, 16, 17, 18, 19]\n",
    "out_lst = []\n",
    "for i in lst:\n",
    "    if i%2 == 0:\n",
    "        out_lst.append(i)\n",
    "print(out_lst)"
   ]
  },
  {
   "cell_type": "code",
   "execution_count": null,
   "id": "4b68294e",
   "metadata": {},
   "outputs": [],
   "source": [
    "lst1 = [21, 22, 23, 24, 25, 26, 27, 28, 29]\n",
    "out_lst = []\n",
    "for i in lst:\n",
    "    if i%2 == 0:\n",
    "        out_lst.append(i)\n",
    "print(out_lst)"
   ]
  },
  {
   "cell_type": "code",
   "execution_count": 24,
   "id": "5643cac1",
   "metadata": {},
   "outputs": [],
   "source": [
    "def my_filter(lst):\n",
    "    out_lst = []\n",
    "    for i in lst:\n",
    "        if i%2 == 0:\n",
    "            out_lst.append(i)\n",
    "    print(out_lst)"
   ]
  },
  {
   "cell_type": "code",
   "execution_count": 26,
   "id": "e50afa94",
   "metadata": {},
   "outputs": [
    {
     "name": "stdout",
     "output_type": "stream",
     "text": [
      "[22, 24, 26, 28]\n"
     ]
    }
   ],
   "source": [
    "my_filter([21, 22, 23, 24, 25, 26, 27, 28, 29])"
   ]
  },
  {
   "cell_type": "code",
   "execution_count": 25,
   "id": "a77acc91",
   "metadata": {},
   "outputs": [
    {
     "name": "stdout",
     "output_type": "stream",
     "text": [
      "[32, 34, 36, 38]\n"
     ]
    }
   ],
   "source": [
    "my_filter([31, 32, 33, 34, 35, 36, 37, 38, 39])"
   ]
  },
  {
   "cell_type": "code",
   "execution_count": 22,
   "id": "1c1e9974",
   "metadata": {},
   "outputs": [
    {
     "data": {
      "text/plain": [
       "[22, 24, 26, 28]"
      ]
     },
     "execution_count": 22,
     "metadata": {},
     "output_type": "execute_result"
    }
   ],
   "source": [
    "list(filter(lambda num:num%2 == 0,[21, 22, 23, 24, 25, 26, 27, 28, 29]))"
   ]
  },
  {
   "cell_type": "code",
   "execution_count": 21,
   "id": "d0df711b",
   "metadata": {},
   "outputs": [
    {
     "name": "stdout",
     "output_type": "stream",
     "text": [
      "{0: 'L', 1: 'e', 2: 'a', 3: 'r', 4: 'n', 5: 'b', 6: 'a', 7: 'y'}\n"
     ]
    }
   ],
   "source": [
    "my_str = 'Learnbay'\n",
    "print(dict(enumerate(my_str)))"
   ]
  },
  {
   "cell_type": "code",
   "execution_count": 27,
   "id": "d30acaab",
   "metadata": {},
   "outputs": [
    {
     "data": {
      "text/plain": [
       "{'emp_name': 'Krishna',\n",
       " 'emp_email': 'krishna@gmail.com',\n",
       " 'emp_phone': 9876543210}"
      ]
     },
     "execution_count": 27,
     "metadata": {},
     "output_type": "execute_result"
    }
   ],
   "source": [
    "dict([('emp_name','Krishna'),('emp_email', 'krishna@gmail.com'),('emp_phone', 9876543210)])\n",
    "dict((('emp_name','Krishna'),('emp_email', 'krishna@gmail.com'),('emp_phone', 9876543210)))\n",
    "# dict((['emp_name','Krishna'],['emp_email', 'krishna@gmail.com'],['emp_phone', 9876543210]))\n",
    "\n",
    "\n",
    "\n"
   ]
  },
  {
   "cell_type": "code",
   "execution_count": 31,
   "id": "8f051d6c",
   "metadata": {},
   "outputs": [
    {
     "data": {
      "text/plain": [
       "{1: 'Python', 2: 'Java', 3: 'R'}"
      ]
     },
     "execution_count": 31,
     "metadata": {},
     "output_type": "execute_result"
    }
   ],
   "source": [
    "dict(((1,'Python'),[2,'Java'],(3,'R')))"
   ]
  },
  {
   "cell_type": "code",
   "execution_count": 32,
   "id": "c42dd62d",
   "metadata": {},
   "outputs": [
    {
     "data": {
      "text/plain": [
       "{7: 'krishna@gmail.com', 5: 9876543210, 9: 'Bangalore'}"
      ]
     },
     "execution_count": 32,
     "metadata": {},
     "output_type": "execute_result"
    }
   ],
   "source": [
    "import random\n",
    "emp_lst_key = [random.randint(1, 10), random.randint(1, 10), random.randint(1, 10),random.randint(1, 10)]\n",
    "emp_lst_val = ['Krishna Kumar', 9876543210, 'krishna@gmail.com', 'Bangalore']\n",
    "\n",
    "dict(zip(emp_lst_key, emp_lst_val))\n",
    "\n",
    "\n"
   ]
  },
  {
   "cell_type": "code",
   "execution_count": null,
   "id": "8cdcc65c",
   "metadata": {},
   "outputs": [],
   "source": [
    "# Using eval input\n",
    "my_dict = eval(input('Enter a dictionary: '))\n",
    "print(my_dict, type(my_dict))"
   ]
  },
  {
   "cell_type": "code",
   "execution_count": null,
   "id": "27424620",
   "metadata": {},
   "outputs": [],
   "source": [
    "# my_dict = {1:100, 2:200,3:300, 4:400, 1:111}\n",
    "# print(my_dict)\n",
    "\n",
    "# key value\n",
    "# 1     111\n",
    "# 2     200\n",
    "# 3     300\n",
    "\n"
   ]
  },
  {
   "cell_type": "code",
   "execution_count": 38,
   "id": "b39cc265",
   "metadata": {},
   "outputs": [
    {
     "name": "stdout",
     "output_type": "stream",
     "text": [
      "{'emp_name': 'Abhishek', 'emp_email': 'krishna@gmail.com', 'emp_phone': 9876543210}\n"
     ]
    },
    {
     "data": {
      "text/plain": [
       "9876543210"
      ]
     },
     "execution_count": 38,
     "metadata": {},
     "output_type": "execute_result"
    }
   ],
   "source": [
    "# Accessing the elements from the dictionary\n",
    "\n",
    "my_dict = dict([('emp_name','Krishna'),('emp_email', 'krishna@gmail.com'),('emp_phone', 9876543210), ('emp_name','Abhishek')])\n",
    "print(my_dict)\n",
    "\n",
    "\n",
    "my_dict['emp_phone']\n",
    "\n",
    "# Accessing value using key is allowed but accessing key using value is not allowed\n"
   ]
  },
  {
   "cell_type": "code",
   "execution_count": null,
   "id": "3debb570",
   "metadata": {},
   "outputs": [],
   "source": [
    "# Nested Dictionary\n",
    "emp_details = {'emp_1':{'emp_name':'Krishna', \n",
    "                        'emp_phone':1234567890,\n",
    "                        'emp_email':'krishna@gmail.com'},\n",
    "               'emp_2':{'emp_name':'Abhishek', \n",
    "                        'emp_phone':1111111111,\n",
    "                        'emp_email':'Abhishek@gmail.com'},\n",
    "               'emp_3':{'emp_name':'Rakesh', \n",
    "                        'emp_phone':2222222222,\n",
    "                        'emp_email':'Rakesh@gmail.com'}}\n",
    "\n",
    "# print(emp_details['emp_1']['emp_phone'])\n",
    "for i in emp_details:\n",
    "    print(emp_details[i]['emp_name'])\n"
   ]
  },
  {
   "cell_type": "code",
   "execution_count": 42,
   "id": "a72daad1",
   "metadata": {},
   "outputs": [
    {
     "data": {
      "text/plain": [
       "{0: 'p', 1: 'y', 2: 'h', 3: 't', 4: 'o', 5: 'n'}"
      ]
     },
     "execution_count": 42,
     "metadata": {},
     "output_type": "execute_result"
    }
   ],
   "source": [
    "list(enumerate('pyhton'))\n",
    "tuple(enumerate('pyhton'))\n",
    "dict(enumerate('pyhton'))"
   ]
  },
  {
   "cell_type": "code",
   "execution_count": null,
   "id": "656759c7",
   "metadata": {},
   "outputs": [],
   "source": []
  },
  {
   "cell_type": "code",
   "execution_count": null,
   "id": "f3fc2065",
   "metadata": {},
   "outputs": [],
   "source": []
  },
  {
   "cell_type": "code",
   "execution_count": null,
   "id": "ce5ed750",
   "metadata": {},
   "outputs": [],
   "source": []
  }
 ],
 "metadata": {
  "kernelspec": {
   "display_name": "Python 3 (ipykernel)",
   "language": "python",
   "name": "python3"
  },
  "language_info": {
   "codemirror_mode": {
    "name": "ipython",
    "version": 3
   },
   "file_extension": ".py",
   "mimetype": "text/x-python",
   "name": "python",
   "nbconvert_exporter": "python",
   "pygments_lexer": "ipython3",
   "version": "3.9.12"
  }
 },
 "nbformat": 4,
 "nbformat_minor": 5
}
