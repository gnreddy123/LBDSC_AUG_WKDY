{
 "cells": [
  {
   "cell_type": "code",
   "execution_count": 1,
   "id": "fd4cb990",
   "metadata": {},
   "outputs": [
    {
     "name": "stdout",
     "output_type": "stream",
     "text": [
      "['peppers', 'pickled', 'of', 'peck', 'a', 'picked', 'piper', 'peter']\n"
     ]
    }
   ],
   "source": [
    "my_str = 'peter piper picked a peck of pickled peppers'\n",
    "lst = []\n",
    "out_str = ''\n",
    "for i in range(len(my_str)-1,-1,-1):\n",
    "    if my_str[i] == ' ':\n",
    "        lst += [out_str[::-1]]\n",
    "        out_str = ''\n",
    "    elif i == 0:\n",
    "        out_str += my_str[i]\n",
    "        out_str = out_str[::-1]\n",
    "        lst += [out_str]\n",
    "    else:\n",
    "        out_str += my_str[i]\n",
    "print(lst)\n",
    "\n",
    "# i = 28\n",
    "# out_str = out_str + my_str = 'delkcip'\n",
    "# lst = lst + [out_str] = ['peppers'] + ['pickled'] = ['peppers', 'pickled']\n",
    "\n"
   ]
  },
  {
   "cell_type": "code",
   "execution_count": 2,
   "id": "bebd7920",
   "metadata": {},
   "outputs": [
    {
     "data": {
      "text/plain": [
       "range(43, -1, -1)"
      ]
     },
     "execution_count": 2,
     "metadata": {},
     "output_type": "execute_result"
    }
   ],
   "source": [
    "range(len(my_str)-1,-1,-1)"
   ]
  },
  {
   "cell_type": "code",
   "execution_count": 3,
   "id": "49118786",
   "metadata": {},
   "outputs": [
    {
     "data": {
      "text/plain": [
       "[43,\n",
       " 42,\n",
       " 41,\n",
       " 40,\n",
       " 39,\n",
       " 38,\n",
       " 37,\n",
       " 36,\n",
       " 35,\n",
       " 34,\n",
       " 33,\n",
       " 32,\n",
       " 31,\n",
       " 30,\n",
       " 29,\n",
       " 28,\n",
       " 27,\n",
       " 26,\n",
       " 25,\n",
       " 24,\n",
       " 23,\n",
       " 22,\n",
       " 21,\n",
       " 20,\n",
       " 19,\n",
       " 18,\n",
       " 17,\n",
       " 16,\n",
       " 15,\n",
       " 14,\n",
       " 13,\n",
       " 12,\n",
       " 11,\n",
       " 10,\n",
       " 9,\n",
       " 8,\n",
       " 7,\n",
       " 6,\n",
       " 5,\n",
       " 4,\n",
       " 3,\n",
       " 2,\n",
       " 1,\n",
       " 0]"
      ]
     },
     "execution_count": 3,
     "metadata": {},
     "output_type": "execute_result"
    }
   ],
   "source": [
    "list(range(len(my_str)-1,-1,-1))"
   ]
  },
  {
   "cell_type": "code",
   "execution_count": 6,
   "id": "f5650700",
   "metadata": {},
   "outputs": [
    {
     "data": {
      "text/plain": [
       "[-10, -9, -8, -7, -6, -5, -4, -3, -2, -1, 0, 1, 2, 3, 4, 5, 6, 7, 8, 9]"
      ]
     },
     "execution_count": 6,
     "metadata": {},
     "output_type": "execute_result"
    }
   ],
   "source": [
    "list(range(-10,10))"
   ]
  },
  {
   "cell_type": "code",
   "execution_count": null,
   "id": "af3d690d",
   "metadata": {},
   "outputs": [],
   "source": [
    "# my_str = 'peter piper picked a peck of pickled peppers'\n",
    "# list(range(len(my_str)-1,-1))\n",
    "\n",
    "# out_str = out_str[::-1] = 'pickled'\n",
    "# range(10, -10, +1)\n",
    "\n",
    "#         Step = -1\n",
    "# -1-----------------------------------------43\n"
   ]
  },
  {
   "cell_type": "code",
   "execution_count": 9,
   "id": "59df235c",
   "metadata": {},
   "outputs": [
    {
     "name": "stdout",
     "output_type": "stream",
     "text": [
      "[['Krishna Kumar', 101, 15000], ['Abhishek Kumar', 102, 15000]]\n"
     ]
    }
   ],
   "source": [
    "# break - the loop - We immediately come out of the loop\n",
    "# Continue - Used to skip the current/defined iteration\n",
    "\n",
    "emp_details = {'emp1':{'emp_name':'Krishna Kumar', \n",
    "                       'emp_id': 101,\n",
    "                       'emp_sal': 15000},\n",
    "               'emp2':{'emp_name':'Abhishek Kumar', \n",
    "                       'emp_id': 102,\n",
    "                       'emp_sal': 15000},\n",
    "               'emp3':{'emp_name':'Rahul Kumar', \n",
    "                       'emp_id': None,\n",
    "                       'emp_sal': 15000},\n",
    "               'emp4':{'emp_name':'Afsan Kumar', \n",
    "                       'emp_id': 104,\n",
    "                       'emp_sal': 15000}}\n",
    "emp_lst = []\n",
    "for key in emp_details:\n",
    "#     break\n",
    "    if emp_details[key]['emp_id'] == None:\n",
    "        break\n",
    "    else:\n",
    "        emp_lst.append(list(emp_details[key].values()))\n",
    "print(emp_lst)\n",
    "\n",
    "# emp_lst = []\n",
    "# key = 'emp1'\n",
    "# if emp_details[key]['emp_id'] = 101: => False\n",
    "#     nothing\n",
    "# else:\n",
    "#     emp_lst.append(emp_details[key]) => [{'emp_name':'Krishna Kumar', 'emp_id': 101,'emp_sal': 15000}]\n",
    "\n",
    "# emp_lst = [{'emp_name':'Krishna Kumar', 'emp_id': 101,'emp_sal': 15000}]\n",
    "# key = 'emp2'\n",
    "# if emp_details[key]['emp_id'] = 101: => False\n",
    "#     nothing\n",
    "# else:\n",
    "#     emp_lst.append(emp_details[key]) => [{'emp_name':'Krishna Kumar','emp_id': 101,'emp_sal': 15000}, {'emp_name':'Abhishek Kumar', 'emp_id': 102,'emp_sal': 15000}]\n",
    "    \n",
    "# emp_lst = [{'emp_name':'Krishna Kumar','emp_id': 101,'emp_sal': 15000}, {'emp_name':'Abhishek Kumar', 'emp_id': 102,'emp_sal': 15000}]\n",
    "# key = 'emp3'\n",
    "# if emp_details[key]['emp_id'] = None: => True   \n",
    "#     exit loop\n",
    "    \n",
    "# [{'emp_name':'Krishna Kumar','emp_id': 101,'emp_sal': 15000}, {'emp_name':'Abhishek Kumar', 'emp_id': 102,'emp_sal': 15000}]    \n",
    "    "
   ]
  },
  {
   "cell_type": "code",
   "execution_count": null,
   "id": "f663bf08",
   "metadata": {},
   "outputs": [],
   "source": [
    "# Number guess\n",
    "\n",
    "# org_num = 6\n",
    "# guess_num = int(input('Guess a number '))\n",
    "# while True:\n",
    "#     if guess_num == org_num:\n",
    "#         print('Correct Guess!!!')\n",
    "#         print('You Won!!!')\n",
    "#         break\n",
    "#     else:\n",
    "#         print('Incorrect Guess!!!')\n",
    "#         print('Enter the number again!!!')\n",
    "#         guess_num = int(input())\n",
    "        \n",
    "# Loop1:\n",
    "#     loop2:\n",
    "#         break\n",
    "#     break\n",
    "\n",
    "\n",
    "\n"
   ]
  },
  {
   "cell_type": "code",
   "execution_count": null,
   "id": "517efc20",
   "metadata": {},
   "outputs": [],
   "source": [
    "# lst = [10,20,30,40]\n",
    "# print(lst[0])\n",
    "\n",
    "emp_details = {'emp1':{'emp_name':'Krishna Kumar', \n",
    "                       'emp_id': 101,\n",
    "                       'emp_sal': 15000},\n",
    "               'emp2':{'emp_name':'Abhishek Kumar', \n",
    "                       'emp_id': 102,\n",
    "                       'emp_sal': 15000},\n",
    "               'emp3':{'emp_name':'Rahul Kumar', \n",
    "                       'emp_id': None,\n",
    "                       'emp_sal': 15000},\n",
    "               'emp4':{'emp_name':'Afsan Kumar', \n",
    "                       'emp_id': 104,\n",
    "                       'emp_sal': 15000}}\n",
    "\n",
    "print(emp_details['emp2'])"
   ]
  },
  {
   "cell_type": "code",
   "execution_count": null,
   "id": "30a7a892",
   "metadata": {},
   "outputs": [],
   "source": [
    "if 10==10:\n",
    "    break"
   ]
  },
  {
   "cell_type": "code",
   "execution_count": null,
   "id": "9f8ced4b",
   "metadata": {},
   "outputs": [],
   "source": [
    "emp_details = {'emp1':{'emp_name':'Krishna Kumar', \n",
    "                       'emp_id': 101,\n",
    "                       'emp_sal': 15000},\n",
    "               'emp2':{'emp_name':'Abhishek Kumar', \n",
    "                       'emp_id': 102,\n",
    "                       'emp_sal': 15000},\n",
    "               'emp3':{'emp_name':'Rahul Kumar', \n",
    "                       'emp_id': None,\n",
    "                       'emp_sal': 15000},\n",
    "               'emp4':{'emp_name':'Afsan Kumar', \n",
    "                       'emp_id': 104,\n",
    "                       'emp_sal': 15000},\n",
    "               'emp5':{'emp_name':'Amrithansh Kumar', \n",
    "                       'emp_id': None,\n",
    "                       'emp_sal': 15000},\n",
    "               'emp6':{'emp_name':'Utkarsh Kumar', \n",
    "                       'emp_id': 106,\n",
    "                       'emp_sal': 15000}}\n",
    "emp_lst = []\n",
    "for key in emp_details:\n",
    "    if emp_details[key]['emp_id'] != None:\n",
    "        continue\n",
    "        print('Hello')\n",
    "    else:\n",
    "        emp_lst.append(list(emp_details[key].values()))\n",
    "print(emp_lst)"
   ]
  },
  {
   "cell_type": "code",
   "execution_count": 10,
   "id": "cd6f65d8",
   "metadata": {},
   "outputs": [
    {
     "name": "stdout",
     "output_type": "stream",
     "text": [
      "1\n",
      "10\n",
      "20\n",
      "2\n",
      "10\n"
     ]
    }
   ],
   "source": [
    "#Q. Use break statement properly. The code is:\n",
    "x = [1, 2]\n",
    "y = [10, 100]\n",
    "for i in x: \n",
    "    for j in y: \n",
    "        if i % 2 == 0: \n",
    "            print(i * j)\n",
    "        print(i)\n",
    "        break\n",
    "    print(j)\n",
    "    \n",
    "# Output is:-\n",
    "# 1\n",
    "# 10\n",
    "# 20\n",
    "# 2\n",
    "# 10\n",
    "\n",
    "\n",
    "# i = 2\n",
    "# j = 10\n",
    "# 1\n",
    "# 10\n",
    "# 20\n",
    "# 2\n",
    "# 10\n",
    "\n"
   ]
  },
  {
   "cell_type": "code",
   "execution_count": null,
   "id": "37df1eeb",
   "metadata": {},
   "outputs": [],
   "source": [
    "#Q. Use break statement properly. The code is:\n",
    "x = [1, 2]\n",
    "y = [10, 100]\n",
    "for i in x: \n",
    "    for j in y: \n",
    "        if i % 2 == 0: \n",
    "            break\n",
    "            print(i * j)\n",
    "        print(i)\n",
    "    print(j)\n",
    "    \n",
    "\n",
    "# Output is:-\n",
    "# 1\n",
    "# 1\n",
    "# 100\n",
    "# 10\n",
    "\n",
    "# i = 2\n",
    "# j = 10\n",
    "# 1\n",
    "# 1\n",
    "# 100\n",
    "# 10\n"
   ]
  },
  {
   "cell_type": "code",
   "execution_count": 12,
   "id": "3ff700da",
   "metadata": {},
   "outputs": [
    {
     "name": "stdout",
     "output_type": "stream",
     "text": [
      "1\n",
      "1\n",
      "100\n",
      "20\n",
      "200\n",
      "100\n"
     ]
    }
   ],
   "source": [
    "# Use continue statement properly\n",
    "x = [1, 2]\n",
    "y = [10, 100]\n",
    "for i in x:\n",
    "    for j in y:\n",
    "        if i % 2 == 0:\n",
    "            print(i * j)\n",
    "            continue\n",
    "        print(i)\n",
    "    print(j)\n",
    "    \n",
    "# 1\n",
    "# 1\n",
    "# 100\n",
    "# 20  \n",
    "# 200\n",
    "# 100\n",
    "\n",
    "\n",
    "\n",
    "\n",
    "\n"
   ]
  },
  {
   "cell_type": "code",
   "execution_count": null,
   "id": "25b2000a",
   "metadata": {},
   "outputs": [],
   "source": [
    "# List Data Structure in Python\n",
    "# List - any value kept inside []\n",
    "\n",
    "# lst = [10,20,30,40,50,60]\n",
    "# print(lst, type(lst))\n",
    "\n",
    "# List is mutable data structure.\n",
    "\n",
    "# List can have duplicate elements.(In set duplicates are not allowed)\n",
    "# lst = [10,20,30,40,10,20,10, 11, 10, 22, 10]\n",
    "# print(lst)\n",
    "# s = {10,20,30,40,10,20,10, 11, 10, 22, 10}\n",
    "# print(s)\n",
    "\n",
    "# List is a collection of heterogeneous elements.(Array is a collection of homogeneous elements)\n",
    "# lst = [10, 10.20, 10+20j, None, True, None, 'Python', [1, 2, 3], (9, 8, 7)]\n",
    "# print(lst)\n",
    "\n",
    "# How list is created.\n",
    "# Case 1 - if you know the elements in advance\n",
    "# lst = [10,20,30,40,50,60]\n",
    "# print(lst, type(lst))\n",
    "\n",
    "# Case 2 - using list function\n",
    "# list(iterable) -> Iterable - String, list, tuple, set, frozenset, dictionary, bytes, bytearray, array, enumerate, zip, filter, map\n",
    "# my_lst = list('Python')\n",
    "# print(my_lst)\n",
    "\n",
    "# my_str = 'Python'\n",
    "# my_lst = list(my_str)\n",
    "# print(my_str[0], id(my_str[0]))\n",
    "# print(my_lst[0], id(my_lst[0]))\n",
    "\n",
    "print(list([10,20,30,40]))\n",
    "print(list((10,20,30,40)))\n",
    "print(list([list(emp_details[i].keys()) for i in emp_details.keys()]))\n",
    "\n",
    "# [list(emp_details[i].values()) for i in emp_details.keys()]\n",
    "# [expr for loop]\n",
    "# \n"
   ]
  },
  {
   "cell_type": "code",
   "execution_count": null,
   "id": "44f39501",
   "metadata": {},
   "outputs": [],
   "source": [
    "# Mutable - We can modify the data\n",
    "# List, Dicionary, set, bytearray etc\n",
    "    # 1. Item assignment is possible\n",
    "    # 2. The changes will be mae to existing object(Memory address will remain same after the changes and before the changes)\n",
    "    \n",
    "# lst = [10,20,30,40,50]\n",
    "# print(lst, id(lst))\n",
    "# lst[0] = 111\n",
    "# print(lst, id(lst))\n",
    "\n",
    "# Immutable - We can not modify the data\n",
    "# Tuple, frozenset, string, bytes etc\n",
    "    # 1. Item assignment is not possible.\n",
    "    # 2. The changes will be made to existing object(Memory address will change after the changes and before the changes)\n",
    "    \n",
    "# my_str = 'Python'   \n",
    "# my_str[0] = 'J'\n",
    "    \n",
    "my_str = 'Python'\n",
    "print(my_str, id(my_str))\n",
    "# print(my_str.replace('P', 'J'), id(my_str.replace('P', 'J')))\n",
    "my_str = my_str.replace('P', 'J')\n",
    "print(my_str, id(my_str))\n",
    "# print(res_str, id(res_str))\n"
   ]
  },
  {
   "cell_type": "code",
   "execution_count": null,
   "id": "5eb2eeb9",
   "metadata": {},
   "outputs": [],
   "source": [
    "lst1 = [10,20,30,40,50]\n",
    "lst2 = [10,20,30,40,50]\n",
    "print(id(lst1))\n",
    "print(id(lst2))"
   ]
  },
  {
   "cell_type": "code",
   "execution_count": null,
   "id": "adbe6eda",
   "metadata": {},
   "outputs": [],
   "source": [
    "a = 10\n",
    "b = 10\n",
    "print(id(a))\n",
    "print(id(b))"
   ]
  },
  {
   "cell_type": "code",
   "execution_count": null,
   "id": "27a821f9",
   "metadata": {},
   "outputs": [],
   "source": [
    "a = 10\n",
    "print(a, id(a))\n",
    "a = a+2\n",
    "print(a, id(a))"
   ]
  },
  {
   "cell_type": "code",
   "execution_count": null,
   "id": "590fc9c1",
   "metadata": {},
   "outputs": [],
   "source": [
    "# lst = [[10],[10]]\n",
    "# lst1 = [10,10]\n",
    "\n",
    "# print(lst[0],id(lst[0]))\n",
    "# print(lst[1],id(lst[1]))"
   ]
  },
  {
   "cell_type": "code",
   "execution_count": null,
   "id": "78957ca8",
   "metadata": {},
   "outputs": [],
   "source": [
    "my_str='python'\n",
    "ind=0\n",
    "while ind < len(my_str):\n",
    "            print(my_str[ind]*(ind+1))\n",
    "            ind +=1\n",
    "            \n",
    "#             01234"
   ]
  },
  {
   "cell_type": "code",
   "execution_count": null,
   "id": "672e00bd",
   "metadata": {},
   "outputs": [],
   "source": [
    "my_str = 'Python'\n",
    "print(my_str[5])\n",
    "print(my_str[6])"
   ]
  },
  {
   "cell_type": "code",
   "execution_count": null,
   "id": "4f2eacd3",
   "metadata": {},
   "outputs": [],
   "source": [
    "while range(1, 10, 1):\n",
    "    print('Hi')"
   ]
  },
  {
   "cell_type": "code",
   "execution_count": 11,
   "id": "604bfb98",
   "metadata": {},
   "outputs": [
    {
     "data": {
      "text/plain": [
       "1"
      ]
     },
     "execution_count": 11,
     "metadata": {},
     "output_type": "execute_result"
    }
   ],
   "source": [
    "1%2"
   ]
  },
  {
   "cell_type": "code",
   "execution_count": null,
   "id": "5c4e6f90",
   "metadata": {},
   "outputs": [],
   "source": []
  },
  {
   "cell_type": "code",
   "execution_count": null,
   "id": "a99b3519",
   "metadata": {},
   "outputs": [],
   "source": []
  },
  {
   "cell_type": "code",
   "execution_count": null,
   "id": "181db292",
   "metadata": {},
   "outputs": [],
   "source": []
  },
  {
   "cell_type": "code",
   "execution_count": null,
   "id": "242a9dd4",
   "metadata": {},
   "outputs": [],
   "source": []
  }
 ],
 "metadata": {
  "kernelspec": {
   "display_name": "Python 3 (ipykernel)",
   "language": "python",
   "name": "python3"
  },
  "language_info": {
   "codemirror_mode": {
    "name": "ipython",
    "version": 3
   },
   "file_extension": ".py",
   "mimetype": "text/x-python",
   "name": "python",
   "nbconvert_exporter": "python",
   "pygments_lexer": "ipython3",
   "version": "3.9.12"
  }
 },
 "nbformat": 4,
 "nbformat_minor": 5
}
