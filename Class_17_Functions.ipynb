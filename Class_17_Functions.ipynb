{
 "cells": [
  {
   "cell_type": "code",
   "execution_count": null,
   "id": "bcc43e00",
   "metadata": {},
   "outputs": [],
   "source": [
    "# What is Function and why do we use it?\n",
    "# DRY - Do not Repeat Yourself\n",
    "Function is a collection of statements and expresions which gives the feature of the code reusability"
   ]
  },
  {
   "cell_type": "code",
   "execution_count": 8,
   "id": "4655590e",
   "metadata": {},
   "outputs": [
    {
     "name": "stdout",
     "output_type": "stream",
     "text": [
      "['This', 'is', 'Python', 'class']\n"
     ]
    }
   ],
   "source": [
    "my_str ='This is Python class'\n",
    "\n",
    "out_str =''\n",
    "out_lst = []\n",
    "for i in range(len(my_str)):\n",
    "    if my_str[i] == ' ':\n",
    "        out_lst = out_lst + [out_str]\n",
    "        out_str =''\n",
    "    elif i == len(my_str) -1:\n",
    "        out_str += my_str[i]\n",
    "        out_lst = out_lst + [out_str]\n",
    "        \n",
    "    else:\n",
    "        out_str += my_str[i]\n",
    "print(out_lst)\n"
   ]
  },
  {
   "cell_type": "code",
   "execution_count": 5,
   "id": "3bb2bf75",
   "metadata": {},
   "outputs": [
    {
     "data": {
      "text/plain": [
       "['This', 'is', 'Python', 'class']"
      ]
     },
     "execution_count": 5,
     "metadata": {},
     "output_type": "execute_result"
    }
   ],
   "source": [
    "# Defining a function:\n",
    "my_str ='This is Python class'\n",
    "\n",
    "def my_split(string):\n",
    "    out_str =''\n",
    "    out_lst = []\n",
    "    for i in range(len(string)):\n",
    "        if string[i] == ' ':\n",
    "            out_lst = out_lst + [out_str]\n",
    "            out_str =''\n",
    "        elif i == len(string) -1:\n",
    "            out_str += string[i]\n",
    "            out_lst = out_lst + [out_str]\n",
    "        else:\n",
    "            out_str += string[i]\n",
    "    return(out_lst)\n",
    "\n",
    "my_split(my_str)\n"
   ]
  },
  {
   "cell_type": "code",
   "execution_count": 12,
   "id": "0b16fb79",
   "metadata": {},
   "outputs": [
    {
     "data": {
      "text/plain": [
       "['Peter', 'piper', 'picked', 'a', 'peck', 'of', 'pickled', 'peppers']"
      ]
     },
     "execution_count": 12,
     "metadata": {},
     "output_type": "execute_result"
    }
   ],
   "source": [
    "my_split('Peter piper picked a peck of pickled peppers')"
   ]
  },
  {
   "cell_type": "code",
   "execution_count": null,
   "id": "bf414de2",
   "metadata": {},
   "outputs": [],
   "source": [
    "# Syntax of the function\n",
    "# when we define the function, it does not execute the function\n",
    "# Function definition: just creates a function object in Heap area and referred by the function identifier in variable area\n",
    "# parameter is the input to the function and return statement is output to the function.\n",
    "# Parameter is the name or variable which stores the value passed as arguments\n",
    "def func_name(param):\n",
    "    code\n",
    "    code\n",
    "    code\n",
    "    code\n",
    "    return expr\n",
    "\n",
    "# In function definition- param,return statement are optional\n",
    "\n",
    "# Function call\n",
    "func_name(args)\n",
    "\n",
    "# In Function call, if parameters are taken in function definition, then you should provide the argument.\n",
    "# Argument is the actual value which is passed during the function call"
   ]
  },
  {
   "cell_type": "code",
   "execution_count": 24,
   "id": "454bba4b",
   "metadata": {},
   "outputs": [
    {
     "name": "stdout",
     "output_type": "stream",
     "text": [
      "None\n",
      "[10, 20, 30, 40, 50]\n"
     ]
    }
   ],
   "source": [
    "lst = [10,20,30,40]\n",
    "print(lst.append(50))\n",
    "print(lst)"
   ]
  },
  {
   "cell_type": "code",
   "execution_count": 19,
   "id": "2fef4842",
   "metadata": {},
   "outputs": [
    {
     "data": {
      "text/plain": [
       "[111, 10, 20, 30, 40]"
      ]
     },
     "execution_count": 19,
     "metadata": {},
     "output_type": "execute_result"
    }
   ],
   "source": [
    "# my_append(lst,val) - will add the value in the beginning of the list\n",
    "# return modified list as output\n",
    "\n",
    "# def my_append(lst,val):\n",
    "#     lst += [lst.insert(0,111)] \n",
    "#     return lst\n",
    "\n",
    "# my_append([10,20,30,40], 111)\n",
    "\n",
    "\n",
    "def my_append(lst,val):\n",
    "    lst = [val] + lst\n",
    "    return lst\n",
    "\n",
    "my_append([10,20,30,40], 111)"
   ]
  },
  {
   "cell_type": "code",
   "execution_count": 20,
   "id": "daaa8b1f",
   "metadata": {},
   "outputs": [
    {
     "ename": "TypeError",
     "evalue": "can only concatenate list (not \"int\") to list",
     "output_type": "error",
     "traceback": [
      "\u001b[1;31m---------------------------------------------------------------------------\u001b[0m",
      "\u001b[1;31mTypeError\u001b[0m                                 Traceback (most recent call last)",
      "Input \u001b[1;32mIn [20]\u001b[0m, in \u001b[0;36m<cell line: 1>\u001b[1;34m()\u001b[0m\n\u001b[1;32m----> 1\u001b[0m \u001b[43mmy_append\u001b[49m\u001b[43m(\u001b[49m\u001b[38;5;241;43m111\u001b[39;49m\u001b[43m \u001b[49m\u001b[43m,\u001b[49m\u001b[43m[\u001b[49m\u001b[38;5;241;43m10\u001b[39;49m\u001b[43m,\u001b[49m\u001b[38;5;241;43m20\u001b[39;49m\u001b[43m,\u001b[49m\u001b[38;5;241;43m30\u001b[39;49m\u001b[43m,\u001b[49m\u001b[38;5;241;43m40\u001b[39;49m\u001b[43m]\u001b[49m\u001b[43m)\u001b[49m\n",
      "Input \u001b[1;32mIn [19]\u001b[0m, in \u001b[0;36mmy_append\u001b[1;34m(lst, val)\u001b[0m\n\u001b[0;32m     11\u001b[0m \u001b[38;5;28;01mdef\u001b[39;00m \u001b[38;5;21mmy_append\u001b[39m(lst,val):\n\u001b[1;32m---> 12\u001b[0m     lst \u001b[38;5;241m=\u001b[39m \u001b[43m[\u001b[49m\u001b[43mval\u001b[49m\u001b[43m]\u001b[49m\u001b[43m \u001b[49m\u001b[38;5;241;43m+\u001b[39;49m\u001b[43m \u001b[49m\u001b[43mlst\u001b[49m\n\u001b[0;32m     13\u001b[0m     \u001b[38;5;28;01mreturn\u001b[39;00m lst\n",
      "\u001b[1;31mTypeError\u001b[0m: can only concatenate list (not \"int\") to list"
     ]
    }
   ],
   "source": [
    "my_append(111 ,[10,20,30,40])\n",
    "\n",
    "# while passing positional arguments - No of parameters and arguments should match\n",
    "# Also the position should be maintained"
   ]
  },
  {
   "cell_type": "code",
   "execution_count": 21,
   "id": "66877ebc",
   "metadata": {},
   "outputs": [
    {
     "ename": "TypeError",
     "evalue": "my_append() missing 1 required positional argument: 'val'",
     "output_type": "error",
     "traceback": [
      "\u001b[1;31m---------------------------------------------------------------------------\u001b[0m",
      "\u001b[1;31mTypeError\u001b[0m                                 Traceback (most recent call last)",
      "Input \u001b[1;32mIn [21]\u001b[0m, in \u001b[0;36m<cell line: 1>\u001b[1;34m()\u001b[0m\n\u001b[1;32m----> 1\u001b[0m \u001b[43mmy_append\u001b[49m\u001b[43m(\u001b[49m\u001b[43m[\u001b[49m\u001b[38;5;241;43m10\u001b[39;49m\u001b[43m,\u001b[49m\u001b[38;5;241;43m20\u001b[39;49m\u001b[43m,\u001b[49m\u001b[38;5;241;43m30\u001b[39;49m\u001b[43m,\u001b[49m\u001b[38;5;241;43m40\u001b[39;49m\u001b[43m]\u001b[49m\u001b[43m)\u001b[49m\n",
      "\u001b[1;31mTypeError\u001b[0m: my_append() missing 1 required positional argument: 'val'"
     ]
    }
   ],
   "source": [
    "my_append([10,20,30,40])  "
   ]
  },
  {
   "cell_type": "code",
   "execution_count": 39,
   "id": "0f900289",
   "metadata": {},
   "outputs": [
    {
     "name": "stdout",
     "output_type": "stream",
     "text": [
      "[2, 3, 4, 5]\n",
      "[1, 2, 4, 5]\n"
     ]
    }
   ],
   "source": [
    "# Default parameters\n",
    "# Default argument should always be written after positional parameters\n",
    "# Default parameters are optional\n",
    "\n",
    "\n",
    "# my_pop(lst) - by default it is going to remove the first element\n",
    "\n",
    "def my_pop(lst, ind =0):\n",
    "    if  ind == 0:\n",
    "        return lst[1:]\n",
    "    else:\n",
    "        return lst[:ind] + lst[ind+1:]\n",
    "\n",
    "print(my_pop([1,2,3,4,5]))\n",
    "print(my_pop([1,2,3,4,5],2))"
   ]
  },
  {
   "cell_type": "code",
   "execution_count": 42,
   "id": "b385c42d",
   "metadata": {},
   "outputs": [
    {
     "data": {
      "text/plain": [
       "105"
      ]
     },
     "execution_count": 42,
     "metadata": {},
     "output_type": "execute_result"
    }
   ],
   "source": [
    "# Keyworded Arguments\n",
    "\n",
    "def my_func(a,b,c,d, e =0, f=1):\n",
    "    return a+b+c+d+e+f\n",
    "\n",
    "my_func(1,2,3,4,5,6)  # we need to follow the positional arguments\n",
    "my_func(e =5, a =10, d = 15, b=20, f = 25, c =30) # this is keyword arguments and no need to follow the positional argument\n"
   ]
  },
  {
   "cell_type": "code",
   "execution_count": 43,
   "id": "4792a484",
   "metadata": {},
   "outputs": [
    {
     "data": {
      "text/plain": [
       "[111, 10, 20, 30, 40]"
      ]
     },
     "execution_count": 43,
     "metadata": {},
     "output_type": "execute_result"
    }
   ],
   "source": [
    "def my_append(lst,val):\n",
    "    lst = [val] + lst\n",
    "    return lst\n",
    "\n",
    "my_append(lst =[10,20,30,40], val=111) # this is also the keyword arguments and no need to follow the positional argument"
   ]
  },
  {
   "cell_type": "code",
   "execution_count": 15,
   "id": "e181e0fb",
   "metadata": {},
   "outputs": [
    {
     "data": {
      "text/plain": [
       "280"
      ]
     },
     "execution_count": 15,
     "metadata": {},
     "output_type": "execute_result"
    }
   ],
   "source": [
    "# Variable length arguments\n",
    "#     1. Variable length positional arguments - *args - all values are stored in form of tuple\n",
    "#     2. Variable length keywoded arguments - **kwargs - all values are stored in form of dictionary\n",
    "\n",
    "\n",
    "\n",
    " 1. Variable length positional arguments - *args - all values are stored in form of tuple\n",
    "\n",
    "# def my_add(a,b, *args):\n",
    "#     total = a+b\n",
    "#     if len(args) > 0:\n",
    "#         for i in args:\n",
    "#             total += i\n",
    "#         return total\n",
    "#     else:\n",
    "#         return total\n",
    "\n",
    "# my_add(10,20)\n",
    "# my_add(10,20,30,40,50,60)\n",
    "        \n",
    "    \n",
    "def my_add(*args, a,b):\n",
    "    total = a+b\n",
    "    if len(args) > 0:\n",
    "        for i in args:\n",
    "            total += i\n",
    "        return total\n",
    "    else:\n",
    "        return total\n",
    "\n",
    "\n",
    "my_add(10,20,30,40,50, a =60, b = 70)\n",
    "\n",
    "    "
   ]
  },
  {
   "cell_type": "code",
   "execution_count": 26,
   "id": "2b87fe74",
   "metadata": {},
   "outputs": [
    {
     "name": "stdout",
     "output_type": "stream",
     "text": [
      "Abhi\n",
      "9876543210\n",
      "Abhi@gmail.com\n",
      "('Hello', 'Pyhton')\n",
      "Bengaluru\n",
      "Karnataka\n"
     ]
    }
   ],
   "source": [
    "# Variable length keywoded arguments - **kwargs - all values are stored in form of dictionary\n",
    "\n",
    "# def my_emp(name,mob,email, **kwargs):\n",
    "#     print(name)\n",
    "#     print(mob)\n",
    "#     print(email)\n",
    "#     for i in kwargs:\n",
    "#         print(kwargs[i])\n",
    "        \n",
    "# # my_emp('Abhi', 9876543210, 'Abhi@gmail.com')\n",
    "# my_emp('Abhi', 9876543210, 'Abhi@gmail.com', city ='Bengaluru', state = 'Karnataka')\n",
    "\n",
    "\n",
    "def my_emp(name,mob,email, *args, **kwargs):\n",
    "    print(name)\n",
    "    print(mob)\n",
    "    print(email)\n",
    "    print(args)\n",
    "    for i in kwargs:\n",
    "        print(kwargs[i])\n",
    "        \n",
    "# my_emp('Abhi', 9876543210, 'Abhi@gmail.com')\n",
    "# my_emp('Abhi', 9876543210, 'Abhi@gmail.com', city ='Bengaluru', state = 'Karnataka', 'Hello', 'Pyhton')\n",
    "my_emp('Abhi', 9876543210, 'Abhi@gmail.com', 'Hello', 'Pyhton',city ='Bengaluru', state = 'Karnataka')"
   ]
  },
  {
   "cell_type": "code",
   "execution_count": 2,
   "id": "be7832a1",
   "metadata": {},
   "outputs": [
    {
     "name": "stdout",
     "output_type": "stream",
     "text": [
      "This is dummy function\n"
     ]
    }
   ],
   "source": [
    "def my_func():\n",
    "    print('This is dummy function')\n",
    "    \n",
    "my_func()"
   ]
  },
  {
   "cell_type": "code",
   "execution_count": 5,
   "id": "828a24b8",
   "metadata": {},
   "outputs": [
    {
     "name": "stdout",
     "output_type": "stream",
     "text": [
      "<function my_func at 0x000001C221EFDDC0>\n"
     ]
    }
   ],
   "source": [
    "def my_func():\n",
    "    print('This is dummy function')\n",
    "    \n",
    "my_func\n",
    "print(my_func)"
   ]
  },
  {
   "cell_type": "code",
   "execution_count": 4,
   "id": "e3cacfcf",
   "metadata": {},
   "outputs": [
    {
     "name": "stdout",
     "output_type": "stream",
     "text": [
      "['__annotations__', '__call__', '__class__', '__closure__', '__code__', '__defaults__', '__delattr__', '__dict__', '__dir__', '__doc__', '__eq__', '__format__', '__ge__', '__get__', '__getattribute__', '__globals__', '__gt__', '__hash__', '__init__', '__init_subclass__', '__kwdefaults__', '__le__', '__lt__', '__module__', '__name__', '__ne__', '__new__', '__qualname__', '__reduce__', '__reduce_ex__', '__repr__', '__setattr__', '__sizeof__', '__str__', '__subclasshook__']\n"
     ]
    }
   ],
   "source": [
    "print(dir(my_func))"
   ]
  },
  {
   "cell_type": "code",
   "execution_count": 6,
   "id": "1e52fc1c",
   "metadata": {},
   "outputs": [
    {
     "name": "stdout",
     "output_type": "stream",
     "text": [
      "This is dummy function\n",
      "['__bool__', '__class__', '__delattr__', '__dir__', '__doc__', '__eq__', '__format__', '__ge__', '__getattribute__', '__gt__', '__hash__', '__init__', '__init_subclass__', '__le__', '__lt__', '__ne__', '__new__', '__reduce__', '__reduce_ex__', '__repr__', '__setattr__', '__sizeof__', '__str__', '__subclasshook__']\n"
     ]
    }
   ],
   "source": [
    "print(dir(my_func()))"
   ]
  },
  {
   "cell_type": "code",
   "execution_count": 7,
   "id": "052d2da8",
   "metadata": {},
   "outputs": [
    {
     "data": {
      "text/plain": [
       "10"
      ]
     },
     "execution_count": 7,
     "metadata": {},
     "output_type": "execute_result"
    }
   ],
   "source": [
    "def my_func():\n",
    "    return 10\n",
    "    \n",
    "my_func()"
   ]
  },
  {
   "cell_type": "code",
   "execution_count": 11,
   "id": "50856a8c",
   "metadata": {},
   "outputs": [
    {
     "name": "stdout",
     "output_type": "stream",
     "text": [
      "<function my_func at 0x000001C221EFDF70>\n"
     ]
    },
    {
     "data": {
      "text/plain": [
       "10"
      ]
     },
     "execution_count": 11,
     "metadata": {},
     "output_type": "execute_result"
    }
   ],
   "source": [
    "def my_func():\n",
    "    return 10\n",
    "    \n",
    "a = my_func\n",
    "print(a)\n",
    "a()"
   ]
  },
  {
   "cell_type": "code",
   "execution_count": null,
   "id": "7e77dbff",
   "metadata": {},
   "outputs": [],
   "source": [
    "# Function is also an object in python\n",
    "    1. Function can also be passed as arguments\n",
    "    2. Function can also be returned from function"
   ]
  },
  {
   "cell_type": "code",
   "execution_count": 33,
   "id": "3c37fa8f",
   "metadata": {},
   "outputs": [
    {
     "name": "stdout",
     "output_type": "stream",
     "text": [
      "In outer function\n",
      "In inner function\n",
      "None\n"
     ]
    }
   ],
   "source": [
    "def outer():\n",
    "    print('In outer function')\n",
    "    def inner():\n",
    "        print('In inner function')\n",
    "    return inner()\n",
    "        \n",
    "a =outer()\n",
    "print(a)"
   ]
  },
  {
   "cell_type": "code",
   "execution_count": 31,
   "id": "334bc5cf",
   "metadata": {},
   "outputs": [
    {
     "name": "stdout",
     "output_type": "stream",
     "text": [
      "In outer function\n",
      "In inner function\n"
     ]
    }
   ],
   "source": [
    "def outer():\n",
    "    print('In outer function')\n",
    "    def inner():\n",
    "        print('In inner function')\n",
    "    return inner\n",
    "        \n",
    "a =outer()\n",
    "a()\n"
   ]
  },
  {
   "cell_type": "code",
   "execution_count": 2,
   "id": "9e65df6e",
   "metadata": {},
   "outputs": [
    {
     "data": {
      "text/plain": [
       "600"
      ]
     },
     "execution_count": 2,
     "metadata": {},
     "output_type": "execute_result"
    }
   ],
   "source": [
    "# Write the definition of a function zero_ending(scores) to add all those valuses in the list of scores,\n",
    "# which are ending with zero and display the sum.\n",
    "\n",
    "lst =[200,456,300,100,234,678]\n",
    "def zero_ending(scores):\n",
    "    sum= 0\n",
    "    for i in scores:\n",
    "        if i%10 ==0:\n",
    "            sum+=i\n",
    "    return sum\n",
    "\n",
    "zero_ending(lst)\n",
    "        "
   ]
  },
  {
   "cell_type": "code",
   "execution_count": 3,
   "id": "d1fc919e",
   "metadata": {},
   "outputs": [
    {
     "name": "stdout",
     "output_type": "stream",
     "text": [
      "414141\n",
      "DROND#\n",
      "GIRIRAJ#\n",
      "131313\n",
      "ZARA#\n"
     ]
    }
   ],
   "source": [
    "# Write a method in python to disaply the elements of list thrice if it is a number\n",
    "# and display the element terminated with '#' if it is not a number.\n",
    "\n",
    "# For example, if the content of the list is as follows:\n",
    "# ThisList =['41','DROND','GIRIRAJ','13','ZARA']\n",
    "# The output should be\n",
    "# 414141\n",
    "# DROND#\n",
    "# GIRIRAJ#\n",
    "# 131313\n",
    "# ZARA#\n",
    "\n",
    "def my_func(lst):\n",
    "    for i in lst:\n",
    "        if i.isdigit():\n",
    "            i *= 3\n",
    "            print(i)\n",
    "        else:\n",
    "            i.isalpha()\n",
    "            i = i + '#'\n",
    "            print(i)\n",
    "            \n",
    "my_func(['41','DROND','GIRIRAJ','13','ZARA'])"
   ]
  },
  {
   "cell_type": "code",
   "execution_count": 36,
   "id": "805afbfd",
   "metadata": {},
   "outputs": [
    {
     "name": "stdout",
     "output_type": "stream",
     "text": [
      "['__add__', '__class__', '__contains__', '__delattr__', '__dir__', '__doc__', '__eq__', '__format__', '__ge__', '__getattribute__', '__getitem__', '__getnewargs__', '__gt__', '__hash__', '__init__', '__init_subclass__', '__iter__', '__le__', '__len__', '__lt__', '__mod__', '__mul__', '__ne__', '__new__', '__reduce__', '__reduce_ex__', '__repr__', '__rmod__', '__rmul__', '__setattr__', '__sizeof__', '__str__', '__subclasshook__', 'capitalize', 'casefold', 'center', 'count', 'encode', 'endswith', 'expandtabs', 'find', 'format', 'format_map', 'index', 'isalnum', 'isalpha', 'isascii', 'isdecimal', 'isdigit', 'isidentifier', 'islower', 'isnumeric', 'isprintable', 'isspace', 'istitle', 'isupper', 'join', 'ljust', 'lower', 'lstrip', 'maketrans', 'partition', 'removeprefix', 'removesuffix', 'replace', 'rfind', 'rindex', 'rjust', 'rpartition', 'rsplit', 'rstrip', 'split', 'splitlines', 'startswith', 'strip', 'swapcase', 'title', 'translate', 'upper', 'zfill']\n"
     ]
    }
   ],
   "source": [
    "print(dir(str))"
   ]
  },
  {
   "cell_type": "code",
   "execution_count": null,
   "id": "3b1877f0",
   "metadata": {},
   "outputs": [],
   "source": []
  }
 ],
 "metadata": {
  "kernelspec": {
   "display_name": "Python 3 (ipykernel)",
   "language": "python",
   "name": "python3"
  },
  "language_info": {
   "codemirror_mode": {
    "name": "ipython",
    "version": 3
   },
   "file_extension": ".py",
   "mimetype": "text/x-python",
   "name": "python",
   "nbconvert_exporter": "python",
   "pygments_lexer": "ipython3",
   "version": "3.9.12"
  }
 },
 "nbformat": 4,
 "nbformat_minor": 5
}
