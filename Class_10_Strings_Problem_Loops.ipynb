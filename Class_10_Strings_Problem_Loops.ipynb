{
 "cells": [
  {
   "cell_type": "code",
   "execution_count": null,
   "id": "78b97411",
   "metadata": {},
   "outputs": [],
   "source": [
    "# a = 'Learnbay'\n",
    "# print(a+10)"
   ]
  },
  {
   "cell_type": "code",
   "execution_count": null,
   "id": "8b6c31ff",
   "metadata": {},
   "outputs": [],
   "source": [
    "my_str = 'this is python class'\n",
    "print()\n"
   ]
  },
  {
   "cell_type": "code",
   "execution_count": null,
   "id": "c7b45874",
   "metadata": {},
   "outputs": [],
   "source": [
    "#output:- id of my_str and my_str1 is same? - False\n",
    "\n",
    "# my_str = \"Althoughthatwaymaynotbeobvious at first unless you're Dutch.\"\n",
    "# my_str1 = \"Although that way may not be obvious at first unless you're Dutch.\"\n",
    "# print(my_str is my_str1)\n"
   ]
  },
  {
   "cell_type": "code",
   "execution_count": null,
   "id": "2afb2a3a",
   "metadata": {},
   "outputs": [],
   "source": [
    "# Take one boolean value between True, False\n",
    "# Assign it to two different variables.\n",
    "# Check the id of both the variables. It should come the same. Check why?\n",
    "\n",
    "# a = bool(input('Enter 1st numer: '))\n",
    "# b = bool(input('Enter 2nd numer: '))\n",
    "# print(a is b)\n"
   ]
  },
  {
   "cell_type": "code",
   "execution_count": null,
   "id": "f9684192",
   "metadata": {},
   "outputs": [],
   "source": [
    "# my_str = 'This is Python class'\n",
    "# print(len(my_str))\n",
    "# print(my_str.count('s'))"
   ]
  },
  {
   "cell_type": "code",
   "execution_count": null,
   "id": "74432bae",
   "metadata": {},
   "outputs": [],
   "source": [
    "# Write a Python program that accepts a string from user. \n",
    "# Your program should create and display a new string where the first and \n",
    "# last characters have been exchanged.\n",
    "\n",
    "# For example if the user enters the string 'HELLO' then new string would be 'OELLH'\n",
    "\n",
    "my_str = 'Python'\n",
    "print(my_str[-1] + my_str[1:len(my_str)-1] + my_str[0])\n",
    "\n",
    "\n",
    "\n",
    "# initial = my_str[0] => P\n",
    "# my_str = my_str.replace(my_str[0], my_str[len(my_str)-1], 1) => nython\n",
    "\n",
    "# my_str[::-1].replace(my_str[len(my_str)-1], initial, 1) => 'Pohtyn'[::-1] = 'nythoP'\n",
    "# # my_str = my_str[::-1].replace(my_str[len(my_str)-1], initial, 1)[::-1]\n",
    "# # print(my_str)\n",
    "\n",
    "\n",
    "# replace('n', 'P')\n",
    "\n"
   ]
  },
  {
   "cell_type": "code",
   "execution_count": 15,
   "id": "31a47e2c",
   "metadata": {},
   "outputs": [
    {
     "name": "stdout",
     "output_type": "stream",
     "text": [
      "OLLEH\n",
      "OELLH\n"
     ]
    }
   ],
   "source": [
    "my_str = 'HELLO'\n",
    "print(my_str[::-1])\n",
    "print(my_str[-1]+my_str[1:4]+my_str[0])"
   ]
  },
  {
   "cell_type": "code",
   "execution_count": 16,
   "id": "137cb392",
   "metadata": {},
   "outputs": [
    {
     "name": "stdout",
     "output_type": "stream",
     "text": [
      "Enter a string: Python3.7.8.9 Anaconda Python\n",
      "No of upper case letters 3\n",
      "No of lower case letters 17\n",
      "No of digits characters 4\n",
      "No of space characters 2\n"
     ]
    }
   ],
   "source": [
    "# Write a program that reads a string from keyboard and display:\n",
    "# * The number of uppercase letters in the string\n",
    "# * The number of lowercase letters in the string\n",
    "# * The number of digits in the string\n",
    "# * The number of whitespace characters in the string\n",
    "\n",
    "my_str = input('Enter a string: ')\n",
    "count_upper = 0\n",
    "count_lower = 0\n",
    "count_digit = 0\n",
    "count_space = 0\n",
    "# print(f'The number of Uppercase letters {my_str}')\n",
    "\n",
    "for char in my_str:\n",
    "    if char.isupper():\n",
    "        count_upper += 1\n",
    "    elif char.islower():\n",
    "        count_lower += 1\n",
    "    elif char.isdigit():\n",
    "        count_digit += 1\n",
    "    elif char.isspace():\n",
    "        count_space += 1\n",
    "print(f'No of upper case letters {count_upper}')\n",
    "print(f'No of lower case letters {count_lower}')\n",
    "print(f'No of digits characters {count_digit}')\n",
    "print(f'No of space characters {count_space}')\n",
    "\n",
    "\n",
    "\n",
    "\n",
    "\n"
   ]
  },
  {
   "cell_type": "code",
   "execution_count": 17,
   "id": "4cb29e05",
   "metadata": {},
   "outputs": [
    {
     "name": "stdout",
     "output_type": "stream",
     "text": [
      "Enter your Full name: Y Gopinath Reddy\n",
      "Y.G.R.\n"
     ]
    }
   ],
   "source": [
    "# Write a program that asks the user to input his name and print its initials. \n",
    "# Assuming that the user always types first name, middle name and last name and does \n",
    "# not include any unnecessary spaces.\n",
    "\n",
    "# For example, if the user enters Ajay Kumar Garg the program should display A. K. G.\n",
    "# Note:Don't use split() method \n",
    "full_name = input('Enter your Full name: ')\n",
    "sp_1 = full_name.find(' ')\n",
    "print(full_name[0] + '.' + full_name[sp_1+1] + \".\" + full_name[full_name.find(' ', sp_1+1)+1] + '.')\n",
    "\n",
    "\n"
   ]
  },
  {
   "cell_type": "code",
   "execution_count": 4,
   "id": "de69dff2",
   "metadata": {},
   "outputs": [
    {
     "data": {
      "text/plain": [
       "['__add__',\n",
       " '__class__',\n",
       " '__contains__',\n",
       " '__delattr__',\n",
       " '__dir__',\n",
       " '__doc__',\n",
       " '__eq__',\n",
       " '__format__',\n",
       " '__ge__',\n",
       " '__getattribute__',\n",
       " '__getitem__',\n",
       " '__getnewargs__',\n",
       " '__gt__',\n",
       " '__hash__',\n",
       " '__init__',\n",
       " '__init_subclass__',\n",
       " '__iter__',\n",
       " '__le__',\n",
       " '__len__',\n",
       " '__lt__',\n",
       " '__mod__',\n",
       " '__mul__',\n",
       " '__ne__',\n",
       " '__new__',\n",
       " '__reduce__',\n",
       " '__reduce_ex__',\n",
       " '__repr__',\n",
       " '__rmod__',\n",
       " '__rmul__',\n",
       " '__setattr__',\n",
       " '__sizeof__',\n",
       " '__str__',\n",
       " '__subclasshook__',\n",
       " 'capitalize',\n",
       " 'casefold',\n",
       " 'center',\n",
       " 'count',\n",
       " 'encode',\n",
       " 'endswith',\n",
       " 'expandtabs',\n",
       " 'find',\n",
       " 'format',\n",
       " 'format_map',\n",
       " 'index',\n",
       " 'isalnum',\n",
       " 'isalpha',\n",
       " 'isascii',\n",
       " 'isdecimal',\n",
       " 'isdigit',\n",
       " 'isidentifier',\n",
       " 'islower',\n",
       " 'isnumeric',\n",
       " 'isprintable',\n",
       " 'isspace',\n",
       " 'istitle',\n",
       " 'isupper',\n",
       " 'join',\n",
       " 'ljust',\n",
       " 'lower',\n",
       " 'lstrip',\n",
       " 'maketrans',\n",
       " 'partition',\n",
       " 'removeprefix',\n",
       " 'removesuffix',\n",
       " 'replace',\n",
       " 'rfind',\n",
       " 'rindex',\n",
       " 'rjust',\n",
       " 'rpartition',\n",
       " 'rsplit',\n",
       " 'rstrip',\n",
       " 'split',\n",
       " 'splitlines',\n",
       " 'startswith',\n",
       " 'strip',\n",
       " 'swapcase',\n",
       " 'title',\n",
       " 'translate',\n",
       " 'upper',\n",
       " 'zfill']"
      ]
     },
     "execution_count": 4,
     "metadata": {},
     "output_type": "execute_result"
    }
   ],
   "source": [
    "dir(str)"
   ]
  },
  {
   "cell_type": "code",
   "execution_count": 25,
   "id": "4cce3e34",
   "metadata": {},
   "outputs": [
    {
     "name": "stdout",
     "output_type": "stream",
     "text": [
      "Enter a number in range 0-9: 1\n",
      "One\n"
     ]
    }
   ],
   "source": [
    "# Conditional Statement - if, elif, else\n",
    "\n",
    "# Take a number from user, and print 'EVEN' if number is even else do nothing\n",
    "# num = int(input('Enter a number: '))\n",
    "# if num%2 == 0:\n",
    "#     print('EVEN')\n",
    "#     print(num**2)\n",
    "# print('Execution completed')\n",
    "\n",
    "# Take a number from user, and print 'EVEN' if number is even if number is odd then print 'ODD'\n",
    "# num = int(input('Enter a number: '))\n",
    "# if num%2 == 0:\n",
    "#     print()\n",
    "#     print(num**2)\n",
    "# if num%2 != 0:\n",
    "#     print('ODD')\n",
    "#     print(num*3)\n",
    "# print('Execution completed')\n",
    "\n",
    "\n",
    "# Take an year as input from user and check whether it is a leap year\n",
    "# year = int(input('Enter an year: '))\n",
    "# if ((year%400 == 0) or ((year%4 == 0) and (year%100 != 0))):\n",
    "#     print('Year is a leap year')\n",
    "\n",
    "\n",
    "# scie_marks = int(input('Enter your science marks: '))\n",
    "# lang_marks = int(input('Enter your language marks: '))\n",
    "# soci_marks = int(input('Enter your Social studies marks: '))\n",
    "# if scie_marks>180:\n",
    "#     if lang_marks>120:\n",
    "#         if soci_marks>120:\n",
    "#             print('Passed')\n",
    "#         else:\n",
    "#             print('Social studies marks is less than 120')\n",
    "#             print('Failed')\n",
    "#     else:\n",
    "#         print('Language marks is less than 120')\n",
    "#         print('Failed')\n",
    "# else:\n",
    "#     print('Science marks is less than 180')\n",
    "#     print('Failed')\n",
    "\n",
    "# if (scie_marks>180) and (lang_marks>120) and (soci_marks>120):\n",
    "#     print('Passed')\n",
    "# else:\n",
    "#     print('Failed')\n",
    "\n",
    "# if cond1:\n",
    "#     pass\n",
    "# if cond2:\n",
    "#     pass\n",
    "# if cond3:\n",
    "#     pass\n",
    "# else:\n",
    "#     pass\n",
    "\n",
    "# In above case, else is alwasy corresponds to if cond3, and if cond1 and if cond2 does not have any relation with else.\n",
    "# If we arite multiple if, then it check each if condition, which makes the application slow.\n",
    "\n",
    "# num = int(input('Enter a number in range 0-9: '))\n",
    "# if num == 0:\n",
    "#     print('Zero')\n",
    "# if num == 1:\n",
    "#     print('One')\n",
    "# if num == 2:\n",
    "#     print('Two')\n",
    "# if num == 3:\n",
    "#     print('Three')\n",
    "# if num == 4:\n",
    "#     print('Four')\n",
    "# if num == 5:\n",
    "#     print('Five')\n",
    "# if num == 6:\n",
    "#     print('Six')\n",
    "# if num == 7:\n",
    "#     print('Seven')\n",
    "# if num == 8:\n",
    "#     print('Eight')\n",
    "# if num == 9:\n",
    "#     print('Nine')\n",
    "# else:\n",
    "#     print('Number is outside of range')\n",
    "\n",
    "num = int(input('Enter a number in range 0-9: '))\n",
    "if num == 0:\n",
    "    print('Zero')\n",
    "elif num == 1:\n",
    "    print('One')\n",
    "elif num == 2:\n",
    "    print('Two')\n",
    "elif num == 3:\n",
    "    print('Three')\n",
    "elif num == 4:\n",
    "    print('Four')\n",
    "elif num == 5:\n",
    "    print('Five')\n",
    "elif num == 6:\n",
    "    print('Six')\n",
    "elif num == 7:\n",
    "    print('Seven')\n",
    "elif num == 8:\n",
    "    print('Eight')\n",
    "elif num == 9:\n",
    "    print('Nine')\n",
    "else:\n",
    "    print('Number is outside of range')\n",
    "\n",
    "\n",
    "    \n",
    "\n",
    "\n",
    "\n",
    "    \n",
    "\n",
    "\n",
    "\n",
    "\n"
   ]
  },
  {
   "cell_type": "code",
   "execution_count": 21,
   "id": "02f31605",
   "metadata": {},
   "outputs": [
    {
     "name": "stdout",
     "output_type": "stream",
     "text": [
      "Enter the Science marks: 120\n",
      "Enter the langauage marks: 180\n",
      "Enter the Social marks: 120\n",
      "PASSED\n"
     ]
    }
   ],
   "source": [
    "scien_marks = int(input('Enter the Science marks: '))\n",
    "lang_marks =int(input('Enter the langauage marks: '))\n",
    "soci_marks = int(input('Enter the Social marks: '))\n",
    "\n",
    "if scien_marks >= 120:\n",
    "    if lang_marks >= 180:\n",
    "        if soci_marks >= 120:\n",
    "            print('PASSED')\n",
    "        else:\n",
    "            print('FAILED')\n",
    "    else:\n",
    "        print('FAILED')\n",
    "else:\n",
    "    print('FAILED')\n",
    "\n"
   ]
  },
  {
   "cell_type": "code",
   "execution_count": 24,
   "id": "df91fd7f",
   "metadata": {},
   "outputs": [
    {
     "name": "stdout",
     "output_type": "stream",
     "text": [
      "Enter a leap year: 2000\n",
      "Leap Year\n"
     ]
    }
   ],
   "source": [
    "leap_year = int(input('Enter a leap year: '))\n",
    "\n",
    "if ((leap_year%4 == 0) or ((leap_year%400 == 0) and (leap_year%100 != 0))):\n",
    "    print('Leap Year')\n",
    "else:\n",
    "    print('Not a Leap Year')"
   ]
  },
  {
   "cell_type": "code",
   "execution_count": 7,
   "id": "01f8fe03",
   "metadata": {},
   "outputs": [
    {
     "name": "stdout",
     "output_type": "stream",
     "text": [
      "Enter the number of calls: 290\n",
      "Total bill_amount is 291.0\n"
     ]
    }
   ],
   "source": [
    "# Write a program that prompts the user to input number of calls and \n",
    "# calculate the monthly telephone bills as per the following rule:\n",
    "# Minimum Rs. 200 for up to 100 calls.\n",
    "# Plus Rs. 0.60 per call for next 50 calls.\n",
    "# Plus Rs. 0.50 per call for next 50 calls.\n",
    "# Plus Rs. 0.40 per call for any call beyond 200 calls.\n",
    "\n",
    "no_of_calls = int(input('Enter the number of calls: '))\n",
    "\n",
    "\n",
    "if no_of_calls <=100:\n",
    "    print('Total bill amount is 200')\n",
    "elif no_of_calls >100 and no_of_calls<= 150:\n",
    "    print('Total bill amount is', 200 + ((no_of_calls -100)*0.60))\n",
    "elif no_of_calls >150 and no_of_calls <=200:\n",
    "    print('Total bill_amount is', 200 + (50*0.60) + ((no_of_calls-150)*0.50))\n",
    "else:\n",
    "    print('Total bill_amount is', 200 + (50*0.60) + (50*0.50) + ((no_of_calls-200)*0.40))\n",
    "    \n",
    "    "
   ]
  },
  {
   "cell_type": "code",
   "execution_count": 14,
   "id": "9d7c41b8",
   "metadata": {},
   "outputs": [
    {
     "name": "stdout",
     "output_type": "stream",
     "text": [
      "Enter a character: I\n",
      "The letter is a vowel\n"
     ]
    }
   ],
   "source": [
    "# Write a program that prompts the user to input a character and \n",
    "# determine the character is vowel or consonant.\n",
    "\n",
    "char = input('Enter a character: ')\n",
    "\n",
    "# if char in ['a','A','e','E','i','I','o','O','u','U']:\n",
    "#     print('The letter is a vowel')\n",
    "# else:\n",
    "#     print('The letter is a consonant')\n",
    "    \n",
    "\n",
    "if char in 'AEIOUaeiou':\n",
    "    print('The letter is a vowel')\n",
    "else:\n",
    "    print('The letter is a consonant')"
   ]
  },
  {
   "cell_type": "code",
   "execution_count": null,
   "id": "3dd33eca",
   "metadata": {},
   "outputs": [],
   "source": []
  },
  {
   "cell_type": "code",
   "execution_count": null,
   "id": "507c2de2",
   "metadata": {},
   "outputs": [],
   "source": []
  },
  {
   "cell_type": "code",
   "execution_count": null,
   "id": "4acb85bb",
   "metadata": {},
   "outputs": [],
   "source": []
  },
  {
   "cell_type": "code",
   "execution_count": null,
   "id": "e05be6f6",
   "metadata": {},
   "outputs": [],
   "source": []
  },
  {
   "cell_type": "code",
   "execution_count": null,
   "id": "74bcf5ad",
   "metadata": {},
   "outputs": [],
   "source": []
  },
  {
   "cell_type": "code",
   "execution_count": null,
   "id": "774776a8",
   "metadata": {},
   "outputs": [],
   "source": []
  }
 ],
 "metadata": {
  "kernelspec": {
   "display_name": "Python 3 (ipykernel)",
   "language": "python",
   "name": "python3"
  },
  "language_info": {
   "codemirror_mode": {
    "name": "ipython",
    "version": 3
   },
   "file_extension": ".py",
   "mimetype": "text/x-python",
   "name": "python",
   "nbconvert_exporter": "python",
   "pygments_lexer": "ipython3",
   "version": "3.9.12"
  }
 },
 "nbformat": 4,
 "nbformat_minor": 5
}
