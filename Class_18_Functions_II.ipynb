{
 "cells": [
  {
   "cell_type": "code",
   "execution_count": 9,
   "id": "9c520a1d",
   "metadata": {},
   "outputs": [
    {
     "data": {
      "text/plain": [
       "False"
      ]
     },
     "execution_count": 9,
     "metadata": {},
     "output_type": "execute_result"
    }
   ],
   "source": [
    "# Anonymous function - A function without any name\n",
    "\n",
    "# Syntax - lambda arg:exp\n",
    "\n",
    "# No need to write the return statement explicitly, The expr result will be evaluated and it will be returned as value\n",
    "\n",
    "(lambda num:True if num%2 ==0 else False)(5)\n",
    "\n"
   ]
  },
  {
   "cell_type": "code",
   "execution_count": 6,
   "id": "89fac7b2",
   "metadata": {},
   "outputs": [
    {
     "data": {
      "text/plain": [
       "[12, 14, 16, 18, 20]"
      ]
     },
     "execution_count": 6,
     "metadata": {},
     "output_type": "execute_result"
    }
   ],
   "source": [
    "lst = list(range(11,21))\n",
    "lst\n",
    "\n",
    "\n",
    "def even_odd(num):\n",
    "    return True if num% 2==0 else False\n",
    "    \n",
    "def my_filter(func, lst):\n",
    "    out_lst =[]\n",
    "    for num in lst:\n",
    "        if func(num) == True:\n",
    "            out_lst.append(num)\n",
    "    return out_lst\n",
    "\n",
    "my_filter(even_odd, lst)"
   ]
  },
  {
   "cell_type": "code",
   "execution_count": null,
   "id": "fc76d248",
   "metadata": {},
   "outputs": [],
   "source": [
    "# filter,map,reduce,sort"
   ]
  },
  {
   "cell_type": "code",
   "execution_count": 15,
   "id": "992f9b6f",
   "metadata": {},
   "outputs": [
    {
     "data": {
      "text/plain": [
       "[12, 14, 16, 18, 20]"
      ]
     },
     "execution_count": 15,
     "metadata": {},
     "output_type": "execute_result"
    }
   ],
   "source": [
    "# Filter\n",
    "\n",
    "# Syntax - filter(fun,seq) - filter object\n",
    "# filter object is an iterator object\n",
    "# it filters a sequence based on function\n",
    "\n",
    "lst = list(range(11,21))\n",
    "filter(lambda num:num%2 ==0, lst)\n",
    "list(filter(lambda num:num%2 ==0, lst))"
   ]
  },
  {
   "cell_type": "code",
   "execution_count": 17,
   "id": "1c015665",
   "metadata": {},
   "outputs": [
    {
     "data": {
      "text/plain": [
       "[121, 144, 169, 196, 225, 256, 289, 324, 361, 400]"
      ]
     },
     "execution_count": 17,
     "metadata": {},
     "output_type": "execute_result"
    }
   ],
   "source": [
    "# map\n",
    "\n",
    "# Syntax - map(fun,seq) - map object\n",
    "# It is used to map each element of a seq with another element\n",
    "\n",
    "lst = list(range(11,21))\n",
    "map(lambda num:num**2, lst)\n",
    "list(map(lambda num:num**2, lst))"
   ]
  },
  {
   "cell_type": "code",
   "execution_count": 43,
   "id": "11294745",
   "metadata": {},
   "outputs": [
    {
     "name": "stdout",
     "output_type": "stream",
     "text": [
      "['eric.lopez', 'eric.lund', 'eric.m.boehm', 'eric.mack', 'eric.mason', 'eric.mathews', 'eric.maynard', 'eric.mckinney', 'eric.meredith', 'eric.mintz']\n"
     ]
    }
   ],
   "source": [
    "email_list = ['eric.lopez@gmail.com',\n",
    "              'eric.lund@gmail.com',\n",
    "              'eric.m.boehm@gmail.com',\n",
    "              'eric.mack@gmail.com',\n",
    "              'eric.mason@gmail.com',\n",
    "              'eric.mathews@gmail.com',\n",
    "              'eric.maynard@gmail.com',\n",
    "              'eric.mckinney@gmail.com',\n",
    "              'eric.meredith@gmail.com',\n",
    "              'eric.mintz@gmail.com']\n",
    "\n",
    "# lst1 = list(filter(lambda x:len(x.split('@')[0])>9,email_list))\n",
    "# print(lst1)\n",
    "                     \n",
    "    \n",
    "lst1 = list(map(lambda x:x.split('@')[0],email_list))\n",
    "print(lst1)\n",
    "\n",
    "\n",
    "# lst1 = list(map(lambda x:x.split('@')[0],(filter(lambda x:len(x.split('@')[0])>9,email_list))))\n",
    "# print(lst1)"
   ]
  },
  {
   "cell_type": "code",
   "execution_count": 38,
   "id": "ca96f8b1",
   "metadata": {},
   "outputs": [
    {
     "data": {
      "text/plain": [
       "155"
      ]
     },
     "execution_count": 38,
     "metadata": {},
     "output_type": "execute_result"
    }
   ],
   "source": [
    "# Reduce - aggregate - sum,max,min\n",
    "# syntax - reduce(func,seq)\n",
    "#  It returns a single value\n",
    "\n",
    "lst = list(range(11,21))\n",
    "from functools import reduce\n",
    "reduce(lambda x,y:x+y,lst)"
   ]
  },
  {
   "cell_type": "code",
   "execution_count": 40,
   "id": "e03c651c",
   "metadata": {},
   "outputs": [
    {
     "name": "stdout",
     "output_type": "stream",
     "text": [
      "[1, 2, 3, 10, 22, 23, 34, 45, 56, 67, 76, 89, 98]\n"
     ]
    }
   ],
   "source": [
    "# sort\n",
    "\n",
    "lst =[56,98,34,89,76,22,1,23,45,67,2,3,10]\n",
    "lst.sort()\n",
    "print(lst)\n",
    "\n",
    "\n"
   ]
  },
  {
   "cell_type": "code",
   "execution_count": 42,
   "id": "806c25c6",
   "metadata": {},
   "outputs": [
    {
     "name": "stdout",
     "output_type": "stream",
     "text": [
      "[(109, 900), (102, 8000), (101, 10000), (104, 12000), (106, 45000), (103, 70000), (105, 100000)]\n"
     ]
    }
   ],
   "source": [
    "emp_lst =[(101, 10000), (102, 8000), (103, 70000), (109, 900), (104, 12000), (105, 100000), (106, 45000)]\n",
    "\n",
    "# sort the list inascending order of the salary\n",
    "emp_lst.sort(key = lambda tpl:tpl[1])\n",
    "print(emp_lst)\n"
   ]
  },
  {
   "cell_type": "code",
   "execution_count": 46,
   "id": "597b752e",
   "metadata": {},
   "outputs": [
    {
     "data": {
      "text/plain": [
       "[100, 144, 196, 256, 324]"
      ]
     },
     "execution_count": 46,
     "metadata": {},
     "output_type": "execute_result"
    }
   ],
   "source": [
    "\n",
    "lst = [10, 11, 12, 13, 14, 15, 16, 17, 18, 19]\n",
    "\n",
    "# lst1 = list(map(lambda x:x.split('@')[0],(filter(lambda x:len(x.split('@')[0])>9,email_list))))\n",
    "# print(lst1)\n",
    "\n",
    "list(map(lambda num :num**2, filter(lambda num:num%2 ==0, lst)))"
   ]
  },
  {
   "cell_type": "code",
   "execution_count": 67,
   "id": "affa72d1",
   "metadata": {},
   "outputs": [
    {
     "data": {
      "text/plain": [
       "['abhishek', 'krishna']"
      ]
     },
     "execution_count": 67,
     "metadata": {},
     "output_type": "execute_result"
    }
   ],
   "source": [
    "lst_email = ['abhishek@learnbay.co', 'neha@learnbay.co', 'krishna@learnbay.co',\n",
    "             'rahul@learnbay.co', 'dhrub@learnbay.co', 'Jitin@learnbay.co']\n",
    "\n",
    "list(map(lambda x:x[:x.index('@')], (filter(lambda x:len(x[:x.index('@')])> 5, lst_email))))"
   ]
  },
  {
   "cell_type": "code",
   "execution_count": 69,
   "id": "301ab563",
   "metadata": {},
   "outputs": [
    {
     "data": {
      "text/plain": [
       "['Abhishek', 'Krishna', 'Anil', 'Vivek']"
      ]
     },
     "execution_count": 69,
     "metadata": {},
     "output_type": "execute_result"
    }
   ],
   "source": [
    "cust_type = [('Abhishek', 'Subscriber'), ('Rahul', 'Customer'), ('Krishna', 'Subscriber'),\n",
    "             ('Anil', 'Subscriber'), ('Vivek', 'Subscriber'), ('Akhil', 'Customer')]\n",
    "\n",
    "list(map(lambda tpl:tpl[0],filter(lambda tpl:tpl[1] == 'Subscriber', cust_type)))"
   ]
  },
  {
   "cell_type": "code",
   "execution_count": null,
   "id": "61e302d4",
   "metadata": {},
   "outputs": [],
   "source": []
  }
 ],
 "metadata": {
  "kernelspec": {
   "display_name": "Python 3 (ipykernel)",
   "language": "python",
   "name": "python3"
  },
  "language_info": {
   "codemirror_mode": {
    "name": "ipython",
    "version": 3
   },
   "file_extension": ".py",
   "mimetype": "text/x-python",
   "name": "python",
   "nbconvert_exporter": "python",
   "pygments_lexer": "ipython3",
   "version": "3.9.12"
  }
 },
 "nbformat": 4,
 "nbformat_minor": 5
}
