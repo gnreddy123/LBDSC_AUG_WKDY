{
 "cells": [
  {
   "cell_type": "code",
   "execution_count": 1,
   "id": "835d053c",
   "metadata": {},
   "outputs": [
    {
     "name": "stdout",
     "output_type": "stream",
     "text": [
      "10\n",
      "10\n",
      "3.605551275463989\n"
     ]
    },
    {
     "data": {
      "text/plain": [
       "10.0"
      ]
     },
     "execution_count": 1,
     "metadata": {},
     "output_type": "execute_result"
    }
   ],
   "source": [
    "import math\n",
    "print(abs(10))\n",
    "print(abs(-10))\n",
    "print(abs(2+3j))\n",
    "math.sqrt(2**2 + 3**2)\n",
    "math.sqrt(100)"
   ]
  },
  {
   "cell_type": "code",
   "execution_count": null,
   "id": "ab9e08c2",
   "metadata": {},
   "outputs": [],
   "source": [
    "# Python Programming Components\n",
    "Literals\n",
    "Identifiers\n",
    "Reserved words\n",
    "Expression & Statemets\n",
    "Blocks and Indentation\n",
    "Comments\n",
    "Datatypes/object\n",
    "    1. Fundamental - int, float, complex, Boolean, String\n",
    "    2. Derived  - List, Tuple, Dictionary, Range, set, Frozenset, Bytes, bytearray\n",
    "Operators\n",
    "    1. Arithmetic - +, -, *, /(Float), //(Floor Division), %(Modulo), **(Exponent)\n",
    "    2. Comparison - <, >, <=, >=\n",
    "    3. Equality - ==, !=\n",
    "    4. Logical - and, or, not\n",
    "    5. Bitwise - &, |, ^, ~, <<, >>\n",
    "    6. Membership - in, not in\n",
    "    7. Identity - is, is not\n",
    "    8. Assignment - =\n",
    "    9. Compound Assignment - +=, -=, *=, /=, ??=, %=, **=, &=, |=, ^=, ~=, <<=, >>=\n",
    "    10. Ternary - expr1 if cond1 else expr2\n",
    "    11. Operator Precedence - "
   ]
  },
  {
   "cell_type": "code",
   "execution_count": null,
   "id": "87e8f2d3",
   "metadata": {},
   "outputs": [],
   "source": [
    "# Literal - Any value\n",
    "Integer - 10, -10, 0\n",
    "Float - 10.20, -10.20\n",
    "Complex - 10+20j\n",
    "None\n",
    "Boolean - True, False\n",
    "String - 'Python', \"Python\", '''Python''', \"\"\"Python\"\"\""
   ]
  },
  {
   "cell_type": "code",
   "execution_count": 2,
   "id": "941556a0",
   "metadata": {},
   "outputs": [
    {
     "name": "stdout",
     "output_type": "stream",
     "text": [
      "30.3\n"
     ]
    }
   ],
   "source": [
    "a = 10\n",
    "b = 20.30\n",
    "print(a+b)"
   ]
  },
  {
   "cell_type": "code",
   "execution_count": null,
   "id": "9aa369f4",
   "metadata": {},
   "outputs": [],
   "source": [
    "# Identifiers - Any name ued in a python program\n",
    "# Name of constants, variables, function, class, Objects etc.\n",
    "\n",
    "Rules:-\n",
    "    1. Allowed Characters - A-Z, a-z, 0-9, _\n",
    "    2. Not allowed Characters - Special Character\n",
    "    3. Identifiers can not start with a number\n",
    "    4. idnentifiers are case sesnsitive.\n",
    "\n",
    "# Recommendation\n",
    "    1. Do not use reserved words as your identifier.\n",
    "    2. If we are using constant in our program then we should use only capital case letters\n",
    "    3. To define the class name we should use pascalCaseNotation.\n",
    "    4. Avoid using any name which starts and ends with __.\n"
   ]
  },
  {
   "cell_type": "code",
   "execution_count": 3,
   "id": "4e92abaa",
   "metadata": {},
   "outputs": [
    {
     "name": "stdout",
     "output_type": "stream",
     "text": [
      "amount =  900\n",
      "900\n"
     ]
    }
   ],
   "source": [
    "num1 = 100\n",
    "# cash$ = 900\n",
    "# 1num = 900\n",
    "cash = '$900'\n",
    "print('amount = ', int(cash[1:]))\n",
    "_name = 900\n",
    "print(_name)\n"
   ]
  },
  {
   "cell_type": "code",
   "execution_count": null,
   "id": "2027674c",
   "metadata": {},
   "outputs": [],
   "source": [
    "emp_name = 'Krishna'\n",
    "PI = 3.14\n",
    "emp_email_lst = ['abc@gmail.com', 'xyz@yahoo.com', 'mno@hotmail.com']\n",
    "emp_pwd_lst = ['ABC@123', 'XYZ@987', 'MNO@654']\n",
    "def emp_sign_in():\n",
    "    emp_email = input('Enter your email address: ')\n",
    "    emp_pwd = input('Enter the password: ')\n",
    "    return True if ((emp_email in emp_email_lst) and (emp_pwd in emp_pwd_lst)) else False\n",
    "\n",
    "print(emp_sign_in())\n",
    "\n",
    "class empDetails:\n",
    "    def __init__(self, emp_name, emp_id, emp_sal):\n",
    "        self.e_name = emp_name\n",
    "        self.e_id = emp_id\n",
    "        self.e_sal = emp_sal\n",
    "        \n",
    "    def emp_info(self):\n",
    "        print('Employee Name is', self.e_name)\n",
    "        print('Employee ID is', self.e_id)\n",
    "        print('Employee Salary is', self.e_sal)\n",
    "        \n",
    "e1 = empDetails('Rahul', 101, 80000)\n",
    "e1.emp_info()\n",
    "\n",
    "Literals -> 'Krishna', 3.14, 'abc@gmail.com', 'xyz@yahoo.com', 'mno@hotmail.com', \n",
    "'ABC@123', 'XYZ@987', 'MNO@654', 'Enter your email address: ', 'Enter the password: ',\n",
    "True, False, 'Employee Name is', 'Employee ID is', 'Employee Salary is', 'Rahul', 101, 80000\n",
    "\n",
    "\n",
    "Names/Identifier - emp_name, PI, emp_email_lst, emp_pwd_lst, emp_sign_in, emp_email, emp_pwd, empDetails\n",
    "emp_name, emp_id, emp_sal, e_name, e_id, e_sal, emp_info, e1\n",
    "\n",
    "pascalCaseNotation - First letter of each word will be in capital case except first letter of first word\n",
    "CamelCaseNotation - First letter of each word will be in capital case\n"
   ]
  },
  {
   "cell_type": "code",
   "execution_count": 4,
   "id": "368174fb",
   "metadata": {},
   "outputs": [
    {
     "name": "stdout",
     "output_type": "stream",
     "text": [
      "['False', 'None', 'True', '__peg_parser__', 'and', 'as', 'assert', 'async', 'await', 'break', 'class', 'continue', 'def', 'del', 'elif', 'else', 'except', 'finally', 'for', 'from', 'global', 'if', 'import', 'in', 'is', 'lambda', 'nonlocal', 'not', 'or', 'pass', 'raise', 'return', 'try', 'while', 'with', 'yield']\n",
      "36\n"
     ]
    }
   ],
   "source": [
    "import keyword\n",
    "lst = keyword.kwlist\n",
    "print(lst, len(lst), sep = '\\n')\n",
    "\n",
    "# ['False', 'None', 'True', 'and', 'as', 'assert', 'async', 'await', 'break', 'class', \n",
    "#  'continue', 'def', 'del', 'elif', 'else', 'except', 'finally', 'for', 'from', 'global',\n",
    "#  'if', 'import', 'in', 'is', 'lambda', 'nonlocal', 'not', 'or', 'pass', 'raise', \n",
    "#  'return', 'try', 'while', 'with', 'yield']\n",
    "\n",
    "\n"
   ]
  },
  {
   "cell_type": "code",
   "execution_count": 7,
   "id": "7405f4e0",
   "metadata": {},
   "outputs": [
    {
     "name": "stdout",
     "output_type": "stream",
     "text": [
      "Enter your name: Krish\n",
      "Enter your id: 101\n",
      "Enter your salary: 50000\n",
      "('Krish', '101', '50000', 'Learnbay')\n"
     ]
    }
   ],
   "source": [
    "def emp_detail():\n",
    "    emp_name = input('Enter your name: ')\n",
    "    emp_id = input('Enter your id: ')\n",
    "    emp_sal = input('Enter your salary: ')\n",
    "    EMP_ORG = 'Learnbay'\n",
    "    return emp_name, emp_id, emp_sal, EMP_ORG\n",
    "print(emp_detail())\n",
    "#emp_detail()"
   ]
  },
  {
   "cell_type": "code",
   "execution_count": 8,
   "id": "eef7c80e",
   "metadata": {},
   "outputs": [
    {
     "name": "stdout",
     "output_type": "stream",
     "text": [
      "['__abs__', '__add__', '__and__', '__bool__', '__ceil__', '__class__', '__delattr__', '__dir__', '__divmod__', '__doc__', '__eq__', '__float__', '__floor__', '__floordiv__', '__format__', '__ge__', '__getattribute__', '__getnewargs__', '__gt__', '__hash__', '__index__', '__init__', '__init_subclass__', '__int__', '__invert__', '__le__', '__lshift__', '__lt__', '__mod__', '__mul__', '__ne__', '__neg__', '__new__', '__or__', '__pos__', '__pow__', '__radd__', '__rand__', '__rdivmod__', '__reduce__', '__reduce_ex__', '__repr__', '__rfloordiv__', '__rlshift__', '__rmod__', '__rmul__', '__ror__', '__round__', '__rpow__', '__rrshift__', '__rshift__', '__rsub__', '__rtruediv__', '__rxor__', '__setattr__', '__sizeof__', '__str__', '__sub__', '__subclasshook__', '__truediv__', '__trunc__', '__xor__', 'as_integer_ratio', 'bit_length', 'conjugate', 'denominator', 'from_bytes', 'imag', 'numerator', 'real', 'to_bytes']\n"
     ]
    }
   ],
   "source": [
    "print(dir(int))"
   ]
  },
  {
   "cell_type": "code",
   "execution_count": 9,
   "id": "af345cf2",
   "metadata": {},
   "outputs": [
    {
     "name": "stdout",
     "output_type": "stream",
     "text": [
      "['__abs__', '__add__', '__bool__', '__ceil__', '__class__', '__delattr__', '__dir__', '__divmod__', '__doc__', '__eq__', '__float__', '__floor__', '__floordiv__', '__format__', '__ge__', '__getattribute__', '__getformat__', '__getnewargs__', '__gt__', '__hash__', '__init__', '__init_subclass__', '__int__', '__le__', '__lt__', '__mod__', '__mul__', '__ne__', '__neg__', '__new__', '__pos__', '__pow__', '__radd__', '__rdivmod__', '__reduce__', '__reduce_ex__', '__repr__', '__rfloordiv__', '__rmod__', '__rmul__', '__round__', '__rpow__', '__rsub__', '__rtruediv__', '__setattr__', '__setformat__', '__sizeof__', '__str__', '__sub__', '__subclasshook__', '__truediv__', '__trunc__', 'as_integer_ratio', 'conjugate', 'fromhex', 'hex', 'imag', 'is_integer', 'real']\n"
     ]
    }
   ],
   "source": [
    "print(dir(float))"
   ]
  },
  {
   "cell_type": "code",
   "execution_count": 10,
   "id": "c1eb90dc",
   "metadata": {},
   "outputs": [
    {
     "name": "stdout",
     "output_type": "stream",
     "text": [
      "['__add__', '__class__', '__contains__', '__delattr__', '__dir__', '__doc__', '__eq__', '__format__', '__ge__', '__getattribute__', '__getitem__', '__getnewargs__', '__gt__', '__hash__', '__init__', '__init_subclass__', '__iter__', '__le__', '__len__', '__lt__', '__mod__', '__mul__', '__ne__', '__new__', '__reduce__', '__reduce_ex__', '__repr__', '__rmod__', '__rmul__', '__setattr__', '__sizeof__', '__str__', '__subclasshook__', 'capitalize', 'casefold', 'center', 'count', 'encode', 'endswith', 'expandtabs', 'find', 'format', 'format_map', 'index', 'isalnum', 'isalpha', 'isascii', 'isdecimal', 'isdigit', 'isidentifier', 'islower', 'isnumeric', 'isprintable', 'isspace', 'istitle', 'isupper', 'join', 'ljust', 'lower', 'lstrip', 'maketrans', 'partition', 'removeprefix', 'removesuffix', 'replace', 'rfind', 'rindex', 'rjust', 'rpartition', 'rsplit', 'rstrip', 'split', 'splitlines', 'startswith', 'strip', 'swapcase', 'title', 'translate', 'upper', 'zfill']\n"
     ]
    }
   ],
   "source": [
    "print(dir(str))"
   ]
  },
  {
   "cell_type": "code",
   "execution_count": 11,
   "id": "8181c6e4",
   "metadata": {},
   "outputs": [
    {
     "name": "stdout",
     "output_type": "stream",
     "text": [
      "['__add__', '__class__', '__class_getitem__', '__contains__', '__delattr__', '__delitem__', '__dir__', '__doc__', '__eq__', '__format__', '__ge__', '__getattribute__', '__getitem__', '__gt__', '__hash__', '__iadd__', '__imul__', '__init__', '__init_subclass__', '__iter__', '__le__', '__len__', '__lt__', '__mul__', '__ne__', '__new__', '__reduce__', '__reduce_ex__', '__repr__', '__reversed__', '__rmul__', '__setattr__', '__setitem__', '__sizeof__', '__str__', '__subclasshook__', 'append', 'clear', 'copy', 'count', 'extend', 'index', 'insert', 'pop', 'remove', 'reverse', 'sort']\n"
     ]
    }
   ],
   "source": [
    "print(dir(list))"
   ]
  },
  {
   "cell_type": "code",
   "execution_count": 12,
   "id": "3dd2e74a",
   "metadata": {},
   "outputs": [],
   "source": [
    "def dir():\n",
    "    print('Hello')"
   ]
  },
  {
   "cell_type": "code",
   "execution_count": 13,
   "id": "e083a6a3",
   "metadata": {},
   "outputs": [
    {
     "name": "stdout",
     "output_type": "stream",
     "text": [
      "Hello\n"
     ]
    }
   ],
   "source": [
    "dir()"
   ]
  },
  {
   "cell_type": "code",
   "execution_count": 14,
   "id": "c97e45f3",
   "metadata": {},
   "outputs": [
    {
     "name": "stdout",
     "output_type": "stream",
     "text": [
      "__main__\n"
     ]
    }
   ],
   "source": [
    "print(__name__)"
   ]
  },
  {
   "cell_type": "code",
   "execution_count": 15,
   "id": "16cb74a3",
   "metadata": {},
   "outputs": [
    {
     "name": "stdout",
     "output_type": "stream",
     "text": [
      "100\n"
     ]
    }
   ],
   "source": [
    "__name__ = 100\n",
    "print(__name__)"
   ]
  },
  {
   "cell_type": "code",
   "execution_count": 16,
   "id": "a5213aa3",
   "metadata": {},
   "outputs": [],
   "source": [
    "class list:\n",
    "    def __dir__(self, lst):\n",
    "        print('Hello')"
   ]
  },
  {
   "cell_type": "code",
   "execution_count": 17,
   "id": "ce2abdcb",
   "metadata": {},
   "outputs": [
    {
     "name": "stdout",
     "output_type": "stream",
     "text": [
      "Hello\n"
     ]
    }
   ],
   "source": [
    "list().__dir__([])"
   ]
  },
  {
   "cell_type": "code",
   "execution_count": 18,
   "id": "fde0ea93",
   "metadata": {},
   "outputs": [
    {
     "name": "stdout",
     "output_type": "stream",
     "text": [
      "['__repr__', '__hash__', '__getattribute__', '__lt__', '__le__', '__eq__', '__ne__', '__gt__', '__ge__', '__iter__', '__init__', '__len__', '__getitem__', '__setitem__', '__delitem__', '__add__', '__mul__', '__rmul__', '__contains__', '__iadd__', '__imul__', '__new__', '__reversed__', '__sizeof__', 'clear', 'copy', 'append', 'insert', 'extend', 'pop', 'remove', 'index', 'count', 'reverse', 'sort', '__class_getitem__', '__doc__', '__str__', '__setattr__', '__delattr__', '__reduce_ex__', '__reduce__', '__subclasshook__', '__init_subclass__', '__format__', '__dir__', '__class__']\n"
     ]
    }
   ],
   "source": [
    "print([].__dir__())"
   ]
  },
  {
   "cell_type": "code",
   "execution_count": 19,
   "id": "d5ac6778",
   "metadata": {},
   "outputs": [
    {
     "name": "stdout",
     "output_type": "stream",
     "text": [
      "10 <class 'int'>\n",
      "10.2 <class 'float'>\n"
     ]
    }
   ],
   "source": [
    "a = 10\n",
    "print(a, type(a))\n",
    "a = 10.20\n",
    "print(a, type(a))"
   ]
  },
  {
   "cell_type": "code",
   "execution_count": 20,
   "id": "c75ede61",
   "metadata": {},
   "outputs": [
    {
     "name": "stdout",
     "output_type": "stream",
     "text": [
      "100\n"
     ]
    }
   ],
   "source": [
    "__repr__ = 100\n",
    "print(__repr__)"
   ]
  },
  {
   "cell_type": "code",
   "execution_count": null,
   "id": "942adc36",
   "metadata": {},
   "outputs": [],
   "source": [
    "# Expression - A combination of literals, values, identifiers, operators, and operands \n",
    "# which are combined together and gives result on evaluation\n",
    "# A literal is a simplest expression\n",
    "\n",
    "\n",
    "# print(10+20)\n",
    "# print(10)\n",
    "# print('hello')\n",
    "# print('Hello' + 'Python')\n",
    "\n",
    "a = 10\n",
    "a\n",
    "\n",
    "\n",
    "# & Statemets\n",
    "# A combination of literals, values, identifiers, operators, and operands \n",
    "# which are combined together and does not give any result on evaluation\n",
    "# a = 10\n",
    "# print(if 10<20:\n",
    "#     pass)\n",
    "\n",
    "# print(def my_fun():\n",
    "#     pass)\n",
    "\n",
    "\n"
   ]
  },
  {
   "cell_type": "code",
   "execution_count": null,
   "id": "e22d4063",
   "metadata": {},
   "outputs": [],
   "source": [
    "# Blocks and Indentation\n",
    "# if, elif, else, for, while, with, def, class, try, except, else, finally\n",
    "    "
   ]
  },
  {
   "cell_type": "code",
   "execution_count": null,
   "id": "640e1ac3",
   "metadata": {},
   "outputs": [],
   "source": [
    "# Comments\n",
    "# 1. To avoid un-neccessary piece of code in program.\n",
    "# 2. To write the proper documented code.\n",
    "\n",
    "\"\"\"a = 10\n",
    "b = 20\n",
    "'''d = 100\n",
    "c =a+b\n",
    "e = 900'''\n",
    "print(c)\n",
    "print(a)\n",
    "print(b)\n",
    "print(d)\"\"\""
   ]
  },
  {
   "cell_type": "code",
   "execution_count": null,
   "id": "a6f6f612",
   "metadata": {},
   "outputs": [],
   "source": [
    "# Data Types in Python\n",
    "# Fundamental - int, float, complex, boolean, string\n",
    "\n",
    "# Integers\n",
    "# any value without a decimal point\n",
    "# 10, -10, 0\n",
    "# a = 10\n",
    "# print(a, type(a))\n",
    "# a = -10\n",
    "# print(a, type(a))\n",
    "# a = 0\n",
    "# print(a, type(a))\n",
    "\n",
    "# Representation of integers\n",
    "# Decimal Format - 0-9, No prefix, 90, 999, 987, 1000, 985, 456\n",
    "# Binary Format - 0, 1, 0b, bin(x) where x can be a binarym octal, hexadecimal or int\n",
    "#     0b10101, 0b1010, 0b110011\n",
    "# Octal Format - 0-7, 0o, oct(x) where x can be a binarym octal, hexadecimal or int\n",
    "#     0o7654, 0o34567, 0o9876\n",
    "# Hexadecimal Format - 0-9 & a/A-f/F, 0x, hex(x) where x can be a binarym octal, hexadecimal or int\n",
    "#     0xfc98, 0X89ab\n",
    "# 0-9\n",
    "# a/A - 10\n",
    "# b/B - 11\n",
    "# c/C - 12\n",
    "# d/D - 13\n",
    "# e/E - 14\n",
    "# f/F - 15\n",
    "\n",
    "\n",
    "# Note Only Integers can be represented in Binary, Octal and Hexadecimal formats.\n",
    "\n"
   ]
  },
  {
   "cell_type": "code",
   "execution_count": null,
   "id": "5b7a551c",
   "metadata": {},
   "outputs": [],
   "source": [
    "# 0b10101\n",
    "# 0b1010\n",
    "# 0b110011\n",
    "# print(bin(21))\n",
    "# print(bin(10))\n",
    "# print(bin(51))\n",
    "\n",
    "# 0b10101 + 89\n",
    "# print(bin(21) + 89)\n",
    "# print(bin(21), type(bin(21)))\n",
    "# int(0b10101)\n",
    "\n",
    "# 0o9876\n",
    "# # 0o34567\n",
    "# oct(14711)\n",
    "\n",
    "# 0xfc98\n",
    "# 0X89ab\n",
    "\n",
    "#a = int(input('Enter a number: '))\n",
    "\n"
   ]
  },
  {
   "cell_type": "code",
   "execution_count": null,
   "id": "1641ec63",
   "metadata": {},
   "outputs": [],
   "source": [
    "# 0b11\n",
    "\n",
    "# 0011\n",
    "# 2^3 2^2 2^1 2^0\n",
    "# 0*8 + 0*4 + 1*2 + 1+1"
   ]
  },
  {
   "cell_type": "code",
   "execution_count": null,
   "id": "e29b9623",
   "metadata": {},
   "outputs": [],
   "source": [
    "# Float - Any number with a decimal point is called the float value\n",
    "# 10.20, -10.20, 0.0001\n",
    "# Float values can be represented in decimal format only."
   ]
  },
  {
   "cell_type": "code",
   "execution_count": null,
   "id": "a78305a7",
   "metadata": {},
   "outputs": [],
   "source": [
    "# Complex - Any number in a+bj format\n",
    "# where a is real part\n",
    "# b is imaginary part\n",
    "# and j is imaginary value which is equat to square root of (-1).\n",
    "# a = 10.9+20.8j\n",
    "# print('Complex Number:', a)\n",
    "# print('Real Part: ', int(a.real))\n",
    "# print('Imaginary Part: ', a.imag)\n",
    "# print(abs(a))\n",
    "\n",
    "# Float values can be represented in decimal format only.\n",
    "\n",
    "\n"
   ]
  },
  {
   "cell_type": "code",
   "execution_count": null,
   "id": "4bed2159",
   "metadata": {},
   "outputs": [],
   "source": [
    "# Operators\n",
    "#     1. Arithmetic - +, -, *, /(Float), //(Floor Division), %(Modulo), **(Exponent)\n",
    "#     2. Comparison - <, >, <=, >=\n",
    "#     3. Equality - ==, !=\n",
    "#     4. Logical - and, or, not\n",
    "#     5. Bitwise - &, |, ^, ~, <<, >>\n",
    "#     6. Membership - in, not in\n",
    "#     7. Identity - is, is not\n",
    "#     8. Assignment - =\n",
    "#     9. Compound Assignment - +=, -=, *=, /=, ??=, %=, **=, &=, |=, ^=, ~=, <<=, >>=\n",
    "#     10. Ternary - expr1 if cond1 else expr2\n",
    "#     11. Operator Precedence - "
   ]
  },
  {
   "cell_type": "code",
   "execution_count": null,
   "id": "c97dc136",
   "metadata": {},
   "outputs": [],
   "source": [
    "# 1. Arithmetic - +, -, *, /(Float), //(Floor Division), %(Modulo), **(Exponent)\n",
    "\n",
    "a = 10\n",
    "b = 3\n",
    "# print(a+b)\n",
    "# print(b-a)\n",
    "# print(a*b)\n",
    "# print(a/b)          # Float Division - returns Float value\n",
    "# print(a//b)         # Floor Division - returns Floor value of float division\n",
    "# print(a%b)          # Modulo Operator - returns remainder\n",
    "# print(a**b)         # Exponent Operator - raise the power of a to the power b if a**B\n",
    "\n",
    "# Ceil - 11   - Highest nearest whole number\n",
    "# num = 10.3\n",
    "# floor - 10  - Lowest nearest whole number\n",
    "\n",
    "\n",
    "# print(100/9)\n",
    "# print(100//9)\n",
    "\n",
    "\n",
    "import math\n",
    "# print(dir(math))\n",
    "print(math.floor(10.13))\n",
    "print(math.ceil(10.13))\n",
    "\n",
    "\n"
   ]
  },
  {
   "cell_type": "code",
   "execution_count": null,
   "id": "39c88b3f",
   "metadata": {},
   "outputs": [],
   "source": [
    "# 2. Comparison - <, >, <=, >=\n",
    "# Used to compare the values\n",
    "# These operators returns Boolean values - True and False\n",
    "# We do not use the comparison operators with different data types except int and float\n",
    "\n",
    "a = 10\n",
    "b = 10.20\n",
    "c = 10+20j\n",
    "print(a<b)\n",
    "# print(a<c)\n",
    "# print(b<c)\n",
    "# print(a<'A')\n",
    "\n",
    "# print('abc'<'Abc')\n",
    "# print('Ab'<'aB')\n",
    "# print('Ab'<='aB')\n",
    "\n",
    "# print(ord('A'))\n",
    "# print(ord('='))\n",
    "# print(ord('a'))\n",
    "# print(ord('B'))\n",
    "\n",
    "# print(chr(97))\n",
    "# print(chr(61))\n",
    "# print(chr(65))\n",
    "\n",
    "# print('A'<=65)\n",
    "\n",
    "print(ord('A')<=65)\n",
    "\n",
    "\n",
    "\n",
    "\n",
    "\n"
   ]
  },
  {
   "cell_type": "code",
   "execution_count": null,
   "id": "9dd25b12",
   "metadata": {},
   "outputs": [],
   "source": []
  },
  {
   "cell_type": "code",
   "execution_count": null,
   "id": "766336ab",
   "metadata": {},
   "outputs": [],
   "source": []
  },
  {
   "cell_type": "code",
   "execution_count": null,
   "id": "d9c8f731",
   "metadata": {},
   "outputs": [],
   "source": []
  },
  {
   "cell_type": "code",
   "execution_count": null,
   "id": "d9c19c83",
   "metadata": {},
   "outputs": [],
   "source": []
  },
  {
   "cell_type": "code",
   "execution_count": null,
   "id": "1d2a958e",
   "metadata": {},
   "outputs": [],
   "source": []
  }
 ],
 "metadata": {
  "kernelspec": {
   "display_name": "Python 3 (ipykernel)",
   "language": "python",
   "name": "python3"
  },
  "language_info": {
   "codemirror_mode": {
    "name": "ipython",
    "version": 3
   },
   "file_extension": ".py",
   "mimetype": "text/x-python",
   "name": "python",
   "nbconvert_exporter": "python",
   "pygments_lexer": "ipython3",
   "version": "3.9.12"
  }
 },
 "nbformat": 4,
 "nbformat_minor": 5
}
