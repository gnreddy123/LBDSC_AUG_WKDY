{
 "cells": [
  {
   "cell_type": "code",
   "execution_count": 4,
   "id": "bb591e36",
   "metadata": {},
   "outputs": [
    {
     "ename": "TypeError",
     "evalue": "'<' not supported between instances of 'complex' and 'complex'",
     "output_type": "error",
     "traceback": [
      "\u001b[1;31m---------------------------------------------------------------------------\u001b[0m",
      "\u001b[1;31mTypeError\u001b[0m                                 Traceback (most recent call last)",
      "Input \u001b[1;32mIn [4]\u001b[0m, in \u001b[0;36m<cell line: 5>\u001b[1;34m()\u001b[0m\n\u001b[0;32m      1\u001b[0m \u001b[38;5;66;03m#Comparison Operator - <, <=, >, >=\u001b[39;00m\n\u001b[0;32m      2\u001b[0m \n\u001b[0;32m      3\u001b[0m \u001b[38;5;66;03m# print('A' <=75)\u001b[39;00m\n\u001b[0;32m      4\u001b[0m \u001b[38;5;66;03m# print(90 > 99)\u001b[39;00m\n\u001b[1;32m----> 5\u001b[0m \u001b[38;5;28mprint\u001b[39m(\u001b[38;5;241;43m10\u001b[39;49m\u001b[38;5;241;43m+\u001b[39;49m\u001b[38;5;241;43m20\u001b[39;49m\u001b[43mj\u001b[49m\u001b[38;5;241;43m<\u001b[39;49m\u001b[38;5;241;43m30\u001b[39;49m\u001b[38;5;241;43m+\u001b[39;49m\u001b[38;5;241;43m30\u001b[39;49m\u001b[43mj\u001b[49m)\n",
      "\u001b[1;31mTypeError\u001b[0m: '<' not supported between instances of 'complex' and 'complex'"
     ]
    }
   ],
   "source": [
    "#Comparison Operator - <, <=, >, >=\n",
    "\n",
    "# print('A' <=75)\n",
    "# print(90 > 99)\n",
    "print(10+20j<30+30j)"
   ]
  },
  {
   "cell_type": "code",
   "execution_count": null,
   "id": "eddf5988",
   "metadata": {},
   "outputs": [],
   "source": [
    "# Equality Operator - ==, !=\n",
    "# Returns Boolean Values\n",
    "# Works difefrent data type(str, int, list)\n",
    "# Values should be same and type also should be same - True else False\n",
    "\n",
    "print(10 == 10)\n",
    "print(10 == 10.00000)\n",
    "print(10 == '10')"
   ]
  },
  {
   "cell_type": "code",
   "execution_count": null,
   "id": "576fd06b",
   "metadata": {},
   "outputs": [],
   "source": [
    "# Logical Operator - and, or, not\n",
    "# These operator works with logic and logic is always evaluated as True or False\n",
    "\n",
    "# and Truth Table - False\n",
    "# True and True = True\n",
    "# True and False = False\n",
    "# False and True = False\n",
    "# False and False = False\n",
    "\n",
    "# or Truth Table - True\n",
    "# True or True = True\n",
    "# True or False = True\n",
    "# False or True = True\n",
    "# False or False = False\n",
    "\n",
    "\n",
    "\n",
    "# not  Result will always be boolean\n",
    "# not True = False\n",
    "# not False = True\n",
    "\n",
    "\n",
    "# print(10 and 0)\n",
    "# print(10 and 20)\n",
    "# print(0.0 and 0)\n",
    "\n",
    "# print(10 or 20)\n",
    "# print(0 or 10)\n",
    "# print(0.0 or 0)\n",
    "\n",
    "\n",
    "# print(not True)\n",
    "# print(not False)\n",
    "\n",
    "# print(not 10)\n",
    "\n",
    "year = int(input('Enter an Year: '))\n",
    "if ((year%400==0) or ((year%4==0) and (year%100!=0))):\n",
    "    print('Leap Year')\n",
    "else:\n",
    "    print('Not a leap Year')\n",
    "\n",
    "\n",
    "year = 1600 => True or (True and False) => True or False => True => 'Leap Year'\n",
    "Year => 1800 => False or (True and False) => False or False => False => 'Not a leap Year'\n",
    "\n",
    "\n"
   ]
  },
  {
   "cell_type": "code",
   "execution_count": null,
   "id": "3734b623",
   "metadata": {},
   "outputs": [],
   "source": [
    "# Boolean Data Type - True, False\n",
    "# Boolean - Numerical value\n",
    "# True    - 1\n",
    "# False   - 0\n",
    "\n",
    "# Numerical Value - Boolean\n",
    "0                 - False\n",
    "0.0               - False\n",
    "0+0j              - False\n",
    "None              - False\n",
    "''                - False\n",
    "[]                - False\n",
    "()                - False\n",
    "{}                - False\n",
    "set()             - False\n",
    "frozenset()       - False\n",
    "bytes()           - False\n",
    "bytearray()       - False"
   ]
  },
  {
   "cell_type": "code",
   "execution_count": null,
   "id": "6f1712e8",
   "metadata": {},
   "outputs": [],
   "source": [
    "# print(1+1)\n",
    "# print(True + True)\n",
    "# print(11 + True)\n",
    "\n",
    "# print(2*0)\n",
    "# print(10 * False)\n",
    "\n",
    "# To find the value is either False or True - bool()\n",
    "print(bool(0))\n",
    "print(bool(0.0))\n",
    "print(bool(0.000000001))\n",
    "print(bool(0+0j))\n",
    "print(bool(0+0.00001j))\n",
    "print(bool(''))\n",
    "print(bool(' '))\n",
    "print(bool([]))\n",
    "print(bool(None))\n",
    "print(bool([None]))"
   ]
  },
  {
   "cell_type": "code",
   "execution_count": null,
   "id": "c7fba1ea",
   "metadata": {},
   "outputs": [],
   "source": [
    "# Bitwise Operator - 0 & 1 - Binary value, Bits - &, |, ^, ~, <<, >>\n",
    "# Works only on bits, that's why we say it is bitwise operator\n",
    "# Works only with bits/binary\n",
    "# works only with integer values\n",
    "\n",
    "# Convert the numbers to binary format\n",
    "# Do the operation bit by bit\n",
    "# Get the binary result and convert it to decimal format\n",
    "\n",
    "# print(57 ^ 39)\n",
    "\n",
    "# print(bin(39))\n",
    "\n",
    "# Bitwise & operation -\n",
    "# 1 & 1 = 1\n",
    "# 0 & 1 = 0\n",
    "# 1 & 0 = 0\n",
    "# 0 & 0 = 0\n",
    "\n",
    "# Bitwise | operation -\n",
    "# 1 | 1 = 1\n",
    "# 0 | 1 = 1\n",
    "# 1 | 0 = 1\n",
    "# 0 | 0 = 0\n",
    "\n",
    "# Bitwise ^ Operation - Opposite bits gives 1 and similar bits gives 0\n",
    "# 1 | 1 = 0\n",
    "# 0 | 1 = 1\n",
    "# 1 | 0 = 1\n",
    "# 0 | 0 = 0\n",
    "\n",
    "# 57 = 111001\n",
    "# 39 = 100111\n",
    "# ------------\n",
    "# & =  100001\n",
    "# | =  111111\n",
    "# ^ =  011110\n",
    "\n",
    "\n",
    "\n",
    "\n",
    "# print(0b100001)\n",
    "\n",
    "# print(120 & 39)\n",
    "# print(0b111111)\n",
    "# print(0b11110)\n",
    "\n",
    "\n",
    "# Bitwise Negation - ~ -> Unary Operator(Works with only one operand)\n",
    "# ~num = -(num+1)\n",
    "# print(~10)\n",
    "# print(~-9)\n",
    "# print(~True)\n",
    "\n",
    "# << -> Left shift  \n",
    "# num << no of bits  => (num * 2** no of bits)\n",
    "# print(97 << 6)\n",
    "\n",
    "\n",
    "# print(bin(97))\n",
    "\n",
    "# 37 => 00000000000000000000000000100101\n",
    "\n",
    "# Step 1 - Convert the number to binary format\n",
    "# 97 => 00000000000000000000000001100001\n",
    "\n",
    "# Step 2 => remove specified no of bits from left side\n",
    "# 97 => 00000000000000000001100001\n",
    "\n",
    "# Step 3 => Add specified no of bits(0) on right side\n",
    "# 97 => 00000000000000000001100001000000\n",
    "\n",
    "# Step 4 find the decimal equivalent\n",
    "# print(0b1100001000000)\n",
    "\n",
    "\n",
    "# print(197 << 8)\n",
    "\n",
    "# print(bin(197))\n",
    "\n",
    "# 197 => 00000000000000001100010100000000\n",
    "# print(0b1100010100000000)\n",
    "\n",
    "# (num * 2** no of bits)\n",
    "# print(197 * 2**8)\n",
    "\n",
    "\n",
    "# >> -> Right shift  \n",
    "# num >> no of bits  => (num // 2** no of bits)\n",
    "# print(97 >> 6)\n",
    "\n",
    "\n",
    "# print(bin(97))\n",
    "\n",
    "# Step 1 - Convert the number to binary format\n",
    "# 97 => 00000000000000000000000001100001\n",
    "\n",
    "# Step 2 => remove specified no of bits from right side\n",
    "# 97 => 00000000000000000000000001\n",
    "\n",
    "# Step 3 => Add specified no of bits(0) on left side\n",
    "# 97 => 00000000000000000000000000000001\n",
    "\n",
    "# Step 4 find the decimal equivalent\n",
    "# print(0b1)\n",
    "\n",
    "\n",
    "print(197 >> 8)\n",
    "\n",
    "# print(bin(197))\n",
    "\n",
    "# 197 => 000000000000000000000000\n",
    "# print(0b0)\n",
    "\n",
    "# (num // 2** no of bits)\n",
    "print(197 // 2**8)"
   ]
  },
  {
   "cell_type": "code",
   "execution_count": 5,
   "id": "3885f44e",
   "metadata": {},
   "outputs": [
    {
     "name": "stdout",
     "output_type": "stream",
     "text": [
      "32\n"
     ]
    }
   ],
   "source": [
    "print(120 & 39)"
   ]
  },
  {
   "cell_type": "code",
   "execution_count": 8,
   "id": "f165c524",
   "metadata": {},
   "outputs": [
    {
     "name": "stdout",
     "output_type": "stream",
     "text": [
      "0b1111000\n",
      "0b100111\n",
      "32\n"
     ]
    }
   ],
   "source": [
    "print(bin(120))\n",
    "print(bin(39))\n",
    "1111000\n",
    "0100111\n",
    "\n",
    "0100000\n",
    "print(0b100000)"
   ]
  },
  {
   "cell_type": "code",
   "execution_count": 13,
   "id": "a84c288e",
   "metadata": {},
   "outputs": [
    {
     "name": "stdout",
     "output_type": "stream",
     "text": [
      "63\n",
      "0b100101\n",
      "0b111011\n",
      "63\n",
      "30\n"
     ]
    }
   ],
   "source": [
    "print(37|59)\n",
    "print(bin(37))\n",
    "print(bin(59))\n",
    "print(0b111111)\n",
    "print(0b011110)\n",
    "\n",
    "# 0b100101\n",
    "# 0b111011\n",
    "#   111111"
   ]
  },
  {
   "cell_type": "code",
   "execution_count": 16,
   "id": "51fdc182",
   "metadata": {},
   "outputs": [
    {
     "name": "stdout",
     "output_type": "stream",
     "text": [
      "50432\n",
      "0b11000101\n",
      "50432\n"
     ]
    }
   ],
   "source": [
    "print(197 << 8)\n",
    "print(bin(197))\n",
    "# 00000000000000001100010100000000\n",
    "print(0b1100010100000000)"
   ]
  },
  {
   "cell_type": "code",
   "execution_count": null,
   "id": "a18e14e1",
   "metadata": {},
   "outputs": [],
   "source": [
    "# Membership - in, not in\n",
    "# Used with container types - string, list, tuple, set, frozenset, dictionary\n",
    "# Always returns Boolean values\n",
    "\n",
    "# my_str = 'This is Python class 6.9'\n",
    "# print('T' in my_str)\n",
    "# print('T' not in my_str)\n",
    "# print('thon' in my_str)\n",
    "# print('thon' not in my_str)\n",
    "# print('Pn' in my_str)\n",
    "# print('Pn' not in my_str)\n",
    "\n",
    "my_lst = [19, 19.20, 10+20j, 'Python', None, True, (1, 2, 3)]\n",
    "# print('Python' in my_lst)\n",
    "# print(None in my_lst)\n",
    "print(1 in my_lst)\n",
    "print((1,2, 3) in my_lst)\n",
    "\n",
    "# print(1 in my_lst[6])\n",
    "# print(1 in my_lst[-1])\n",
    "# print(my_lst)\n",
    "# print(my_lst[6])\n",
    "# print(my_lst[-1])\n",
    "\n",
    "print(my_lst)\n",
    "\n",
    "\n",
    "\n"
   ]
  },
  {
   "cell_type": "code",
   "execution_count": null,
   "id": "bad41e77",
   "metadata": {},
   "outputs": [],
   "source": [
    "# -7    -6      -5      -4       -3    -2      -1\n",
    "# [19, 19.20, 10+20j, 'Python', None, True, (1, 2, 3)]\n",
    "#  0    1       2         3       4    5       6\n",
    "\n",
    "my_lst = [19, 19.20, 10+20j, 'Python', None, True, (1, 2, 3)]\n",
    "# print(my_lst.index((1, 2, 3)))\n",
    "# for i in my_lst:\n",
    "#     if type(i) == tuple:\n",
    "#         print(i)\n",
    "\n",
    "    "
   ]
  },
  {
   "cell_type": "code",
   "execution_count": 18,
   "id": "f36c4817",
   "metadata": {},
   "outputs": [
    {
     "name": "stdout",
     "output_type": "stream",
     "text": [
      "(1, 2, 3)\n"
     ]
    }
   ],
   "source": [
    "my_lst = [19, 19.20, 10+20j, 'Python', None, True, (1, 2, 3)]\n",
    "# print(my_lst.index((1, 2, 3)))\n",
    "for i in my_lst:\n",
    "    if i == (1,2,3):\n",
    "        print(i)"
   ]
  },
  {
   "cell_type": "code",
   "execution_count": null,
   "id": "7ac19135",
   "metadata": {},
   "outputs": [],
   "source": [
    "# Identity Operator - is, is not\n",
    "# Boolean Value\n",
    "# is operator returns True if both the values are having same memory address else returns False\n",
    "# is not operator returns True if both the values are not having same memory address else returns False\n",
    "\n",
    "# a = 10\n",
    "# b = 10\n",
    "# print(id(a))\n",
    "# print(id(b))\n",
    "# print(a == b)  # Does not compare the memroy address\n",
    "# print(a is b)  # Compares the memory address\n",
    "\n",
    "\n",
    "# a = 1000\n",
    "# b = 1000\n",
    "# print(id(a))\n",
    "# print(id(b))\n",
    "# print(a == b)  # Does not compare the memroy address\n",
    "# print(a is b)  # Compares the memory address\n",
    "\n",
    "# a = 'Python'\n",
    "# b = 'Python'\n",
    "# print(id(a))\n",
    "# print(id(b))\n",
    "# print(a == b)  # Does not compare the memroy address\n",
    "# print(a is b)  # Compares the memory address\n",
    "\n",
    "# a = 'Python$'\n",
    "# b = 'Python$'\n",
    "# print(id(a))\n",
    "# print(id(b))\n",
    "# print(a == b)  # Does not compare the memroy address\n",
    "# print(a is b)  # Compares the memory address\n",
    "\n",
    "\n",
    "# object reusability\n",
    "# int -> -5 to 256\n",
    "# string -> A-Z,a-z, 0-9, _\n",
    "# True, False, None\n"
   ]
  },
  {
   "cell_type": "code",
   "execution_count": null,
   "id": "54cd98ba",
   "metadata": {},
   "outputs": [],
   "source": [
    "# Assignment Operator - =\n",
    "# var = val\n",
    "\n",
    "emp_age = 34\n"
   ]
  },
  {
   "cell_type": "code",
   "execution_count": null,
   "id": "663d4380",
   "metadata": {},
   "outputs": [],
   "source": [
    "# Compound Assignment Operator - +=, -=, *=,/=, //=, %=, **=, &=, |=, ^=, ~=, <<=, >>=\n",
    "\n",
    "# emp_sal_age = 34\n",
    "# print(emp_sal_age)\n",
    "# emp_sal_age *= 1000                                 # emp_sal_age = emp_sal_age * 1000\n",
    "# print(emp_sal_age)\n",
    "\n",
    "# a = 10\n",
    "# a *= 1000\n",
    "# print(a)\n",
    "# print(b)\n",
    "\n",
    "\n",
    "# a = 10\n",
    "# a **= 3                            #a = a ** 3\n",
    "# print(a)\n",
    "\n",
    "\n",
    "\n",
    "\n",
    "\n"
   ]
  },
  {
   "cell_type": "code",
   "execution_count": null,
   "id": "82d2aae9",
   "metadata": {},
   "outputs": [],
   "source": [
    "# Ternary Operator - It works with 3 values/operands\n",
    "# expr1 if cond1 else expr2 => expr1 is result if cond1 is True else expr2 is result\n",
    "# expr1 if cond1 else expr2 if cond2 else expr3 if cond3 else expr4 if cond4 else expr5\n",
    "\n",
    "# num1 = int(input('Enter 1st number: '))\n",
    "# num2 = int(input('Enter 2nd number: '))\n",
    "# print(num1 if num1>num2 else num2)\n",
    "\n",
    "num1 = int(input('Enter 1st number: '))\n",
    "num2 = int(input('Enter 2nd number: '))\n",
    "num3 = int(input('Enter 3rd number: '))\n",
    "print('num1 is greater' if ((num1>num2) and (num1>num3)) else 'num2 is greater' if (num2>num3) else '')\n",
    "\n",
    "\n",
    "# (cond?expr1:expr2)\n",
    "\n",
    "\n"
   ]
  },
  {
   "cell_type": "code",
   "execution_count": null,
   "id": "efbe532e",
   "metadata": {},
   "outputs": [],
   "source": []
  },
  {
   "cell_type": "code",
   "execution_count": null,
   "id": "73c17e49",
   "metadata": {},
   "outputs": [],
   "source": []
  },
  {
   "cell_type": "code",
   "execution_count": null,
   "id": "e76728cb",
   "metadata": {},
   "outputs": [],
   "source": []
  },
  {
   "cell_type": "code",
   "execution_count": null,
   "id": "485e8e60",
   "metadata": {},
   "outputs": [],
   "source": []
  },
  {
   "cell_type": "code",
   "execution_count": null,
   "id": "b6938dcf",
   "metadata": {},
   "outputs": [],
   "source": []
  },
  {
   "cell_type": "code",
   "execution_count": null,
   "id": "b1781726",
   "metadata": {},
   "outputs": [],
   "source": []
  },
  {
   "cell_type": "code",
   "execution_count": null,
   "id": "1335b109",
   "metadata": {},
   "outputs": [],
   "source": []
  }
 ],
 "metadata": {
  "kernelspec": {
   "display_name": "Python 3 (ipykernel)",
   "language": "python",
   "name": "python3"
  },
  "language_info": {
   "codemirror_mode": {
    "name": "ipython",
    "version": 3
   },
   "file_extension": ".py",
   "mimetype": "text/x-python",
   "name": "python",
   "nbconvert_exporter": "python",
   "pygments_lexer": "ipython3",
   "version": "3.9.12"
  }
 },
 "nbformat": 4,
 "nbformat_minor": 5
}
