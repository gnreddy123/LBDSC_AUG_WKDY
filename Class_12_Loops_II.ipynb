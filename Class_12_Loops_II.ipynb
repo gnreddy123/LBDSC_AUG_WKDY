{
 "cells": [
  {
   "cell_type": "code",
   "execution_count": null,
   "id": "5a95261d",
   "metadata": {},
   "outputs": [],
   "source": [
    "# Core python by Nageshwar Rao\n",
    "\n",
    "12.30 - 4"
   ]
  },
  {
   "cell_type": "code",
   "execution_count": 1,
   "id": "b4cfc45e",
   "metadata": {},
   "outputs": [
    {
     "name": "stdout",
     "output_type": "stream",
     "text": [
      "Heloo\n",
      "Heloo\n",
      "Heloo\n",
      "Heloo\n",
      "Heloo\n",
      "Heloo\n",
      "Heloo\n",
      "Heloo\n",
      "Heloo\n",
      "Heloo\n"
     ]
    }
   ],
   "source": [
    "for i in range(10):\n",
    "    print('Heloo')"
   ]
  },
  {
   "cell_type": "code",
   "execution_count": 2,
   "id": "8f7bdb10",
   "metadata": {},
   "outputs": [
    {
     "name": "stdout",
     "output_type": "stream",
     "text": [
      "P\n",
      "PP\n",
      "y\n",
      "yy\n",
      "t\n",
      "tt\n",
      "h\n",
      "hh\n",
      "o\n",
      "oo\n",
      "n\n",
      "nn\n"
     ]
    }
   ],
   "source": [
    "my_str = 'Python'\n",
    "for i in my_str:\n",
    "    print(i)\n",
    "    print(i*2)"
   ]
  },
  {
   "cell_type": "code",
   "execution_count": 23,
   "id": "b86cbe47",
   "metadata": {},
   "outputs": [
    {
     "name": "stdout",
     "output_type": "stream",
     "text": [
      "['peter', 'piper', 'picked', 'a', 'peck', 'of', 'pickled', 'peppers']\n"
     ]
    }
   ],
   "source": [
    "my_str = 'peter piper picked a peck of pickled peppers'\n",
    "out_lst = ['peter', 'piper', 'picked', 'a', 'peck', 'of', 'pickled', 'peppers']\n",
    "\n",
    "out_str =''\n",
    "out_lst =[]\n",
    "\n",
    "for i in range(len(my_str)):\n",
    "    if my_str[i] == ' ':\n",
    "        out_lst = out_lst + [out_str]\n",
    "        out_str =''\n",
    "    elif i == len(my_str) -1:\n",
    "        out_str = out_str + my_str[i]\n",
    "        out_lst = out_lst + [out_str]\n",
    "    \n",
    "    else:\n",
    "        out_str = out_str + my_str[i]\n",
    "print(out_lst)\n"
   ]
  },
  {
   "cell_type": "code",
   "execution_count": 39,
   "id": "487068f8",
   "metadata": {},
   "outputs": [
    {
     "name": "stdout",
     "output_type": "stream",
     "text": [
      "['peter', 'piper', 'picked', 'a', 'peck', 'of', 'pickled']\n"
     ]
    }
   ],
   "source": [
    "my_str = 'peter piper picked a peck of pickled peppers'\n",
    "out_lst = ['peter', 'piper', 'picked', 'a', 'peck', 'of', 'pickled', 'peppers']\n",
    "\n",
    "out_str =''\n",
    "out_lst =[]\n",
    "\n",
    "for i in my_str:\n",
    "    if i == ' ':\n",
    "        out_lst = out_lst + [out_str]\n",
    "        out_str =''\n",
    "    elif i == len(my_str) -1:\n",
    "        out_str = out_str + i\n",
    "        out_lst = out_lst + [out_str]\n",
    "    \n",
    "    else:\n",
    "        out_str = out_str + i\n",
    "print(out_lst)"
   ]
  },
  {
   "cell_type": "code",
   "execution_count": 44,
   "id": "156df1da",
   "metadata": {},
   "outputs": [
    {
     "name": "stdout",
     "output_type": "stream",
     "text": [
      "['sreppep', 'delkcip', 'fo', 'kcep', 'a', 'dekcip', 'repip']\n"
     ]
    }
   ],
   "source": [
    "my_str = 'peter piper picked a peck of pickled peppers'\n",
    "out_lst = ['peter', 'piper', 'picked', 'a', 'peck', 'of', 'pickled', 'peppers']\n",
    "\n",
    "out_str =''\n",
    "out_lst =[]\n",
    "\n",
    "for i in my_str[::-1]:\n",
    "    if i == ' ':\n",
    "        out_lst = out_lst + [out_str]\n",
    "        out_str =''\n",
    "    elif i == -len(my_str):\n",
    "        out_str = out_str + i\n",
    "        out_lst = out_lst + [out_str]\n",
    "    \n",
    "    else:\n",
    "        out_str = out_str + i\n",
    "print(out_lst)"
   ]
  },
  {
   "cell_type": "code",
   "execution_count": 43,
   "id": "1ab348d3",
   "metadata": {},
   "outputs": [
    {
     "name": "stdout",
     "output_type": "stream",
     "text": [
      "['sreppep', 'delkcip', 'fo', 'kcep', 'a', 'dekcip', 'repip', 'retep']\n"
     ]
    }
   ],
   "source": [
    "my_str = 'peter piper picked a peck of pickled peppers'\n",
    "out_lst = ['peter', 'piper', 'picked', 'a', 'peck', 'of', 'pickled', 'peppers']\n",
    "\n",
    "out_str =''\n",
    "out_lst =[]\n",
    "\n",
    "for i in my_str[::-1]:\n",
    "    if i == ' ':\n",
    "        out_lst = out_lst + [out_str]\n",
    "        out_str =''\n",
    "    else:\n",
    "        out_str = out_str + i\n",
    "out_lst = out_lst + [out_str]\n",
    "print(out_lst)\n"
   ]
  },
  {
   "cell_type": "code",
   "execution_count": 114,
   "id": "a7714f30",
   "metadata": {},
   "outputs": [
    {
     "name": "stdout",
     "output_type": "stream",
     "text": [
      "['sreppep', 'delkcip', 'fo', 'kcep', 'a', 'dekcip', 'repip', 'retep']\n"
     ]
    }
   ],
   "source": [
    "# my_str = 'peter piper picked a peck of pickled peppers'\n",
    "# out_lst = ['peter', 'piper', 'picked', 'a', 'peck', 'of', 'pickled', 'peppers']\n",
    "\n",
    "# print(my_str.split())\n",
    "\n",
    "my_str = 'peter piper picked a peck of pickled peppers'\n",
    "out_str = ''\n",
    "out_lst = []\n",
    "for ind in range(-1, -len(my_str)-1, -1):\n",
    "    if my_str[ind] == ' ':\n",
    "        out_lst = out_lst + [out_str]\n",
    "        out_str = ''\n",
    "    elif ind == -len(my_str):\n",
    "        out_str = out_str + my_str[ind]\n",
    "        out_lst = out_lst + [out_str]\n",
    "    else:\n",
    "        out_str = out_str + my_str[ind]\n",
    "print(out_lst)\n",
    "\n",
    "\n",
    "\n",
    "\n"
   ]
  },
  {
   "cell_type": "code",
   "execution_count": null,
   "id": "31fa4fe7",
   "metadata": {},
   "outputs": [],
   "source": [
    "out_lst = []\n",
    "out_str = 'peter'\n",
    "out_lst = out_lst + [out_str]\n",
    "out_lst"
   ]
  },
  {
   "cell_type": "code",
   "execution_count": null,
   "id": "1f6e570a",
   "metadata": {},
   "outputs": [],
   "source": [
    "my_str = 'peter piper picked a peck of pickled peppers'\n",
    "# out_lst = ['sreppep', 'delkcip', 'fo', 'kcep', 'a', 'dekcip', 'repip', 'retep']\n",
    "\n",
    "# my_str[::-1].split()\n"
   ]
  },
  {
   "cell_type": "code",
   "execution_count": 113,
   "id": "2f62644d",
   "metadata": {},
   "outputs": [
    {
     "name": "stdout",
     "output_type": "stream",
     "text": [
      "['peter', 'piper', 'picked', 'a', 'peck', 'of', 'pickled', 'peppers']\n"
     ]
    }
   ],
   "source": [
    "my_str='peter piper picked a peck of pickled peppers'\n",
    "out_str=''\n",
    "out_lst=[]\n",
    "for i in my_str:\n",
    "    if i==' ':\n",
    "        out_lst=out_lst+[out_str]\n",
    "        \n",
    "        out_str=''\n",
    "    else:\n",
    "        out_str+=i\n",
    "        \n",
    "out_lst=out_lst+[out_str] \n",
    "print(out_lst)"
   ]
  },
  {
   "cell_type": "code",
   "execution_count": null,
   "id": "bbf0d507",
   "metadata": {},
   "outputs": [],
   "source": [
    "output = []\n",
    "word = ''\n",
    "for i in my_str[::-1]:\n",
    "    if(i == ' '):\n",
    "        output.append(word[::1])\n",
    "        word = ''\n",
    "    else:\n",
    "        word = word + i\n",
    "    \n",
    "print(output)"
   ]
  },
  {
   "cell_type": "code",
   "execution_count": null,
   "id": "fd674db7",
   "metadata": {},
   "outputs": [],
   "source": [
    "my_str = 'peter piper picked a peck of pickled peppers'\n",
    "out_str = 'peppers pickled of peck a picked piper peter'"
   ]
  },
  {
   "cell_type": "code",
   "execution_count": 111,
   "id": "64ee136d",
   "metadata": {},
   "outputs": [
    {
     "name": "stdout",
     "output_type": "stream",
     "text": [
      "['sreppep', 'delkcip', 'fo', 'kcep', 'a', 'dekcip', 'repip', 'retep']\n"
     ]
    }
   ],
   "source": [
    "my_str='peter piper picked a peck of pickled peppers'\n",
    "out_str=''\n",
    "out_lst=[]\n",
    "for i in range(len(my_str)):\n",
    "    if (my_str[len(my_str)-i-1]==' '):\n",
    "        out_lst=out_lst+[out_str]\n",
    "        \n",
    "        out_str=''\n",
    "    else:\n",
    "        out_str+=my_str[len(my_str)-i-1]\n",
    "        \n",
    "out_lst=out_lst+[out_str] \n",
    "print(out_lst)"
   ]
  },
  {
   "cell_type": "code",
   "execution_count": 79,
   "id": "9f40eea1",
   "metadata": {},
   "outputs": [
    {
     "name": "stdout",
     "output_type": "stream",
     "text": [
      "['peter', 'piper', 'picked', 'a', 'peck', 'of', 'pickled', 'peppers']\n",
      "['peppers', 'pickled', 'of', 'peck', 'a', 'picked', 'piper', 'peter']\n",
      " peppers pickled of peck a picked piper peter\n"
     ]
    }
   ],
   "source": [
    "my_str = 'peter piper picked a peck of pickled peppers'\n",
    "# out_str = 'peppers pickled of peck a picked piper peter'\n",
    "\n",
    "# ' '.join(my_str.split()[::-1])\n",
    "\n",
    "\n",
    "# For splitting the list\n",
    "out_str = ''\n",
    "out_lst = []\n",
    "for ind in range(len(my_str)):\n",
    "    if my_str[ind] == ' ':\n",
    "        out_lst = out_lst + [out_str]\n",
    "        out_str = ''\n",
    "    elif ind == len(my_str)-1:\n",
    "        out_str = out_str + my_str[ind]\n",
    "        out_lst = out_lst + [out_str]\n",
    "    else:\n",
    "        out_str = out_str + my_str[ind]\n",
    "print(out_lst)\n",
    "\n",
    "\n",
    "# For reversing the list\n",
    "res_lst = []\n",
    "for i in range(-1, -len(out_lst)-1, -1):\n",
    "    res_lst += [out_lst[i]]\n",
    "print(res_lst)\n",
    "\n",
    "# Joining the list\n",
    "final_str = ''\n",
    "for i in range(len(res_lst)):\n",
    "    if i == 0:\n",
    "        final_str = final_str +  res_lst[i]\n",
    "    else:\n",
    "        final_str = final_str + ' ' + res_lst[i]\n",
    "print(final_str)\n",
    "    \n",
    "    \n",
    "    \n",
    "    "
   ]
  },
  {
   "cell_type": "code",
   "execution_count": 85,
   "id": "d87d0c12",
   "metadata": {},
   "outputs": [
    {
     "name": "stdout",
     "output_type": "stream",
     "text": [
      "peppers pickled of peck a picked piper peter\n"
     ]
    }
   ],
   "source": [
    "my_str = 'peter piper picked a peck of pickled peppers'\n",
    "out_str = 'peppers pickled of peck a picked piper peter'\n",
    "\n",
    "# ' '.join(my_str.split()[::-1])\n",
    "# ' '.join(my_str.split()[::-1])\n",
    "\n",
    "# my_str.split()\n",
    "\n",
    "\n",
    "# For splitting the list:\n",
    "lst_str = ''\n",
    "out_lst = []\n",
    "\n",
    "for i in range(len(my_str)):\n",
    "    if my_str[i] == ' ':\n",
    "        out_lst = out_lst + [lst_str]\n",
    "        lst_str = ''\n",
    "    elif i == len(my_str)-1:\n",
    "        lst_str = lst_str + my_str[i]\n",
    "        out_lst = out_lst + [lst_str]\n",
    "    \n",
    "        \n",
    "    else:\n",
    "        lst_str = lst_str + my_str[i]\n",
    "# print(out_lst)\n",
    "        \n",
    "    \n",
    "    \n",
    "\n",
    "# For reversing the lsit:\n",
    "\n",
    "rev_lst =[]\n",
    "\n",
    "for i in range(-1,-len(out_lst)-1,-1):\n",
    "    rev_lst = rev_lst + [out_lst[i]]\n",
    "# print(rev_lst)\n",
    "\n",
    "# For final string:\n",
    "\n",
    "fin_str = ''\n",
    "\n",
    "for i in range(len(rev_lst)):\n",
    "    if i == 0:\n",
    "        fin_str = fin_str +  rev_lst[i]\n",
    "    else:\n",
    "        fin_str = fin_str + ' ' + rev_lst[i]\n",
    "    \n",
    "print(fin_str)\n",
    "\n"
   ]
  },
  {
   "cell_type": "code",
   "execution_count": null,
   "id": "9a25c083",
   "metadata": {},
   "outputs": [],
   "source": [
    "# While Loop in Python\n",
    "\n",
    "# Initialization\n",
    "# Condition checking\n",
    "# Increment/Decrement\n",
    "\n",
    "\n",
    "# ind = 1                       # Initialization\n",
    "# while ind <= 10:              # Condition Checking\n",
    "#     print('Hello Python')\n",
    "#     ind += 1                  # Increment/Decrement\n",
    "\n",
    "# ind = 11\n",
    "\n",
    "\n",
    "\n",
    "# Output\n",
    "# Hello Python\n",
    "# Hello Python\n",
    "# Hello Python\n",
    "# .\n",
    "# .\n",
    "# .\n",
    "# Hello Python\n",
    "\n",
    "# i = 0\n",
    "# while i < 10:\n",
    "#     print('Hello')\n",
    "\n",
    "my_str = 'This is Python class'\n",
    "usr_inp = input('ENter the value from where you want to stop: ')\n",
    "ind = 0\n",
    "while my_str[ind] != usr_inp:\n",
    "    print(my_str[ind])\n",
    "    ind +=1\n",
    "\n"
   ]
  },
  {
   "cell_type": "code",
   "execution_count": 86,
   "id": "8982ad0e",
   "metadata": {},
   "outputs": [
    {
     "name": "stdout",
     "output_type": "stream",
     "text": [
      "P\n",
      "y\n",
      "t\n",
      "h\n",
      "o\n",
      "n\n"
     ]
    }
   ],
   "source": [
    "my_str ='Python'\n",
    "\n",
    "ind = 0\n",
    "\n",
    "while ind < len(my_str):\n",
    "    print(my_str[ind])\n",
    "    ind +=1"
   ]
  },
  {
   "cell_type": "code",
   "execution_count": 89,
   "id": "8dd8c532",
   "metadata": {},
   "outputs": [
    {
     "name": "stdout",
     "output_type": "stream",
     "text": [
      "Hello Python\n",
      "Hello Python\n",
      "Hello Python\n",
      "Hello Python\n",
      "Hello Python\n",
      "Hello Python\n",
      "Hello Python\n",
      "Hello Python\n",
      "Hello Python\n",
      "Hello Python\n",
      "Hello Python\n",
      "Hello Python\n"
     ]
    }
   ],
   "source": [
    "my_str = 'Hello Python'\n",
    "\n",
    "ind = 0\n",
    "while ind < len(my_str):\n",
    "    print(my_str)\n",
    "    ind += 1"
   ]
  },
  {
   "cell_type": "code",
   "execution_count": 105,
   "id": "257ce170",
   "metadata": {},
   "outputs": [
    {
     "name": "stdout",
     "output_type": "stream",
     "text": [
      "n\n",
      "oo\n",
      "hhh\n",
      "tttt\n",
      "yyyyy\n",
      "PPPPPP\n"
     ]
    }
   ],
   "source": [
    "my_str = 'Python'\n",
    "\n",
    "ind = -1\n",
    "while ind >= -len(my_str):\n",
    "    print(my_str[ind] * (-ind))\n",
    "    ind -= 1"
   ]
  },
  {
   "cell_type": "code",
   "execution_count": 108,
   "id": "4767e7bd",
   "metadata": {},
   "outputs": [
    {
     "name": "stdout",
     "output_type": "stream",
     "text": [
      "Enter the password to check: ghjkll\n",
      "Incorrect password!!!, Enter again\n",
      "Hello@123\n",
      "Correct password\n"
     ]
    }
   ],
   "source": [
    "org_pwd = 'Hello@123'\n",
    "# take password from user until he enters correct passowrd\n",
    "inp_pwd = input('Enter the password to check: ')\n",
    "while True:\n",
    "    if inp_pwd == org_pwd:\n",
    "        print('Correct password')\n",
    "        break\n",
    "    else:\n",
    "        print('Incorrect password!!!, Enter again')\n",
    "        inp_pwd = input()\n",
    "        "
   ]
  },
  {
   "cell_type": "code",
   "execution_count": 110,
   "id": "125a6309",
   "metadata": {},
   "outputs": [
    {
     "name": "stdout",
     "output_type": "stream",
     "text": [
      "0\n",
      "1\n",
      "2\n",
      "3\n",
      "4\n",
      "5\n"
     ]
    }
   ],
   "source": [
    "my_str ='Pyhton'\n",
    "\n",
    "# for i in my_str:\n",
    "#     print(i)\n",
    "    \n",
    "for i in range(len(my_str)):\n",
    "    print(i)"
   ]
  },
  {
   "cell_type": "code",
   "execution_count": 125,
   "id": "524994b3",
   "metadata": {},
   "outputs": [
    {
     "name": "stdout",
     "output_type": "stream",
     "text": [
      "['peter', 'piper', 'picked', 'a', 'peck', 'of', 'pickled', 'peppers']\n"
     ]
    }
   ],
   "source": [
    "my_str = 'peter piper picked a peck of pickled peppers'\n",
    "out_lst = ['peter', 'piper', 'picked', 'a', 'peck', 'of', 'pickled', 'peppers']\n",
    "\n",
    "# print(my_str.split())\n",
    "\n",
    "out_str = ''\n",
    "out_lst =[]\n",
    "\n",
    "for i in range(len(my_str)):\n",
    "    if my_str[i] == ' ':\n",
    "        out_lst = out_lst + [out_str]\n",
    "        out_str = ''\n",
    "    elif i ==len(my_str) -1:\n",
    "        out_str = out_str + my_str[i]\n",
    "        out_lst = out_lst + [out_str]\n",
    "    \n",
    "    else:\n",
    "        out_str = out_str + my_str[i]\n",
    "print(out_lst)\n",
    "        \n",
    "\n",
    "    "
   ]
  },
  {
   "cell_type": "code",
   "execution_count": 123,
   "id": "6442d3da",
   "metadata": {},
   "outputs": [
    {
     "name": "stdout",
     "output_type": "stream",
     "text": [
      "['peter', 'piper', 'picked', 'a', 'peck', 'of', 'pickled', 'peppers']\n"
     ]
    }
   ],
   "source": [
    "my_str = 'peter piper picked a peck of pickled peppers'\n",
    "out_lst = ['peter', 'piper', 'picked', 'a', 'peck', 'of', 'pickled', 'peppers']\n",
    "\n",
    "# print(my_str.split())\n",
    "\n",
    "my_str = 'peter piper picked a peck of pickled peppers'\n",
    "out_str = ''\n",
    "out_lst = []\n",
    "for ind in range(len(my_str)):\n",
    "    if my_str[ind] == ' ':\n",
    "        out_lst = out_lst + [out_str]\n",
    "        out_str = ''\n",
    "    elif ind == len(my_str)-1:\n",
    "        out_str = out_str + my_str[ind]\n",
    "        out_lst = out_lst + [out_str]\n",
    "    else:\n",
    "        out_str = out_str + my_str[ind]\n",
    "print(out_lst)"
   ]
  },
  {
   "cell_type": "code",
   "execution_count": 129,
   "id": "92a6b267",
   "metadata": {},
   "outputs": [
    {
     "name": "stdout",
     "output_type": "stream",
     "text": [
      "Hello Pyhthon\n",
      "Hello Pyhthon\n",
      "Hello Pyhthon\n",
      "Hello Pyhthon\n",
      "Hello Pyhthon\n",
      "Hello Pyhthon\n",
      "Hello Pyhthon\n",
      "Hello Pyhthon\n",
      "Hello Pyhthon\n",
      "Hello Pyhthon\n",
      "Hello Pyhthon\n",
      "Hello Pyhthon\n",
      "Hello Pyhthon\n"
     ]
    }
   ],
   "source": [
    "# While Loop in Python\n",
    "\n",
    "# Initialization\n",
    "# Condition checking\n",
    "# Increment/Decrement\n",
    "\n",
    "\n",
    "# ind = 1                       # Initialization\n",
    "# while ind <= 10:              # Condition Checking\n",
    "#     print('Hello Python')\n",
    "#     ind += 1                  # Increment/Decrement\n",
    "\n",
    "\n",
    "my_str = 'Hello Pyhthon'\n",
    "\n",
    "ind = 0\n",
    "while ind < len(my_str):\n",
    "    print(my_str)\n",
    "    ind += 1\n",
    "    \n"
   ]
  },
  {
   "cell_type": "code",
   "execution_count": 132,
   "id": "a6670aae",
   "metadata": {},
   "outputs": [
    {
     "name": "stdout",
     "output_type": "stream",
     "text": [
      "P\n",
      "yy\n",
      "hhh\n",
      "tttt\n",
      "ooooo\n",
      "nnnnnn\n"
     ]
    }
   ],
   "source": [
    "my_str ='Pyhton'\n",
    "\n",
    "i = 0\n",
    "while i < len(my_str):\n",
    "    print(my_str[i] * (i+1))\n",
    "    i += 1"
   ]
  },
  {
   "cell_type": "code",
   "execution_count": 168,
   "id": "ed0a9382",
   "metadata": {},
   "outputs": [
    {
     "name": "stdout",
     "output_type": "stream",
     "text": [
      "n\n",
      "oo\n",
      "ttt\n",
      "hhhh\n",
      "yyyyy\n",
      "PPPPPP\n"
     ]
    }
   ],
   "source": [
    "my_str = 'Pyhton'\n",
    "\n",
    "i = -1\n",
    "\n",
    "while i >= -len(my_str):\n",
    "    print(my_str[i] * (-i))\n",
    "    i -= 1\n",
    "    "
   ]
  },
  {
   "cell_type": "markdown",
   "id": "2da7525d",
   "metadata": {},
   "source": [
    "org_pwd = 'Hello@123'\n",
    "inp_pwd = input('Enter the password: ')\n",
    "\n",
    "while True:\n",
    "    if inp_pwd == org_pwd:\n",
    "        print('Correct Password')\n",
    "        break\n",
    "    else:\n",
    "        print('Incorrect password,Enter the password again')\n",
    "        inp_pwd = input()\n",
    "        break\n",
    "    \n",
    "    "
   ]
  },
  {
   "cell_type": "code",
   "execution_count": 170,
   "id": "23b50459",
   "metadata": {},
   "outputs": [
    {
     "name": "stdout",
     "output_type": "stream",
     "text": [
      "Enter the password: jnjkll;;;\n",
      "Incorrect password,Enter the password again\n",
      "Hello@123\n",
      "Correct Password\n"
     ]
    }
   ],
   "source": [
    "org_pwd = 'Hello@123' \n",
    "inp_pwd = input('Enter the password: ')\n",
    "\n",
    "while True:\n",
    "    if inp_pwd == org_pwd: \n",
    "        print('Correct Password') \n",
    "        break \n",
    "    else: \n",
    "        print('Incorrect password,Enter the password again') \n",
    "        inp_pwd = input() \n",
    "        "
   ]
  },
  {
   "cell_type": "code",
   "execution_count": null,
   "id": "b6bc30f8",
   "metadata": {},
   "outputs": [],
   "source": []
  }
 ],
 "metadata": {
  "kernelspec": {
   "display_name": "Python 3 (ipykernel)",
   "language": "python",
   "name": "python3"
  },
  "language_info": {
   "codemirror_mode": {
    "name": "ipython",
    "version": 3
   },
   "file_extension": ".py",
   "mimetype": "text/x-python",
   "name": "python",
   "nbconvert_exporter": "python",
   "pygments_lexer": "ipython3",
   "version": "3.9.12"
  }
 },
 "nbformat": 4,
 "nbformat_minor": 5
}
