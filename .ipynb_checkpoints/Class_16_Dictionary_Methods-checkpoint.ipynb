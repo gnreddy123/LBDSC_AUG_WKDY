{
 "cells": [
  {
   "cell_type": "code",
   "execution_count": 7,
   "id": "5106eb87",
   "metadata": {},
   "outputs": [
    {
     "name": "stdout",
     "output_type": "stream",
     "text": [
      "dict_keys(['emp_1', 'emp_2', 'emp_3'])\n",
      "\n",
      "dict_values([{'emp_name': 'Krishna', 'emp_phone': 1234567890, 'emp_email': 'krishna@gmail.com'}, {'emp_name': 'Abhishek', 'emp_phone': 1111111111, 'emp_email': 'Abhishek@gmail.com'}, {'emp_name': 'Rakesh', 'emp_phone': 2222222222, 'emp_email': 'Rakesh@gmail.com'}])\n",
      "\n",
      "dict_items([('emp_1', {'emp_name': 'Krishna', 'emp_phone': 1234567890, 'emp_email': 'krishna@gmail.com'}), ('emp_2', {'emp_name': 'Abhishek', 'emp_phone': 1111111111, 'emp_email': 'Abhishek@gmail.com'}), ('emp_3', {'emp_name': 'Rakesh', 'emp_phone': 2222222222, 'emp_email': 'Rakesh@gmail.com'})])\n"
     ]
    }
   ],
   "source": [
    "emp_details = {'emp_1':{'emp_name':'Krishna', \n",
    "                        'emp_phone':1234567890,\n",
    "                        'emp_email':'krishna@gmail.com'},\n",
    "               'emp_2':{'emp_name':'Abhishek', \n",
    "                        'emp_phone':1111111111,\n",
    "                        'emp_email':'Abhishek@gmail.com'},\n",
    "               'emp_3':{'emp_name':'Rakesh', \n",
    "                        'emp_phone':2222222222,\n",
    "                        'emp_email':'Rakesh@gmail.com'}}\n",
    "\n",
    "print(emp_details.keys())\n",
    "print()\n",
    "print(emp_details.values())\n",
    "print()\n",
    "print(emp_details.items())\n"
   ]
  },
  {
   "cell_type": "code",
   "execution_count": 12,
   "id": "2e87f5d4",
   "metadata": {},
   "outputs": [
    {
     "data": {
      "text/plain": [
       "{'Brazil': 'B.Dollar',\n",
       " 'Russia': 'Roublw',\n",
       " 'India': 'Rupee',\n",
       " 'China': 'Yuan',\n",
       " 'South Africa': 'Dollar'}"
      ]
     },
     "execution_count": 12,
     "metadata": {},
     "output_type": "execute_result"
    }
   ],
   "source": [
    "brics_country = ['Brazil','Russia','India','China','South Africa']\n",
    "brics_Currency =['B.Dollar','Roublw','Rupee','Yuan','Dollar']\n",
    "\n",
    "zip(brics_country,brics_Currency)\n",
    "tuple(zip(brics_country,brics_Currency))\n",
    "list(zip(brics_country,brics_Currency))\n",
    "dict(zip(brics_country,brics_Currency))"
   ]
  },
  {
   "cell_type": "code",
   "execution_count": 15,
   "id": "95b643db",
   "metadata": {},
   "outputs": [
    {
     "data": {
      "text/plain": [
       "{0: 'B.Dollar', 1: 'Roublw', 2: 'Rupee', 3: 'Yuan', 4: 'Dollar'}"
      ]
     },
     "execution_count": 15,
     "metadata": {},
     "output_type": "execute_result"
    }
   ],
   "source": [
    "brics_Currency =['B.Dollar','Roublw','Rupee','Yuan','Dollar']\n",
    "enumerate(brics_Currency)\n",
    "list(enumerate(brics_Currency))\n",
    "dict(enumerate(brics_Currency))\n",
    "\n"
   ]
  },
  {
   "cell_type": "code",
   "execution_count": 17,
   "id": "3dae0caa",
   "metadata": {},
   "outputs": [
    {
     "name": "stdout",
     "output_type": "stream",
     "text": [
      "{1: 111, 2: 200, 3: 300, 4: 400}\n"
     ]
    }
   ],
   "source": [
    "# what is keys are duplicated\n",
    "d = {1:100, 2:200, 3:300, 4:400, 1:111}\n",
    "print(d)\n",
    "\n",
    "key      value\n",
    "1         111\n",
    "2         200\n",
    "3         300\n",
    "4         400\n"
   ]
  },
  {
   "cell_type": "code",
   "execution_count": 24,
   "id": "5641a493",
   "metadata": {},
   "outputs": [
    {
     "name": "stdout",
     "output_type": "stream",
     "text": [
      "111\n"
     ]
    }
   ],
   "source": [
    "print(d[1])"
   ]
  },
  {
   "cell_type": "code",
   "execution_count": 27,
   "id": "7117d282",
   "metadata": {},
   "outputs": [
    {
     "name": "stdout",
     "output_type": "stream",
     "text": [
      "{'[emp_1]': {'emp_name': 'Krishna', 'emp_phone': 1234567890, 'emp_email': 'krishna@gmail.com'}, 'emp_2': {'emp_name': 'Abhishek', 'emp_phone': 1111111111, 'emp_email': 'Abhishek@gmail.com'}, 'emp_3': {'emp_name': 'Rakesh', 'emp_phone': 2222222222, 'emp_email': 'Rakesh@gmail.com'}}\n"
     ]
    }
   ],
   "source": [
    "emp_details = {'emp_1':{'emp_name':'Krishna', \n",
    "                        'emp_phone':1234567890,\n",
    "                        'emp_email':'krishna@gmail.com'},\n",
    "               'emp_2':{'emp_name':'Abhishek', \n",
    "                        'emp_phone':1111111111,\n",
    "                        'emp_email':'Abhishek@gmail.com'},\n",
    "               'emp_3':{'emp_name':'Rakesh', \n",
    "                        'emp_phone':2222222222,\n",
    "                        'emp_email':'Rakesh@gmail.com'}}\n",
    "print(emp_details)"
   ]
  },
  {
   "cell_type": "code",
   "execution_count": 1,
   "id": "6d0ca9d7",
   "metadata": {},
   "outputs": [],
   "source": [
    "d = {'emp_name':'Krishna', 'emp_phone':1234567890,'emp_email':'krishna@gmail.com'}\n"
   ]
  },
  {
   "cell_type": "code",
   "execution_count": 2,
   "id": "450b35f8",
   "metadata": {},
   "outputs": [],
   "source": [
    "d = {'[emp_name]':'Krishna', 'emp_phone':1234567890,'emp_email':'krishna@gmail.com'}"
   ]
  },
  {
   "cell_type": "code",
   "execution_count": 13,
   "id": "2fa6e9c7",
   "metadata": {},
   "outputs": [
    {
     "name": "stdout",
     "output_type": "stream",
     "text": [
      "{'emp_name': 'Krishna', 'emp_phone': 1234567890, 'emp_email': 'krishna@gmail.com'}\n"
     ]
    }
   ],
   "source": [
    "emp_details = {'emp_1':{'emp_name':'Krishna', \n",
    "                        'emp_phone':1234567890,\n",
    "                        'emp_email':'krishna@gmail.com'},\n",
    "               'emp_2':{'emp_name':'Abhishek', \n",
    "                        'emp_phone':1111111111,\n",
    "                        'emp_email':'Abhishek@gmail.com'},\n",
    "               'emp_3':{'emp_name':'Rakesh', \n",
    "                        'emp_phone':2222222222,\n",
    "                        'emp_email':'Rakesh@gmail.com'}}\n",
    "print(emp_details['emp_1'])"
   ]
  },
  {
   "cell_type": "code",
   "execution_count": 14,
   "id": "b591c122",
   "metadata": {},
   "outputs": [
    {
     "name": "stdout",
     "output_type": "stream",
     "text": [
      "['__class__', '__class_getitem__', '__contains__', '__delattr__', '__delitem__', '__dir__', '__doc__', '__eq__', '__format__', '__ge__', '__getattribute__', '__getitem__', '__gt__', '__hash__', '__init__', '__init_subclass__', '__ior__', '__iter__', '__le__', '__len__', '__lt__', '__ne__', '__new__', '__or__', '__reduce__', '__reduce_ex__', '__repr__', '__reversed__', '__ror__', '__setattr__', '__setitem__', '__sizeof__', '__str__', '__subclasshook__', 'clear', 'copy', 'fromkeys', 'get', 'items', 'keys', 'pop', 'popitem', 'setdefault', 'update', 'values']\n"
     ]
    }
   ],
   "source": [
    "# Methods in a dictionary\n",
    "print(dir(dict))\n",
    "\n",
    "'clear', 'copy', 'fromkeys', 'get', 'items', 'keys', 'pop', 'popitem', 'setdefault', 'update', 'values'"
   ]
  },
  {
   "cell_type": "code",
   "execution_count": 16,
   "id": "61ba6a70",
   "metadata": {},
   "outputs": [
    {
     "name": "stdout",
     "output_type": "stream",
     "text": [
      "{}\n"
     ]
    }
   ],
   "source": [
    "# clear() - Clears all the elements from the dictionary amd leaves empty dictionary\n",
    "\n",
    "emp_details = {'emp_1':{'emp_name':'Krishna', \n",
    "                        'emp_phone':1234567890,\n",
    "                        'emp_email':'krishna@gmail.com'},\n",
    "               'emp_2':{'emp_name':'Abhishek', \n",
    "                        'emp_phone':1111111111,\n",
    "                        'emp_email':'Abhishek@gmail.com'},\n",
    "               'emp_3':{'emp_name':'Rakesh', \n",
    "                        'emp_phone':2222222222,\n",
    "                        'emp_email':'Rakesh@gmail.com'}}\n",
    "\n",
    "emp_details.clear()\n",
    "print(emp_details)"
   ]
  },
  {
   "cell_type": "code",
   "execution_count": 22,
   "id": "3e34c109",
   "metadata": {},
   "outputs": [
    {
     "name": "stdout",
     "output_type": "stream",
     "text": [
      "The key is not present\n"
     ]
    }
   ],
   "source": [
    "# get()\n",
    "\n",
    "# d.get(key) - returns the value if key is present else returns None if key is not present\n",
    "# d.get(key, msg) - returns the value if key is present else returns  msg  if key is not present\n",
    "# in any case it is not going to give the error if key is not present and will not update the dictionary\n",
    "\n",
    "emp_details = {'emp_1':{'emp_name':'Krishna', \n",
    "                        'emp_phone':1234567890,\n",
    "                        'emp_email':'krishna@gmail.com'},\n",
    "               'emp_2':{'emp_name':'Abhishek', \n",
    "                        'emp_phone':1111111111,\n",
    "                        'emp_email':'Abhishek@gmail.com'},\n",
    "               'emp_3':{'emp_name':'Rakesh', \n",
    "                        'emp_phone':2222222222,\n",
    "                        'emp_email':'Rakesh@gmail.com'}}\n",
    "\n",
    "# print(emp_details.get('emp_1'))\n",
    "# print(emp_details.get('emp_6'))\n",
    "\n",
    "# print(emp_details.get('emp_1'))\n",
    "print(emp_details.get('emp_6', 'The key is not present'))\n",
    "\n",
    "\n"
   ]
  },
  {
   "cell_type": "code",
   "execution_count": 25,
   "id": "9247c391",
   "metadata": {},
   "outputs": [
    {
     "name": "stdout",
     "output_type": "stream",
     "text": [
      "{'emp_1': {'emp_name': 'Krishna', 'emp_phone': 1234567890, 'emp_email': 'krishna@gmail.com'}, 'emp_2': {'emp_name': 'Abhishek', 'emp_phone': 1111111111, 'emp_email': 'Abhishek@gmail.com'}, 'emp_3': {'emp_name': 'Rakesh', 'emp_phone': 2222222222, 'emp_email': 'Rakesh@gmail.com'}, 'emp_6': None}\n",
      "The key is not present\n",
      "{'emp_1': {'emp_name': 'Krishna', 'emp_phone': 1234567890, 'emp_email': 'krishna@gmail.com'}, 'emp_2': {'emp_name': 'Abhishek', 'emp_phone': 1111111111, 'emp_email': 'Abhishek@gmail.com'}, 'emp_3': {'emp_name': 'Rakesh', 'emp_phone': 2222222222, 'emp_email': 'Rakesh@gmail.com'}, 'emp_6': None, 'emp_7': 'The key is not present'}\n"
     ]
    }
   ],
   "source": [
    "# setdefault(key) - returns the value if key is present else returns None if key is not present and update the dictionary with key and None as a value\n",
    "# setdefault(key,msg)-returns the value if key is present else returns msg if key is not present and will update the dictionary with key and None as a value   \n",
    "\n",
    "# print(emp_details.setdefault('emp_6'))\n",
    "print(emp_details)\n",
    "print(emp_details.setdefault('emp_7', 'The key is not present'))\n",
    "print(emp_details)"
   ]
  },
  {
   "cell_type": "code",
   "execution_count": 28,
   "id": "fe3d7693",
   "metadata": {},
   "outputs": [
    {
     "name": "stdout",
     "output_type": "stream",
     "text": [
      "{'emp_name': 'Krishna', 'emp_phone': 1234567890, 'emp_email': 'krishna@gmail.com'}\n",
      "{'emp_name': 'Abhi', 'emp_phone': 9876543210, 'emp_email': 'Abhi@gmail.com'}\n"
     ]
    }
   ],
   "source": [
    "# update()\n",
    "# d1.update(d2)\n",
    "\n",
    "d1 = {'emp_name':'Krishna', 'emp_phone':1234567890,'emp_email':'krishna@gmail.com'}\n",
    "d2 = {'emp_name':'Abhi', 'emp_phone':9876543210,'emp_email':'Abhi@gmail.com'}\n",
    "\n",
    "# d1.update(d2)\n",
    "print(d1)\n",
    "print(d2)"
   ]
  },
  {
   "cell_type": "code",
   "execution_count": 34,
   "id": "bf7db5be",
   "metadata": {},
   "outputs": [
    {
     "name": "stdout",
     "output_type": "stream",
     "text": [
      "('emp_3', {'emp_name': 'Rakesh', 'emp_phone': 2222222222, 'emp_email': 'Rakesh@gmail.com'})\n",
      "{'emp_1': {'emp_name': 'Krishna', 'emp_phone': 1234567890, 'emp_email': 'krishna@gmail.com'}, 'emp_2': {'emp_name': 'Abhishek', 'emp_phone': 1111111111, 'emp_email': 'Abhishek@gmail.com'}}\n"
     ]
    }
   ],
   "source": [
    "# pop, popitem\n",
    "\n",
    "# pop(key) - if key is present then removes the key value pair and return only value\n",
    "# pop(key) - if key is not present then gives KeyError\n",
    "# pop(key, value) - if key is present then gives value as output, but it will not udpate dictionary\n",
    "# pop(key, value) - if key is not present then removes key value pair and return only value\n",
    "\n",
    "emp_details = {'emp_1':{'emp_name':'Krishna', \n",
    "                        'emp_phone':1234567890,\n",
    "                        'emp_email':'krishna@gmail.com'},\n",
    "               'emp_2':{'emp_name':'Abhishek', \n",
    "                        'emp_phone':1111111111,\n",
    "                        'emp_email':'Abhishek@gmail.com'},\n",
    "               'emp_3':{'emp_name':'Rakesh', \n",
    "                        'emp_phone':2222222222,\n",
    "                        'emp_email':'Rakesh@gmail.com'}}\n",
    "\n",
    "\n",
    "# print(emp_details.pop('emp_2'))\n",
    "# print(emp_details)\n",
    "\n",
    "# print(emp_details.pop('emp_4'))\n",
    "# print(emp_details)\n",
    "\n",
    "print(emp_details.popitem())\n",
    "print(emp_details)"
   ]
  },
  {
   "cell_type": "code",
   "execution_count": 35,
   "id": "a04aaef9",
   "metadata": {},
   "outputs": [
    {
     "name": "stdout",
     "output_type": "stream",
     "text": [
      "{'emp_1': {'emp_name': 'Krishna', 'emp_phone': 1234567890, 'emp_email': 'krishna@gmail.com'}, 'emp_2': {'emp_name': 'Abhishek', 'emp_phone': 1111111111, 'emp_email': 'Abhishek@gmail.com'}}\n"
     ]
    }
   ],
   "source": [
    "print(emp_details)"
   ]
  },
  {
   "cell_type": "code",
   "execution_count": 37,
   "id": "90366898",
   "metadata": {},
   "outputs": [
    {
     "name": "stdout",
     "output_type": "stream",
     "text": [
      "{'P': None, 'y': None, 't': None, 'h': None, 'o': None, 'n': None}\n"
     ]
    }
   ],
   "source": [
    "# formkeys\n",
    "\n",
    "a = {}\n",
    "# a = a.fromkeys('Python')\n",
    "# print(a)\n",
    "\n",
    "a = a.fromkeys('Python', 0)\n",
    "print(a)\n",
    "\n",
    "a = a.fromkeys('Python', [])\n",
    "print(a)"
   ]
  },
  {
   "cell_type": "code",
   "execution_count": 6,
   "id": "7490a66e",
   "metadata": {},
   "outputs": [
    {
     "name": "stdout",
     "output_type": "stream",
     "text": [
      "[1, 2, [3, 4, 10], 20, 30]\n",
      "[1, 2, [333, 4, 10], 20, 30]\n"
     ]
    }
   ],
   "source": [
    "# copy method\n",
    "\n",
    "# Aliasing, Shallow copy, Deep copy\n",
    "# lst = [10,20,30,40]\n",
    "# lst1 =lst            # Aliasing\n",
    "# print(lst is lst1)\n",
    "# print(id(lst))\n",
    "# print(id(lst1))\n",
    "\n",
    "# lst[0] = 111\n",
    "# print(lst)\n",
    "# print(lst1)\n",
    "\n",
    "\n",
    "# a = 1000\n",
    "# b = a \n",
    "# print(id(a))\n",
    "# print(id(b))\n",
    "\n",
    "\n",
    "# Shallow copy - using copy, slicing\n",
    "# lst = [1,2,3,4,10,20,30]\n",
    "# lst1 = lst.copy()      # using copy method\n",
    "\n",
    "# lst[0] = 110011\n",
    "# print(lst)\n",
    "# print(lst1)\n",
    "\n",
    "\n",
    "# lst = [1,2,[3,4,10],20,30]\n",
    "# lst1 = lst.copy()      # using Shallow copy method[]\n",
    "\n",
    "# lst[2][0] = 333\n",
    "# print(lst)\n",
    "# print(lst1)\n",
    "\n",
    "from copy import deepcopy\n",
    "lst = [1,2,[3,4,10],20,30]\n",
    "lst1 = deepcopy(lst)      # using Deep copy method[]\n",
    "\n",
    "lst1[2][0] = 333\n",
    "print(lst)\n",
    "print(lst1)\n",
    "\n"
   ]
  },
  {
   "cell_type": "code",
   "execution_count": 39,
   "id": "7547a811",
   "metadata": {},
   "outputs": [
    {
     "data": {
      "text/plain": [
       "{2: 4, 4: 16, 6: 36, 8: 64}"
      ]
     },
     "execution_count": 39,
     "metadata": {},
     "output_type": "execute_result"
    }
   ],
   "source": [
    "# Dictionary comprehension\n",
    "\n",
    "# {Key:expr for loop if cond}\n",
    "\n",
    "{key : key**2 for key in range(2,10,2)}\n",
    "\n"
   ]
  },
  {
   "cell_type": "code",
   "execution_count": 7,
   "id": "ca5d7478",
   "metadata": {},
   "outputs": [
    {
     "name": "stdout",
     "output_type": "stream",
     "text": [
      "['__and__', '__class__', '__class_getitem__', '__contains__', '__delattr__', '__dir__', '__doc__', '__eq__', '__format__', '__ge__', '__getattribute__', '__gt__', '__hash__', '__iand__', '__init__', '__init_subclass__', '__ior__', '__isub__', '__iter__', '__ixor__', '__le__', '__len__', '__lt__', '__ne__', '__new__', '__or__', '__rand__', '__reduce__', '__reduce_ex__', '__repr__', '__ror__', '__rsub__', '__rxor__', '__setattr__', '__sizeof__', '__str__', '__sub__', '__subclasshook__', '__xor__', 'add', 'clear', 'copy', 'difference', 'difference_update', 'discard', 'intersection', 'intersection_update', 'isdisjoint', 'issubset', 'issuperset', 'pop', 'remove', 'symmetric_difference', 'symmetric_difference_update', 'union', 'update']\n"
     ]
    }
   ],
   "source": [
    "print(dir(set))"
   ]
  },
  {
   "cell_type": "code",
   "execution_count": 12,
   "id": "d1c68680",
   "metadata": {},
   "outputs": [
    {
     "name": "stdout",
     "output_type": "stream",
     "text": [
      "emp_1 {'emp_name': 'Krishna', 'emp_phone': 1234567890, 'emp_email': 'krishna@gmail.com'}\n",
      "emp_2 {'emp_name': 'Abhishek', 'emp_phone': 1111111111, 'emp_email': 'Abhishek@gmail.com'}\n",
      "emp_3 {'emp_name': 'Rakesh', 'emp_phone': 2222222222, 'emp_email': 'Rakesh@gmail.com'}\n"
     ]
    }
   ],
   "source": [
    "emp_details = {'emp_1':{'emp_name':'Krishna', \n",
    "                        'emp_phone':1234567890,\n",
    "                        'emp_email':'krishna@gmail.com'},\n",
    "               'emp_2':{'emp_name':'Abhishek', \n",
    "                        'emp_phone':1111111111,\n",
    "                        'emp_email':'Abhishek@gmail.com'},\n",
    "               'emp_3':{'emp_name':'Rakesh', \n",
    "                        'emp_phone':2222222222,\n",
    "                        'emp_email':'Rakesh@gmail.com'}}\n",
    "\n",
    "\n",
    "for i,j in emp_details.items():\n",
    "    print(i,j)"
   ]
  },
  {
   "cell_type": "code",
   "execution_count": null,
   "id": "0de704c6",
   "metadata": {},
   "outputs": [],
   "source": []
  }
 ],
 "metadata": {
  "kernelspec": {
   "display_name": "Python 3 (ipykernel)",
   "language": "python",
   "name": "python3"
  },
  "language_info": {
   "codemirror_mode": {
    "name": "ipython",
    "version": 3
   },
   "file_extension": ".py",
   "mimetype": "text/x-python",
   "name": "python",
   "nbconvert_exporter": "python",
   "pygments_lexer": "ipython3",
   "version": "3.9.12"
  }
 },
 "nbformat": 4,
 "nbformat_minor": 5
}
