{
 "cells": [
  {
   "cell_type": "code",
   "execution_count": 4,
   "id": "4f26ca0a",
   "metadata": {},
   "outputs": [
    {
     "name": "stdout",
     "output_type": "stream",
     "text": [
      "(10, 10.2, (10+20j), None, True, 'Python', [1, 2, 3], (1, 2, 3))\n"
     ]
    }
   ],
   "source": [
    "# Tuple - Any value kept inside () seperated by comma.\n",
    "\n",
    "# tpl = (10, 10.20, 10+20j, None, True, 'Python', [1, 2, 3], (1, 2, 3))\n",
    "# print(tpl, type(tpl))\n",
    "\n",
    "# Tuple is immutable\n",
    "tpl = (10, 10.20, 10+20j, None, True, 'Python', [1, 2, 3], (1, 2, 3))\n",
    "# tpl[0] = 111\n",
    "# tpl1 = (1, 2, 3)\n",
    "# print(tpl+(tpl1,))   # Tuple Concatenation\n",
    "print(tpl)\n",
    "\n",
    "\n",
    "# 'Python' + 'Class'\n",
    "\n",
    "# Tuple is a sequence\n",
    "#     1. Tuple is an ordered collection\n",
    "#     2. Tuple supports +ve and -ve index both\n",
    "#     3. +ve index starts from 0 from Left Side\n",
    "#     4. -ve index starts from -1 from right Side\n",
    "#     5. Indexing, slicing, cocatenation, repetition, Membership and length\n",
    "\n",
    "# tpl = (10, 10.20, 10+20j, None, True, 'Python', [1, 2, 3], (1, 2, 3))\n",
    "# print('Accessing first characters: ')\n",
    "# print(tpl[0])\n",
    "# print(tpl[-len(tpl)])\n",
    "# print(tpl[-8])\n",
    "\n",
    "# print('Accessing last characters: ')\n",
    "# print(tpl[-1])\n",
    "# print(tpl[len(tpl)-1])\n",
    "# print(tpl[7])\n",
    "\n",
    "\n",
    "# print('Slicing a tuple: ')\n",
    "# Slicing creates an new object\n",
    "# print(tpl[3:6:])\n",
    "# print(tpl[::-1])\n",
    "# print(tpl)\n",
    "\n",
    "# tpl1 = (10, 20, 30, 40)\n",
    "# tpl2 = (1, 2, 3, 4)\n",
    "# print(tpl1+tpl2)\n",
    "\n",
    "# tpl = (10, 11, 12, 13)\n",
    "# print(tpl*3)\n",
    "\n",
    "# tpl = (10, 10.20, 10+20j, None, True, 'Python', [1, 2, 3], (1, 2, 3))\n",
    "# print(None in tpl)\n",
    "# print(False in tpl)\n",
    "\n",
    "# print(len(tpl))\n",
    "\n",
    "# Tuple also can have duplicate elements\n",
    "# tpl = (10, 10.20, 10+20j, None, True, 'Python', 10+20j, 10)\n",
    "# print(tpl)\n",
    "\n",
    "\n",
    "# a = 10+20j\n",
    "# print(a)\n",
    "\n",
    "# Tuple is a collection of heterogeneous elements\n",
    "# tpl = (10, 10.20, 10+20j, None, True, 'Python', 10+20j, 10)\n",
    "# print(tpl)\n",
    "\n",
    "# Note:- Parenthesis are optional\n",
    "# While creating a tuple with single element, comma is mandatory\n",
    "\n",
    "\n"
   ]
  },
  {
   "cell_type": "code",
   "execution_count": 5,
   "id": "e3c1f65f",
   "metadata": {},
   "outputs": [
    {
     "name": "stdout",
     "output_type": "stream",
     "text": [
      "<class 'tuple'>\n"
     ]
    }
   ],
   "source": [
    "a =10,\n",
    "print(type(a))"
   ]
  },
  {
   "cell_type": "code",
   "execution_count": null,
   "id": "618bf86b",
   "metadata": {},
   "outputs": [],
   "source": []
  }
 ],
 "metadata": {
  "kernelspec": {
   "display_name": "Python 3 (ipykernel)",
   "language": "python",
   "name": "python3"
  },
  "language_info": {
   "codemirror_mode": {
    "name": "ipython",
    "version": 3
   },
   "file_extension": ".py",
   "mimetype": "text/x-python",
   "name": "python",
   "nbconvert_exporter": "python",
   "pygments_lexer": "ipython3",
   "version": "3.9.12"
  }
 },
 "nbformat": 4,
 "nbformat_minor": 5
}
